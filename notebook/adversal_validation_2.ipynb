{
 "nbformat": 4,
 "nbformat_minor": 2,
 "metadata": {
  "language_info": {
   "name": "python",
   "codemirror_mode": {
    "name": "ipython",
    "version": 3
   },
   "version": "3.7.6-final"
  },
  "orig_nbformat": 2,
  "file_extension": ".py",
  "mimetype": "text/x-python",
  "name": "python",
  "npconvert_exporter": "python",
  "pygments_lexer": "ipython3",
  "version": 3,
  "kernelspec": {
   "name": "python37664bit9025878f636247c5ae672c7e619bf82e",
   "display_name": "Python 3.7.6 64-bit"
  }
 },
 "cells": [
  {
   "cell_type": "code",
   "execution_count": 1,
   "metadata": {},
   "outputs": [],
   "source": [
    "import numpy as np\n",
    "import pandas as pd\n",
    "import lightgbm as lgb\n",
    "\n",
    "import random\n",
    "from collections import Counter, defaultdict"
   ]
  },
  {
   "source": [
    "def stratified_group_k_fold(X, y, groups, k, seed=None):\n",
    "    np.random.seed(seed)\n",
    "    # ラベルの数をカウント\n",
    "    labels_num = np.max(y) + 1\n",
    "    # 各グループのラベルの数をカウントする\n",
    "    y_counts_per_group = defaultdict(lambda: np.zeros(labels_num))\n",
    "    y_distr = Counter()\n",
    "    for label, g in zip(y, groups):\n",
    "        y_counts_per_group[g][label] += 1\n",
    "        y_distr[label] += 1\n",
    "    # 各フォールドのラベルの数をカウント\n",
    "    y_counts_per_fold = defaultdict(lambda: np.zeros(labels_num))\n",
    "    groups_per_fold = defaultdict(set)\n",
    "\n",
    "    def eval_y_counts_per_fold(y_counts, fold):\n",
    "        y_counts_per_fold[fold] += y_counts\n",
    "        std_per_label = []\n",
    "        for label in range(labels_num):\n",
    "            label_std = np.std([y_counts_per_fold[i][label] / y_distr[label] for i in range(k)])\n",
    "            std_per_label.append(label_std)\n",
    "        y_counts_per_fold[fold] -= y_counts\n",
    "        return np.mean(std_per_label)\n",
    "\n",
    "    groups_and_y_counts = list(y_counts_per_group.items())\n",
    "    random.Random(seed).shuffle(groups_and_y_counts)\n",
    "\n",
    "    for g, y_counts in sorted(groups_and_y_counts, key=lambda x: -np.std(x[1])):\n",
    "        best_fold = None\n",
    "        min_eval = None\n",
    "        for i in range(k):\n",
    "            fold_eval = eval_y_counts_per_fold(y_counts, i)\n",
    "            if min_eval is None or fold_eval < min_eval:\n",
    "                min_eval = fold_eval\n",
    "                best_fold = i\n",
    "        y_counts_per_fold[best_fold] += y_counts\n",
    "        groups_per_fold[best_fold].add(g)\n",
    "\n",
    "    all_groups = set(groups)\n",
    "\n",
    "    for i in range(k):\n",
    "        test_k = i\n",
    "        # val_k = i+1 if i+1 != k else 0\n",
    "        # print(val_k)\n",
    "        train_groups = all_groups - groups_per_fold[test_k]  #  - groups_per_fold[val_k]\n",
    "        # val_groups = groups_per_fold[val_k]\n",
    "        test_groups = groups_per_fold[test_k]\n",
    "        # print(test_groups)\n",
    "        # train_indices = [i for i, g in enumerate(groups) if g in train_groups]\n",
    "        # val_indices = [i for i, g in enumerate(groups) if g in val_groups]\n",
    "        # test_indices = {str(g): [i for i, g in enumerate(groups) if g in test_groups]}\n",
    "\n",
    "        def choice_ind(group):\n",
    "            indices = []\n",
    "            n_g = None\n",
    "            list_ = []\n",
    "            for i, g in enumerate(groups):\n",
    "                if g in group:\n",
    "                    if n_g is not None and n_g != g:\n",
    "                        indices.append(list_)\n",
    "                        list_ = []\n",
    "                    list_.append(i)\n",
    "                    n_g = g\n",
    "\n",
    "            indices = [np.random.choice(i) for i in indices]\n",
    "            return indices\n",
    "\n",
    "        train_indices = choice_ind(train_groups)\n",
    "        test_indices = choice_ind(test_groups)\n",
    "        # print(train_indices)\n",
    "        yield train_indices, test_indices  # val_indices,"
   ],
   "cell_type": "code",
   "outputs": [],
   "metadata": {},
   "execution_count": 25
  },
  {
   "cell_type": "code",
   "execution_count": 3,
   "metadata": {},
   "outputs": [],
   "source": [
    "train_path = '/code/data/processed/proceeded_train_20200116_102618.csv'\n",
    "test_path = '/code/data/processed/proceeded_test_20200116_102618.csv'\n",
    "\n",
    "train = pd.read_csv(train_path, index_col=0)\n",
    "test = pd.read_csv(test_path, index_col=0)"
   ]
  },
  {
   "cell_type": "code",
   "execution_count": 4,
   "metadata": {},
   "outputs": [
    {
     "data": {
      "text/html": "<div>\n<style scoped>\n    .dataframe tbody tr th:only-of-type {\n        vertical-align: middle;\n    }\n\n    .dataframe tbody tr th {\n        vertical-align: top;\n    }\n\n    .dataframe thead th {\n        text-align: right;\n    }\n</style>\n<table border=\"1\" class=\"dataframe\">\n  <thead>\n    <tr style=\"text-align: right;\">\n      <th></th>\n      <th>Clip</th>\n      <th>Activity</th>\n      <th>Assessment</th>\n      <th>Game</th>\n      <th>session_title</th>\n      <th>count_correct_attempts</th>\n      <th>count_uncorrect_attempts</th>\n      <th>count_accuracy</th>\n      <th>acc_Cart Balancer (Assessment)</th>\n      <th>acc_Cauldron Filler (Assessment)</th>\n      <th>...</th>\n      <th>label_count_action_label_description_val</th>\n      <th>count_label_count_action_label_description_val</th>\n      <th>label_session_title_description_val</th>\n      <th>count_label_session_title_description_val</th>\n      <th>label_session_title_count_action_label</th>\n      <th>count_label_session_title_count_action_label</th>\n      <th>label_session_title_count_accuracy_label</th>\n      <th>count_label_session_title_count_accuracy_label</th>\n      <th>label_session_title_mean_accuracy_group_label</th>\n      <th>count_label_session_title_mean_accuracy_group_label</th>\n    </tr>\n  </thead>\n  <tbody>\n    <tr>\n      <th>0</th>\n      <td>11</td>\n      <td>3</td>\n      <td>0</td>\n      <td>4</td>\n      <td>42</td>\n      <td>0</td>\n      <td>0</td>\n      <td>0.0</td>\n      <td>-1.0</td>\n      <td>-1.0</td>\n      <td>...</td>\n      <td>99</td>\n      <td>337</td>\n      <td>158</td>\n      <td>763</td>\n      <td>46</td>\n      <td>747</td>\n      <td>20</td>\n      <td>1115</td>\n      <td>20</td>\n      <td>1115</td>\n    </tr>\n    <tr>\n      <th>1</th>\n      <td>14</td>\n      <td>4</td>\n      <td>1</td>\n      <td>6</td>\n      <td>30</td>\n      <td>1</td>\n      <td>0</td>\n      <td>1.0</td>\n      <td>-1.0</td>\n      <td>-1.0</td>\n      <td>...</td>\n      <td>104</td>\n      <td>488</td>\n      <td>76</td>\n      <td>959</td>\n      <td>27</td>\n      <td>814</td>\n      <td>14</td>\n      <td>463</td>\n      <td>14</td>\n      <td>463</td>\n    </tr>\n    <tr>\n      <th>2</th>\n      <td>14</td>\n      <td>4</td>\n      <td>2</td>\n      <td>6</td>\n      <td>42</td>\n      <td>1</td>\n      <td>11</td>\n      <td>0.5</td>\n      <td>-1.0</td>\n      <td>-1.0</td>\n      <td>...</td>\n      <td>129</td>\n      <td>290</td>\n      <td>154</td>\n      <td>370</td>\n      <td>47</td>\n      <td>1006</td>\n      <td>22</td>\n      <td>1192</td>\n      <td>22</td>\n      <td>1036</td>\n    </tr>\n    <tr>\n      <th>3</th>\n      <td>24</td>\n      <td>9</td>\n      <td>4</td>\n      <td>10</td>\n      <td>42</td>\n      <td>2</td>\n      <td>11</td>\n      <td>0.5</td>\n      <td>-1.0</td>\n      <td>-1.0</td>\n      <td>...</td>\n      <td>130</td>\n      <td>522</td>\n      <td>155</td>\n      <td>534</td>\n      <td>47</td>\n      <td>1006</td>\n      <td>22</td>\n      <td>1192</td>\n      <td>22</td>\n      <td>1036</td>\n    </tr>\n    <tr>\n      <th>4</th>\n      <td>28</td>\n      <td>10</td>\n      <td>5</td>\n      <td>13</td>\n      <td>30</td>\n      <td>3</td>\n      <td>12</td>\n      <td>0.5</td>\n      <td>-1.0</td>\n      <td>-1.0</td>\n      <td>...</td>\n      <td>104</td>\n      <td>488</td>\n      <td>76</td>\n      <td>959</td>\n      <td>27</td>\n      <td>814</td>\n      <td>12</td>\n      <td>1012</td>\n      <td>12</td>\n      <td>883</td>\n    </tr>\n  </tbody>\n</table>\n<p>5 rows × 701 columns</p>\n</div>",
      "text/plain": "   Clip  Activity  Assessment  Game  session_title  count_correct_attempts  \\\n0    11         3           0     4             42                       0   \n1    14         4           1     6             30                       1   \n2    14         4           2     6             42                       1   \n3    24         9           4    10             42                       2   \n4    28        10           5    13             30                       3   \n\n   count_uncorrect_attempts  count_accuracy  acc_Cart Balancer (Assessment)  \\\n0                         0             0.0                            -1.0   \n1                         0             1.0                            -1.0   \n2                        11             0.5                            -1.0   \n3                        11             0.5                            -1.0   \n4                        12             0.5                            -1.0   \n\n   acc_Cauldron Filler (Assessment)  ...  \\\n0                              -1.0  ...   \n1                              -1.0  ...   \n2                              -1.0  ...   \n3                              -1.0  ...   \n4                              -1.0  ...   \n\n   label_count_action_label_description_val  \\\n0                                        99   \n1                                       104   \n2                                       129   \n3                                       130   \n4                                       104   \n\n   count_label_count_action_label_description_val  \\\n0                                             337   \n1                                             488   \n2                                             290   \n3                                             522   \n4                                             488   \n\n   label_session_title_description_val  \\\n0                                  158   \n1                                   76   \n2                                  154   \n3                                  155   \n4                                   76   \n\n   count_label_session_title_description_val  \\\n0                                        763   \n1                                        959   \n2                                        370   \n3                                        534   \n4                                        959   \n\n   label_session_title_count_action_label  \\\n0                                      46   \n1                                      27   \n2                                      47   \n3                                      47   \n4                                      27   \n\n   count_label_session_title_count_action_label  \\\n0                                           747   \n1                                           814   \n2                                          1006   \n3                                          1006   \n4                                           814   \n\n   label_session_title_count_accuracy_label  \\\n0                                        20   \n1                                        14   \n2                                        22   \n3                                        22   \n4                                        12   \n\n   count_label_session_title_count_accuracy_label  \\\n0                                            1115   \n1                                             463   \n2                                            1192   \n3                                            1192   \n4                                            1012   \n\n   label_session_title_mean_accuracy_group_label  \\\n0                                             20   \n1                                             14   \n2                                             22   \n3                                             22   \n4                                             12   \n\n   count_label_session_title_mean_accuracy_group_label  \n0                                               1115    \n1                                                463    \n2                                               1036    \n3                                               1036    \n4                                                883    \n\n[5 rows x 701 columns]"
     },
     "execution_count": 4,
     "metadata": {},
     "output_type": "execute_result"
    }
   ],
   "source": [
    "train.head()"
   ]
  },
  {
   "cell_type": "code",
   "execution_count": 5,
   "metadata": {},
   "outputs": [],
   "source": [
    "train['target'] = 0\n",
    "test['target'] = 1"
   ]
  },
  {
   "cell_type": "code",
   "execution_count": 6,
   "metadata": {},
   "outputs": [
    {
     "data": {
      "text/plain": "0      1\n1      1\n2      1\n3      1\n4      1\n      ..\n995    1\n996    1\n997    1\n998    1\n999    1\nName: target, Length: 1000, dtype: int64"
     },
     "execution_count": 6,
     "metadata": {},
     "output_type": "execute_result"
    }
   ],
   "source": [
    "test['target']"
   ]
  },
  {
   "cell_type": "code",
   "execution_count": 7,
   "metadata": {},
   "outputs": [],
   "source": [
    "train_df = pd.concat([train, test])\n",
    "train_df.columns = train_df.columns.str.replace(',', '')"
   ]
  },
  {
   "cell_type": "code",
   "execution_count": 15,
   "metadata": {},
   "outputs": [
    {
     "data": {
      "text/html": "<div>\n<style scoped>\n    .dataframe tbody tr th:only-of-type {\n        vertical-align: middle;\n    }\n\n    .dataframe tbody tr th {\n        vertical-align: top;\n    }\n\n    .dataframe thead th {\n        text-align: right;\n    }\n</style>\n<table border=\"1\" class=\"dataframe\">\n  <thead>\n    <tr style=\"text-align: right;\">\n      <th></th>\n      <th>Clip</th>\n      <th>Activity</th>\n      <th>Assessment</th>\n      <th>Game</th>\n      <th>session_title</th>\n      <th>count_correct_attempts</th>\n      <th>count_uncorrect_attempts</th>\n      <th>count_accuracy</th>\n      <th>acc_Cart Balancer (Assessment)</th>\n      <th>acc_Cauldron Filler (Assessment)</th>\n      <th>...</th>\n      <th>count_label_count_action_label_description_val</th>\n      <th>label_session_title_description_val</th>\n      <th>count_label_session_title_description_val</th>\n      <th>label_session_title_count_action_label</th>\n      <th>count_label_session_title_count_action_label</th>\n      <th>label_session_title_count_accuracy_label</th>\n      <th>count_label_session_title_count_accuracy_label</th>\n      <th>label_session_title_mean_accuracy_group_label</th>\n      <th>count_label_session_title_mean_accuracy_group_label</th>\n      <th>target</th>\n    </tr>\n  </thead>\n  <tbody>\n    <tr>\n      <th>0</th>\n      <td>11</td>\n      <td>3</td>\n      <td>0</td>\n      <td>4</td>\n      <td>42</td>\n      <td>0</td>\n      <td>0</td>\n      <td>0.000000</td>\n      <td>-1.0</td>\n      <td>-1.0</td>\n      <td>...</td>\n      <td>337.0</td>\n      <td>158</td>\n      <td>763.0</td>\n      <td>46</td>\n      <td>747</td>\n      <td>20</td>\n      <td>1115</td>\n      <td>20</td>\n      <td>1115</td>\n      <td>0</td>\n    </tr>\n    <tr>\n      <th>1</th>\n      <td>14</td>\n      <td>4</td>\n      <td>1</td>\n      <td>6</td>\n      <td>30</td>\n      <td>1</td>\n      <td>0</td>\n      <td>1.000000</td>\n      <td>-1.0</td>\n      <td>-1.0</td>\n      <td>...</td>\n      <td>488.0</td>\n      <td>76</td>\n      <td>959.0</td>\n      <td>27</td>\n      <td>814</td>\n      <td>14</td>\n      <td>463</td>\n      <td>14</td>\n      <td>463</td>\n      <td>0</td>\n    </tr>\n    <tr>\n      <th>2</th>\n      <td>14</td>\n      <td>4</td>\n      <td>2</td>\n      <td>6</td>\n      <td>42</td>\n      <td>1</td>\n      <td>11</td>\n      <td>0.500000</td>\n      <td>-1.0</td>\n      <td>-1.0</td>\n      <td>...</td>\n      <td>290.0</td>\n      <td>154</td>\n      <td>370.0</td>\n      <td>47</td>\n      <td>1006</td>\n      <td>22</td>\n      <td>1192</td>\n      <td>22</td>\n      <td>1036</td>\n      <td>0</td>\n    </tr>\n    <tr>\n      <th>3</th>\n      <td>24</td>\n      <td>9</td>\n      <td>4</td>\n      <td>10</td>\n      <td>42</td>\n      <td>2</td>\n      <td>11</td>\n      <td>0.500000</td>\n      <td>-1.0</td>\n      <td>-1.0</td>\n      <td>...</td>\n      <td>522.0</td>\n      <td>155</td>\n      <td>534.0</td>\n      <td>47</td>\n      <td>1006</td>\n      <td>22</td>\n      <td>1192</td>\n      <td>22</td>\n      <td>1036</td>\n      <td>0</td>\n    </tr>\n    <tr>\n      <th>4</th>\n      <td>28</td>\n      <td>10</td>\n      <td>5</td>\n      <td>13</td>\n      <td>30</td>\n      <td>3</td>\n      <td>12</td>\n      <td>0.500000</td>\n      <td>-1.0</td>\n      <td>-1.0</td>\n      <td>...</td>\n      <td>488.0</td>\n      <td>76</td>\n      <td>959.0</td>\n      <td>27</td>\n      <td>814</td>\n      <td>12</td>\n      <td>1012</td>\n      <td>12</td>\n      <td>883</td>\n      <td>0</td>\n    </tr>\n    <tr>\n      <th>...</th>\n      <td>...</td>\n      <td>...</td>\n      <td>...</td>\n      <td>...</td>\n      <td>...</td>\n      <td>...</td>\n      <td>...</td>\n      <td>...</td>\n      <td>...</td>\n      <td>...</td>\n      <td>...</td>\n      <td>...</td>\n      <td>...</td>\n      <td>...</td>\n      <td>...</td>\n      <td>...</td>\n      <td>...</td>\n      <td>...</td>\n      <td>...</td>\n      <td>...</td>\n      <td>...</td>\n    </tr>\n    <tr>\n      <th>995</th>\n      <td>4</td>\n      <td>0</td>\n      <td>3</td>\n      <td>1</td>\n      <td>19</td>\n      <td>2</td>\n      <td>0</td>\n      <td>0.666667</td>\n      <td>-1.0</td>\n      <td>-1.0</td>\n      <td>...</td>\n      <td>357.0</td>\n      <td>68</td>\n      <td>380.0</td>\n      <td>15</td>\n      <td>453</td>\n      <td>7</td>\n      <td>1256</td>\n      <td>8</td>\n      <td>870</td>\n      <td>1</td>\n    </tr>\n    <tr>\n      <th>996</th>\n      <td>11</td>\n      <td>2</td>\n      <td>1</td>\n      <td>2</td>\n      <td>39</td>\n      <td>1</td>\n      <td>0</td>\n      <td>1.000000</td>\n      <td>1.0</td>\n      <td>-1.0</td>\n      <td>...</td>\n      <td>357.0</td>\n      <td>125</td>\n      <td>913.0</td>\n      <td>35</td>\n      <td>351</td>\n      <td>19</td>\n      <td>532</td>\n      <td>19</td>\n      <td>532</td>\n      <td>1</td>\n    </tr>\n    <tr>\n      <th>997</th>\n      <td>32</td>\n      <td>2</td>\n      <td>4</td>\n      <td>0</td>\n      <td>13</td>\n      <td>3</td>\n      <td>6</td>\n      <td>0.583333</td>\n      <td>-1.0</td>\n      <td>1.0</td>\n      <td>...</td>\n      <td>572.0</td>\n      <td>29</td>\n      <td>416.0</td>\n      <td>6</td>\n      <td>963</td>\n      <td>2</td>\n      <td>1308</td>\n      <td>2</td>\n      <td>1163</td>\n      <td>1</td>\n    </tr>\n    <tr>\n      <th>998</th>\n      <td>11</td>\n      <td>3</td>\n      <td>3</td>\n      <td>1</td>\n      <td>13</td>\n      <td>2</td>\n      <td>4</td>\n      <td>0.250000</td>\n      <td>-1.0</td>\n      <td>0.0</td>\n      <td>...</td>\n      <td>87.0</td>\n      <td>21</td>\n      <td>135.0</td>\n      <td>5</td>\n      <td>654</td>\n      <td>1</td>\n      <td>557</td>\n      <td>2</td>\n      <td>1163</td>\n      <td>1</td>\n    </tr>\n    <tr>\n      <th>999</th>\n      <td>3</td>\n      <td>0</td>\n      <td>1</td>\n      <td>0</td>\n      <td>30</td>\n      <td>1</td>\n      <td>0</td>\n      <td>1.000000</td>\n      <td>-1.0</td>\n      <td>-1.0</td>\n      <td>...</td>\n      <td>15.0</td>\n      <td>101</td>\n      <td>227.0</td>\n      <td>23</td>\n      <td>27</td>\n      <td>14</td>\n      <td>463</td>\n      <td>14</td>\n      <td>463</td>\n      <td>1</td>\n    </tr>\n  </tbody>\n</table>\n<p>18690 rows × 702 columns</p>\n</div>",
      "text/plain": "     Clip  Activity  Assessment  Game  session_title  count_correct_attempts  \\\n0      11         3           0     4             42                       0   \n1      14         4           1     6             30                       1   \n2      14         4           2     6             42                       1   \n3      24         9           4    10             42                       2   \n4      28        10           5    13             30                       3   \n..    ...       ...         ...   ...            ...                     ...   \n995     4         0           3     1             19                       2   \n996    11         2           1     2             39                       1   \n997    32         2           4     0             13                       3   \n998    11         3           3     1             13                       2   \n999     3         0           1     0             30                       1   \n\n     count_uncorrect_attempts  count_accuracy  acc_Cart Balancer (Assessment)  \\\n0                           0        0.000000                            -1.0   \n1                           0        1.000000                            -1.0   \n2                          11        0.500000                            -1.0   \n3                          11        0.500000                            -1.0   \n4                          12        0.500000                            -1.0   \n..                        ...             ...                             ...   \n995                         0        0.666667                            -1.0   \n996                         0        1.000000                             1.0   \n997                         6        0.583333                            -1.0   \n998                         4        0.250000                            -1.0   \n999                         0        1.000000                            -1.0   \n\n     acc_Cauldron Filler (Assessment)  ...  \\\n0                                -1.0  ...   \n1                                -1.0  ...   \n2                                -1.0  ...   \n3                                -1.0  ...   \n4                                -1.0  ...   \n..                                ...  ...   \n995                              -1.0  ...   \n996                              -1.0  ...   \n997                               1.0  ...   \n998                               0.0  ...   \n999                              -1.0  ...   \n\n     count_label_count_action_label_description_val  \\\n0                                             337.0   \n1                                             488.0   \n2                                             290.0   \n3                                             522.0   \n4                                             488.0   \n..                                              ...   \n995                                           357.0   \n996                                           357.0   \n997                                           572.0   \n998                                            87.0   \n999                                            15.0   \n\n     label_session_title_description_val  \\\n0                                    158   \n1                                     76   \n2                                    154   \n3                                    155   \n4                                     76   \n..                                   ...   \n995                                   68   \n996                                  125   \n997                                   29   \n998                                   21   \n999                                  101   \n\n     count_label_session_title_description_val  \\\n0                                        763.0   \n1                                        959.0   \n2                                        370.0   \n3                                        534.0   \n4                                        959.0   \n..                                         ...   \n995                                      380.0   \n996                                      913.0   \n997                                      416.0   \n998                                      135.0   \n999                                      227.0   \n\n     label_session_title_count_action_label  \\\n0                                        46   \n1                                        27   \n2                                        47   \n3                                        47   \n4                                        27   \n..                                      ...   \n995                                      15   \n996                                      35   \n997                                       6   \n998                                       5   \n999                                      23   \n\n     count_label_session_title_count_action_label  \\\n0                                             747   \n1                                             814   \n2                                            1006   \n3                                            1006   \n4                                             814   \n..                                            ...   \n995                                           453   \n996                                           351   \n997                                           963   \n998                                           654   \n999                                            27   \n\n     label_session_title_count_accuracy_label  \\\n0                                          20   \n1                                          14   \n2                                          22   \n3                                          22   \n4                                          12   \n..                                        ...   \n995                                         7   \n996                                        19   \n997                                         2   \n998                                         1   \n999                                        14   \n\n     count_label_session_title_count_accuracy_label  \\\n0                                              1115   \n1                                               463   \n2                                              1192   \n3                                              1192   \n4                                              1012   \n..                                              ...   \n995                                            1256   \n996                                             532   \n997                                            1308   \n998                                             557   \n999                                             463   \n\n     label_session_title_mean_accuracy_group_label  \\\n0                                               20   \n1                                               14   \n2                                               22   \n3                                               22   \n4                                               12   \n..                                             ...   \n995                                              8   \n996                                             19   \n997                                              2   \n998                                              2   \n999                                             14   \n\n     count_label_session_title_mean_accuracy_group_label  target  \n0                                                 1115         0  \n1                                                  463         0  \n2                                                 1036         0  \n3                                                 1036         0  \n4                                                  883         0  \n..                                                 ...       ...  \n995                                                870         1  \n996                                                532         1  \n997                                               1163         1  \n998                                               1163         1  \n999                                                463         1  \n\n[18690 rows x 702 columns]"
     },
     "execution_count": 15,
     "metadata": {},
     "output_type": "execute_result"
    }
   ],
   "source": [
    "train_df"
   ]
  },
  {
   "cell_type": "code",
   "execution_count": 8,
   "metadata": {},
   "outputs": [
    {
     "data": {
      "text/plain": "(18690, 702)"
     },
     "execution_count": 8,
     "metadata": {},
     "output_type": "execute_result"
    }
   ],
   "source": [
    "train_df.shape"
   ]
  },
  {
   "cell_type": "code",
   "execution_count": 22,
   "metadata": {},
   "outputs": [],
   "source": [
    "y = train_df['target']\n",
    "x = train_df.drop('target', axis=1)\n",
    "groups = np.array(x['installation_id'])\n",
    "lgb_params = {\n",
    "        'objective': 'binary',\n",
    "        'metric': 'auc',\n",
    "    }\n",
    "x = x.drop(['accuracy_group', 'installation_id'], axis=1)"
   ]
  },
  {
   "source": [
    "def lgb_regression(x, y, groups, lgb_params) -> pd.DataFrame:\n",
    "\n",
    "    num_fold = 3\n",
    "    pred = np.zeros(y.shape)\n",
    "    all_importance = []\n",
    "\n",
    "    for fold_ind, (train_ind, test_ind) in enumerate(\n",
    "            stratified_group_k_fold(X=x, y=y, groups=groups, k=num_fold, seed=77)):\n",
    "        print(train_ind)\n",
    "        print(test_ind)\n",
    "        x_train = x.iloc[train_ind]\n",
    "        y_train = y.iloc[train_ind]\n",
    "        x_test = x.iloc[test_ind]\n",
    "        y_test = y.iloc[test_ind]\n",
    "        lgb_train = lgb.Dataset(x_train, y_train)\n",
    "        lgb_val = lgb.Dataset(x_test, y_test, reference=lgb_train)\n",
    "\n",
    "        model = lgb.train(params=lgb_params,\n",
    "                          train_set=lgb_train,\n",
    "                          valid_sets=lgb_val)\n",
    "\n",
    "        pred[test_ind] = model.predict(x_test, num_iteration=model.best_iteration)\n",
    "\n",
    "        all_importance.append(pd.DataFrame(model.feature_importance('gain'), index=x_train.columns))\n",
    "\n",
    "    all_importance = pd.concat(all_importance, axis=1)\n",
    "    return pred, all_importance\n",
    ""
   ],
   "cell_type": "code",
   "outputs": [],
   "metadata": {},
   "execution_count": 26
  },
  {
   "source": [
    "pred, importance = lgb_regression(x, y, groups, lgb_params)"
   ],
   "cell_type": "code",
   "outputs": [
    {
     "output_type": "stream",
     "name": "stdout",
     "text": "2, 15324, 15332, 15333, 15348, 15357, 15361, 15362, 15365, 15378, 15383, 15386, 15390, 15393, 15397, 15399, 15403, 15405, 15410, 15417, 15425, 15426, 15427, 15448, 15451, 15455, 15459, 15466, 15479, 15485, 15496, 15501, 15512, 15516, 15519, 15529, 15531, 15533, 15537, 15539, 15542, 15546, 15547, 15549, 15551, 15555, 15561, 15564, 15569, 15574, 15578, 15581, 15582, 15590, 15592, 15593, 15595, 15602, 15607, 15620, 15625, 15635, 15649, 15655, 15660, 15665, 15671, 15683, 15687, 15691, 15692, 15702, 15709, 15713, 15716, 15717, 15733, 15740, 15743, 15768, 15776, 15780, 15783, 15792, 15794, 15797, 15807, 15811, 15813, 15819, 15822, 15823, 15827, 15830, 15831, 15832, 15838, 15852, 15854, 15859, 15861, 15866, 15889, 15890, 15900, 15901, 15903, 15913, 15928, 15931, 15943, 15944, 15946, 15948, 15950, 15952, 15962, 15972, 15977, 15982, 16002, 16003, 16006, 16007, 16010, 16013, 16017, 16021, 16023, 16024, 16025, 16038, 16040, 16050, 16054, 16058, 16061, 16068, 16078, 16095, 16110, 16124, 16128, 16140, 16146, 16149, 16160, 16161, 16185, 16190, 16192, 16200, 16216, 16218, 16219, 16223, 16228, 16231, 16233, 16238, 16240, 16272, 16273, 16274, 16275, 16279, 16282, 16288, 16295, 16329, 16331, 16335, 16337, 16348, 16353, 16371, 16381, 16384, 16397, 16401, 16402, 16422, 16426, 16443, 16445, 16448, 16456, 16467, 16469, 16475, 16481, 16487, 16488, 16489, 16491, 16496, 16504, 16505, 16506, 16546, 16550, 16553, 16556, 16569, 16571, 16572, 16587, 16627, 16628, 16629, 16630, 16633, 16635, 16637, 16644, 16655, 16743, 16788, 16792, 16797, 16800, 16804, 16807, 16832, 16833, 16847, 16850, 16856, 16857, 16861, 16866, 16868, 16870, 16875, 16886, 16889, 16898, 16902, 16910, 16911, 16916, 16929, 16932, 16937, 16943, 16946, 16953, 16954, 16956, 16957, 16970, 17002, 17004, 17010, 17011, 17022, 17037, 17039, 17040, 17041, 17076, 17087, 17090, 17091, 17100, 17101, 17111, 17118, 17149, 17156, 17162, 17165, 17173, 17175, 17176, 17185, 17188, 17195, 17199, 17219, 17230, 17233, 17238, 17251, 17268, 17269, 17273, 17281, 17285, 17287, 17288, 17295, 17297, 17307, 17316, 17335, 17351, 17363, 17365, 17369, 17387, 17394, 17397, 17398, 17411, 17432, 17448, 17451, 17468, 17478, 17479, 17480, 17505, 17519, 17536, 17546, 17548, 17570, 17571, 17572, 17573, 17576, 17578, 17590, 17591, 17598, 17599, 17610, 17619, 17622, 17624, 17625, 17626, 17632, 17639, 17640, 17642, 17643, 17647, 17657, 17678, 17684, 17686, 17690, 17692, 17694, 17696, 17697, 17700, 17702, 17704, 17705, 17708, 17710, 17712, 17714, 17715, 17716, 17718, 17719, 17720, 17721, 17723, 17725, 17727, 17729, 17730, 17731, 17734, 17735, 17738, 17739, 17741, 17743, 17744, 17745, 17746, 17747, 17748, 17749, 17752, 17754, 17756, 17758, 17760, 17761, 17762, 17763, 17764, 17767, 17768, 17769, 17770, 17771, 17772, 17774, 17776, 17777, 17779, 17780, 17781, 17784, 17786, 17787, 17788, 17789, 17790, 17792, 17793, 17794, 17795, 17796, 17797, 17798, 17800, 17806, 17807, 17808, 17809, 17810, 17813, 17814, 17815, 17816, 17817, 17818, 17819, 17820, 17822, 17823, 17824, 17827, 17828, 17830, 17832, 17834, 17835, 17837, 17838, 17839, 17840, 17841, 17842, 17843, 17845, 17846, 17847, 17849, 17850, 17852, 17853, 17857, 17858, 17860, 17861, 17862, 17863, 17865, 17867, 17869, 17870, 17871, 17872, 17874, 17875, 17877, 17878, 17879, 17880, 17882, 17883, 17884, 17886, 17887, 17889, 17891, 17892, 17894, 17895, 17898, 17899, 17901, 17903, 17904, 17905, 17906, 17908, 17910, 17911, 17912, 17916, 17918, 17919, 17920, 17922, 17923, 17925, 17926, 17927, 17930, 17931, 17932, 17933, 17934, 17935, 17936, 17937, 17938, 17939, 17941, 17942, 17945, 17946, 17947, 17949, 17950, 17952, 17953, 17954, 17955, 17957, 17958, 17959, 17963, 17965, 17967, 17968, 17969, 17970, 17971, 17972, 17975, 17976, 17977, 17978, 17980, 17984, 17985, 17986, 17987, 17988, 17990, 17993, 17995, 17996, 18000, 18001, 18002, 18003, 18005, 18007, 18008, 18010, 18011, 18017, 18019, 18021, 18022, 18023, 18024, 18025, 18026, 18028, 18029, 18030, 18031, 18032, 18033, 18034, 18035, 18038, 18039, 18041, 18042, 18043, 18044, 18045, 18046, 18047, 18048, 18049, 18050, 18051, 18052, 18057, 18058, 18059, 18060, 18061, 18062, 18064, 18068, 18069, 18070, 18072, 18073, 18074, 18075, 18077, 18079, 18082, 18083, 18086, 18087, 18088, 18089, 18090, 18091, 18092, 18095, 18096, 18097, 18099, 18101, 18102, 18104, 18107, 18108, 18110, 18111, 18112, 18115, 18117, 18118, 18119, 18120, 18122, 18124, 18126, 18128, 18130, 18131, 18132, 18133, 18134, 18135, 18137, 18138, 18141, 18143, 18144, 18150, 18152, 18153, 18154, 18156, 18157, 18158, 18159, 18160, 18161, 18162, 18164, 18165, 18167, 18171, 18173, 18174, 18176, 18177, 18178, 18179, 18180, 18181, 18184, 18185, 18186, 18188, 18189, 18190, 18192, 18193, 18194, 18195, 18196, 18198, 18199, 18200, 18201, 18204, 18207, 18209, 18210, 18211, 18215, 18216, 18217, 18218, 18220, 18223, 18225, 18226, 18227, 18228, 18229, 18231, 18232, 18233, 18234, 18235, 18236, 18237, 18238, 18239, 18242, 18243, 18244, 18245, 18246, 18247, 18252, 18253, 18254, 18256, 18258, 18259, 18260, 18261, 18262, 18263, 18264, 18267, 18268, 18270, 18271, 18272, 18275, 18276, 18278, 18280, 18281, 18282, 18283, 18286, 18287, 18288, 18291, 18296, 18297, 18298, 18299, 18300, 18301, 18302, 18303, 18304, 18305, 18306, 18309, 18310, 18311, 18313, 18314, 18315, 18316, 18317, 18318, 18319, 18320, 18321, 18323, 18324, 18325, 18327, 18328, 18329, 18331, 18332, 18335, 18336, 18337, 18338, 18339, 18340, 18341, 18343, 18344, 18345, 18346, 18349, 18351, 18353, 18354, 18355, 18358, 18359, 18361, 18362, 18364, 18365, 18366, 18367, 18368, 18369, 18371, 18372, 18373, 18375, 18376, 18377, 18380, 18382, 18384, 18386, 18387, 18391, 18392, 18393, 18394, 18395, 18396, 18397, 18399, 18403, 18405, 18407, 18408, 18409, 18410, 18411, 18412, 18413, 18414, 18415, 18417, 18419, 18420, 18421, 18422, 18423, 18424, 18425, 18426, 18427, 18428, 18429, 18431, 18433, 18434, 18436, 18438, 18439, 18442, 18444, 18446, 18448, 18449, 18451, 18452, 18453, 18455, 18456, 18457, 18459, 18462, 18463, 18464, 18465, 18466, 18468, 18469, 18470, 18472, 18473, 18474, 18475, 18477, 18478, 18479, 18480, 18481, 18482, 18483, 18486, 18487, 18489, 18490, 18492, 18493, 18494, 18495, 18496, 18498, 18499, 18500, 18503, 18505, 18506, 18508, 18509, 18510, 18511, 18512, 18514, 18515, 18517, 18518, 18519, 18520, 18521, 18522, 18523, 18524, 18525, 18526, 18527, 18528, 18529, 18533, 18535, 18536, 18538, 18540, 18541, 18542, 18544, 18546, 18547, 18548, 18550, 18551, 18552, 18557, 18558, 18559, 18560, 18563, 18564, 18565, 18566, 18568, 18569, 18571, 18572, 18574, 18575, 18576, 18578, 18579, 18582, 18584, 18587, 18588, 18589, 18590, 18592, 18593, 18595, 18597, 18600, 18602, 18606, 18607, 18608, 18609, 18610, 18612, 18614, 18616, 18617, 18619, 18620, 18622, 18623, 18624, 18625, 18626, 18627, 18628, 18629, 18630, 18631, 18634, 18636, 18637, 18638, 18640, 18641, 18642, 18643, 18648, 18649, 18651, 18652, 18653, 18654, 18659, 18660, 18661, 18662, 18663, 18665, 18666, 18667, 18668, 18669, 18671, 18672, 18673, 18674, 18675, 18676, 18677, 18680, 18682, 18684, 18686, 18687, 18688]\n[12, 28, 48, 51, 56, 100, 104, 117, 145, 152, 211, 216, 255, 259, 261, 289, 297, 386, 388, 395, 397, 404, 408, 437, 455, 486, 497, 505, 557, 566, 573, 574, 577, 605, 622, 633, 644, 646, 657, 836, 839, 846, 884, 886, 898, 901, 905, 933, 944, 962, 964, 993, 994, 1028, 1031, 1085, 1105, 1115, 1140, 1169, 1182, 1207, 1209, 1217, 1221, 1224, 1235, 1238, 1260, 1285, 1300, 1310, 1312, 1327, 1332, 1357, 1372, 1469, 1473, 1475, 1489, 1498, 1542, 1556, 1560, 1585, 1595, 1597, 1617, 1668, 1683, 1686, 1718, 1720, 1728, 1734, 1735, 1748, 1766, 1773, 1786, 1791, 1817, 1839, 1846, 1861, 1876, 1890, 1893, 1904, 1906, 1911, 1919, 1922, 1924, 1931, 1939, 1956, 1958, 1960, 1995, 2023, 2031, 2037, 2039, 2043, 2207, 2221, 2359, 2362, 2366, 2374, 2403, 2408, 2412, 2427, 2438, 2439, 2451, 2479, 2528, 2577, 2613, 2639, 2652, 2660, 2672, 2689, 2691, 2699, 2721, 2742, 2744, 2745, 2760, 2766, 2789, 2797, 2823, 2832, 2844, 2858, 2864, 2869, 2878, 2894, 2924, 2927, 2931, 2933, 2935, 2944, 2947, 2954, 2963, 2966, 2996, 3023, 3025, 3027, 3029, 3036, 3038, 3039, 3051, 3053, 3055, 3057, 3112, 3126, 3147, 3160, 3162, 3169, 3223, 3250, 3264, 3269, 3299, 3312, 3356, 3365, 3410, 3458, 3462, 3464, 3510, 3529, 3544, 3545, 3555, 3562, 3575, 3603, 3618, 3622, 3672, 3683, 3695, 3707, 3728, 3762, 3790, 3791, 3867, 3878, 3886, 3911, 3912, 3914, 3917, 3922, 3931, 3932, 3962, 3988, 4016, 4019, 4023, 4024, 4032, 4044, 4076, 4106, 4123, 4132, 4152, 4201, 4218, 4269, 4285, 4299, 4309, 4322, 4342, 4346, 4356, 4357, 4362, 4363, 4371, 4380, 4392, 4394, 4414, 4430, 4437, 4450, 4454, 4483, 4496, 4502, 4557, 4582, 4586, 4588, 4606, 4611, 4618, 4639, 4643, 4648, 4681, 4701, 4702, 4706, 4737, 4765, 4776, 4779, 4847, 4859, 4935, 4969, 4979, 5001, 5006, 5019, 5022, 5065, 5067, 5075, 5077, 5091, 5117, 5118, 5139, 5153, 5156, 5166, 5175, 5182, 5184, 5208, 5211, 5228, 5233, 5235, 5243, 5286, 5289, 5292, 5301, 5306, 5320, 5321, 5324, 5346, 5347, 5364, 5370, 5384, 5409, 5415, 5421, 5441, 5447, 5459, 5462, 5467, 5470, 5471, 5489, 5497, 5499, 5507, 5517, 5535, 5567, 5570, 5576, 5578, 5594, 5628, 5638, 5639, 5644, 5647, 5653, 5669, 5684, 5743, 5747, 5756, 5793, 5862, 5892, 5925, 5983, 5984, 5998, 6003, 6005, 6015, 6031, 6035, 6039, 6058, 6063, 6065, 6088, 6096, 6104, 6126, 6189, 6198, 6203, 6213, 6229, 6243, 6257, 6271, 6291, 6318, 6326, 6355, 6364, 6374, 6397, 6427, 6429, 6449, 6502, 6507, 6508, 6514, 6523, 6526, 6530, 6532, 6533, 6534, 6546, 6551, 6596, 6636, 6650, 6688, 6690, 6730, 6744, 6764, 6776, 6786, 6828, 6842, 6844, 6856, 6876, 6885, 6917, 6919, 6931, 6960, 6973, 6983, 7050, 7078, 7091, 7100, 7103, 7129, 7138, 7139, 7141, 7154, 7157, 7164, 7165, 7176, 7178, 7192, 7201, 7202, 7235, 7242, 7247, 7256, 7296, 7313, 7354, 7362, 7370, 7417, 7418, 7435, 7472, 7477, 7483, 7529, 7544, 7549, 7564, 7580, 7589, 7591, 7604, 7614, 7627, 7636, 7647, 7652, 7654, 7671, 7678, 7683, 7703, 7704, 7705, 7754, 7755, 7782, 7788, 7796, 7807, 7820, 7830, 7834, 7852, 7859, 7878, 7902, 7937, 7959, 7966, 7968, 7976, 7981, 8022, 8031, 8043, 8064, 8077, 8097, 8100, 8131, 8132, 8140, 8168, 8177, 8179, 8183, 8239, 8240, 8285, 8308, 8312, 8384, 8454, 8462, 8476, 8481, 8484, 8487, 8494, 8501, 8516, 8522, 8540, 8542, 8552, 8555, 8561, 8578, 8599, 8652, 8659, 8688, 8724, 8736, 8751, 8754, 8756, 8766, 8778, 8790, 8796, 8806, 8809, 8814, 8817, 8824, 8826, 8855, 8869, 8911, 8919, 8935, 8941, 8951, 8954, 8957, 8962, 8968, 8976, 8983, 9075, 9077, 9079, 9084, 9094, 9102, 9107, 9110, 9138, 9150, 9156, 9163, 9175, 9198, 9237, 9238, 9253, 9267, 9268, 9269, 9273, 9283, 9293, 9345, 9370, 9435, 9449, 9453, 9461, 9483, 9511, 9552, 9553, 9589, 9594, 9601, 9606, 9627, 9641, 9648, 9655, 9663, 9669, 9701, 9722, 9738, 9739, 9751, 9758, 9794, 9811, 9812, 9837, 9850, 9851, 9856, 9906, 9908, 9912, 9913, 9918, 9925, 9939, 9940, 9949, 9951, 10080, 10106, 10123, 10148, 10216, 10266, 10269, 10299, 10307, 10320, 10335, 10340, 10388, 10389, 10405, 10424, 10444, 10445, 10447, 10452, 10469, 10475, 10483, 10485, 10493, 10510, 10527, 10534, 10541, 10552, 10553, 10561, 10567, 10592, 10594, 10596, 10613, 10661, 10667, 10714, 10788, 10790, 10800, 10818, 10828, 10836, 10838, 10853, 10865, 10868, 10869, 10882, 10906, 10931, 10933, 10944, 10964, 11019, 11038, 11060, 11073, 11075, 11076, 11100, 11101, 11102, 11104, 11107, 11140, 11149, 11170, 11190, 11195, 11199, 11213, 11215, 11255, 11278, 11294, 11295, 11310, 11315, 11388, 11419, 11517, 11533, 11538, 11539, 11540, 11552, 11560, 11567, 11580, 11581, 11585, 11607, 11611, 11616, 11628, 11643, 11679, 11682, 11694, 11721, 11723, 11733, 11741, 11788, 11806, 11814, 11822, 11823, 11824, 11825, 11850, 11851, 11858, 11878, 11886, 11893, 11905, 11946, 11965, 11994, 11995, 12041, 12056, 12058, 12082, 12087, 12100, 12119, 12129, 12131, 12146, 12168, 12179, 12184, 12188, 12207, 12218, 12227, 12232, 12243, 12244, 12245, 12248, 12259, 12271, 12284, 12285, 12295, 12296, 12303, 12316, 12326, 12327, 12332, 12343, 12361, 12418, 12443, 12452, 12480, 12485, 12493, 12503, 12509, 12521, 12537, 12538, 12546, 12549, 12578, 12585, 12588, 12600, 12615, 12617, 12628, 12672, 12674, 12676, 12679, 12684, 12688, 12691, 12693, 12695, 12697, 12704, 12714, 12718, 12721, 12723, 12724, 12734, 12764, 12765, 12771, 12772, 12776, 12793, 12802, 12836, 12850, 12859, 12877, 12883, 12902, 12908, 12914, 12918, 12946, 12947, 12967, 12975, 12990, 12995, 13006, 13009, 13016, 13061, 13069, 13072, 13086, 13089, 13102, 13120, 13162, 13166, 13189, 13193, 13197, 13217, 13218, 13223, 13226, 13245, 13258, 13281, 13283, 13297, 13333, 13351, 13355, 13356, 13385, 13397, 13402, 13403, 13406, 13409, 13410, 13424, 13425, 13430, 13432, 13445, 13505, 13507, 13528, 13555, 13624, 13643, 13644, 13659, 13672, 13684, 13687, 13689, 13703, 13741, 13743, 13747, 13796, 13797, 13799, 13820, 13833, 13847, 13850, 13852, 13861, 13867, 13905, 13911, 13949, 13951, 13954, 13976, 13981, 14000, 14063, 14092, 14105, 14122, 14202, 14213, 14233, 14239, 14243, 14249, 14252, 14264, 14277, 14288, 14294, 14295, 14324, 14333, 14336, 14337, 14350, 14360, 14361, 14366, 14371, 14379, 14394, 14415, 14418, 14423, 14426, 14468, 14518, 14546, 14549, 14569, 14583, 14585, 14635, 14643, 14650, 14660, 14677, 14687, 14689, 14708, 14712, 14714, 14715, 14720, 14734, 14750, 14760, 14767, 14770, 14822, 14825, 14858, 14869, 14889, 14902, 14910, 14916, 14921, 14933, 14934, 14983, 14995, 15006, 15011, 15054, 15058, 15089, 15099, 15102, 15115, 15135, 15191, 15202, 15203, 15211, 15234, 15257, 15281, 15290, 15300, 15308, 15313, 15336, 15359, 15363, 15368, 15392, 15396, 15421, 15441, 15489, 15505, 15506, 15507, 15510, 15511, 15530, 15535, 15536, 15538, 15552, 15558, 15577, 15584, 15648, 15662, 15674, 15678, 15685, 15690, 15698, 15724, 15727, 15732, 15736, 15741, 15750, 15775, 15795, 15828, 15857, 15885, 15887, 15897, 15908, 15911, 15912, 15938, 15951, 15970, 15974, 16005, 16008, 16012, 16018, 16019, 16022, 16033, 16052, 16062, 16067, 16069, 16103, 16106, 16108, 16109, 16112, 16144, 16169, 16172, 16174, 16175, 16177, 16187, 16241, 16242, 16245, 16250, 16252, 16289, 16291, 16293, 16298, 16324, 16327, 16341, 16347, 16366, 16394, 16406, 16418, 16447, 16451, 16473, 16477, 16490, 16513, 16519, 16538, 16600, 16638, 16640, 16642, 16657, 16790, 16791, 16802, 16806, 16811, 16818, 16831, 16842, 16846, 16893, 16900, 16906, 16907, 16925, 16930, 16934, 16940, 16963, 16990, 17012, 17014, 17038, 17049, 17060, 17066, 17088, 17089, 17094, 17105, 17121, 17161, 17229, 17258, 17277, 17278, 17292, 17298, 17337, 17338, 17340, 17366, 17367, 17399, 17419, 17422, 17423, 17429, 17441, 17449, 17455, 17458, 17477, 17494, 17498, 17506, 17510, 17528, 17537, 17550, 17558, 17567, 17580, 17581, 17582, 17589, 17605, 17612, 17613, 17614, 17616, 17617, 17628, 17630, 17635, 17638, 17641, 17658, 17664, 17670, 17688, 17691, 17693, 17695, 17698, 17699, 17701, 17703, 17706, 17707, 17709, 17711, 17713, 17717, 17722, 17724, 17726, 17728, 17732, 17733, 17736, 17737, 17740, 17742, 17750, 17751, 17753, 17755, 17757, 17759, 17765, 17766, 17773, 17775, 17778, 17782, 17783, 17785, 17791, 17799, 17801, 17802, 17803, 17804, 17805, 17811, 17812, 17821, 17825, 17826, 17829, 17831, 17833, 17836, 17844, 17848, 17851, 17854, 17855, 17856, 17859, 17864, 17866, 17868, 17873, 17876, 17881, 17885, 17888, 17890, 17893, 17896, 17897, 17900, 17902, 17907, 17909, 17913, 17914, 17915, 17917, 17921, 17924, 17928, 17929, 17940, 17943, 17944, 17948, 17951, 17956, 17960, 17961, 17962, 17964, 17966, 17973, 17974, 17979, 17981, 17982, 17983, 17989, 17991, 17992, 17994, 17997, 17998, 17999, 18004, 18006, 18009, 18012, 18013, 18014, 18015, 18016, 18018, 18020, 18027, 18036, 18037, 18040, 18053, 18054, 18055, 18056, 18063, 18065, 18066, 18067, 18071, 18076, 18078, 18080, 18081, 18084, 18085, 18093, 18094, 18098, 18100, 18103, 18105, 18106, 18109, 18113, 18114, 18116, 18121, 18123, 18125, 18127, 18129, 18136, 18139, 18140, 18142, 18145, 18146, 18147, 18148, 18149, 18151, 18155, 18163, 18166, 18168, 18169, 18170, 18172, 18175, 18182, 18183, 18187, 18191, 18197, 18202, 18203, 18205, 18206, 18208, 18212, 18213, 18214, 18219, 18221, 18222, 18224, 18230, 18240, 18241, 18248, 18249, 18250, 18251, 18255, 18257, 18265, 18266, 18269, 18273, 18274, 18277, 18279, 18284, 18285, 18289, 18290, 18292, 18293, 18294, 18295, 18307, 18308, 18312, 18322, 18326, 18330, 18333, 18334, 18342, 18347, 18348, 18350, 18352, 18356, 18357, 18360, 18363, 18370, 18374, 18378, 18379, 18381, 18383, 18385, 18388, 18389, 18390, 18398, 18400, 18401, 18402, 18404, 18406, 18416, 18418, 18430, 18432, 18435, 18437, 18440, 18441, 18443, 18445, 18447, 18450, 18454, 18458, 18460, 18461, 18467, 18471, 18476, 18484, 18485, 18488, 18491, 18497, 18501, 18502, 18504, 18507, 18513, 18516, 18530, 18531, 18532, 18534, 18537, 18539, 18543, 18545, 18549, 18553, 18554, 18555, 18556, 18561, 18562, 18567, 18570, 18573, 18577, 18580, 18581, 18583, 18585, 18586, 18591, 18594, 18596, 18598, 18599, 18601, 18603, 18604, 18605, 18611, 18613, 18615, 18618, 18621, 18632, 18633, 18635, 18639, 18644, 18645, 18646, 18647, 18650, 18655, 18656, 18657, 18658, 18664, 18670, 18678, 18679, 18681, 18683]\n[1]\tvalid_0's auc: 0.558149\n[2]\tvalid_0's auc: 0.562087\n[3]\tvalid_0's auc: 0.586708\n[4]\tvalid_0's auc: 0.588301\n[5]\tvalid_0's auc: 0.607494\n[6]\tvalid_0's auc: 0.625502\n[7]\tvalid_0's auc: 0.618912\n[8]\tvalid_0's auc: 0.622353\n[9]\tvalid_0's auc: 0.624314\n[10]\tvalid_0's auc: 0.624768\n[11]\tvalid_0's auc: 0.624515\n[12]\tvalid_0's auc: 0.626982\n[13]\tvalid_0's auc: 0.622834\n[14]\tvalid_0's auc: 0.615651\n[15]\tvalid_0's auc: 0.616643\n[16]\tvalid_0's auc: 0.620459\n[17]\tvalid_0's auc: 0.623005\n[18]\tvalid_0's auc: 0.621321\n[19]\tvalid_0's auc: 0.621468\n[20]\tvalid_0's auc: 0.62329\n[21]\tvalid_0's auc: 0.620618\n[22]\tvalid_0's auc: 0.625479\n[23]\tvalid_0's auc: 0.621774\n[24]\tvalid_0's auc: 0.618252\n[25]\tvalid_0's auc: 0.6134\n[26]\tvalid_0's auc: 0.617092\n[27]\tvalid_0's auc: 0.617627\n[28]\tvalid_0's auc: 0.61948\n[29]\tvalid_0's auc: 0.619457\n[30]\tvalid_0's auc: 0.617367\n[31]\tvalid_0's auc: 0.61956\n[32]\tvalid_0's auc: 0.623771\n[33]\tvalid_0's auc: 0.624271\n[34]\tvalid_0's auc: 0.624396\n[35]\tvalid_0's auc: 0.622797\n[36]\tvalid_0's auc: 0.621222\n[37]\tvalid_0's auc: 0.622105\n[38]\tvalid_0's auc: 0.623195\n[39]\tvalid_0's auc: 0.621326\n[40]\tvalid_0's auc: 0.623143\n[41]\tvalid_0's auc: 0.622047\n[42]\tvalid_0's auc: 0.620889\n[43]\tvalid_0's auc: 0.619962\n[44]\tvalid_0's auc: 0.620097\n[45]\tvalid_0's auc: 0.621592\n[46]\tvalid_0's auc: 0.621727\n[47]\tvalid_0's auc: 0.620449\n[48]\tvalid_0's auc: 0.619685\n[49]\tvalid_0's auc: 0.620617\n[50]\tvalid_0's auc: 0.621397\n[51]\tvalid_0's auc: 0.622177\n[52]\tvalid_0's auc: 0.625551\n[53]\tvalid_0's auc: 0.623883\n[54]\tvalid_0's auc: 0.62256\n[55]\tvalid_0's auc: 0.621511\n[56]\tvalid_0's auc: 0.620801\n[57]\tvalid_0's auc: 0.620828\n[58]\tvalid_0's auc: 0.62172\n[59]\tvalid_0's auc: 0.622053\n[60]\tvalid_0's auc: 0.621799\n[61]\tvalid_0's auc: 0.622599\n[62]\tvalid_0's auc: 0.622467\n[63]\tvalid_0's auc: 0.622649\n[64]\tvalid_0's auc: 0.624631\n[65]\tvalid_0's auc: 0.625501\n[66]\tvalid_0's auc: 0.626708\n[67]\tvalid_0's auc: 0.627613\n[68]\tvalid_0's auc: 0.626384\n[69]\tvalid_0's auc: 0.625159\n[70]\tvalid_0's auc: 0.624466\n[71]\tvalid_0's auc: 0.625801\n[72]\tvalid_0's auc: 0.625281\n[73]\tvalid_0's auc: 0.626429\n[74]\tvalid_0's auc: 0.626529\n[75]\tvalid_0's auc: 0.626931\n[76]\tvalid_0's auc: 0.628323\n[77]\tvalid_0's auc: 0.627475\n[78]\tvalid_0's auc: 0.628379\n[79]\tvalid_0's auc: 0.628442\n[80]\tvalid_0's auc: 0.627937\n[81]\tvalid_0's auc: 0.626507\n[82]\tvalid_0's auc: 0.627077\n[83]\tvalid_0's auc: 0.62713\n[84]\tvalid_0's auc: 0.6268\n[85]\tvalid_0's auc: 0.62779\n[86]\tvalid_0's auc: 0.626397\n[87]\tvalid_0's auc: 0.626395\n[88]\tvalid_0's auc: 0.626087\n[89]\tvalid_0's auc: 0.626747\n[90]\tvalid_0's auc: 0.627825\n[91]\tvalid_0's auc: 0.628739\n[92]\tvalid_0's auc: 0.629579\n[93]\tvalid_0's auc: 0.629239\n[94]\tvalid_0's auc: 0.628669\n[95]\tvalid_0's auc: 0.630059\n[96]\tvalid_0's auc: 0.631614\n[97]\tvalid_0's auc: 0.634526\n[98]\tvalid_0's auc: 0.633276\n[99]\tvalid_0's auc: 0.634339\n[100]\tvalid_0's auc: 0.633694\n"
    }
   ],
   "metadata": {},
   "execution_count": 27
  },
  {
   "source": [
    "pred.max()"
   ],
   "cell_type": "code",
   "outputs": [
    {
     "output_type": "execute_result",
     "data": {
      "text/plain": "0.9958722886817871"
     },
     "metadata": {},
     "execution_count": 28
    }
   ],
   "metadata": {},
   "execution_count": 28
  },
  {
   "source": [
    "importance.mean(axis=1).sort_values(ascending=False).head(20)"
   ],
   "cell_type": "code",
   "outputs": [
    {
     "output_type": "execute_result",
     "data": {
      "text/plain": "duration_mean                                  275.415255\nratio_Assessment                               240.351286\nstd_coordinates_x                              228.805673\nfrequency                                      213.725680\nmean_coordinates_x                             205.292363\nduration_std                                   203.323524\ngood_comment_ratio                             201.963101\nduration_median                                190.458946\ntotal_duration                                 182.752400\nmean_coordinates_y                             171.651708\nstd_coordinates_y                              143.276855\nratio_event_code_2000                          141.358897\nratio_event_code_3000                          134.675560\nratio_Game                                     129.695904\nratio_Clip                                     127.490226\ncount_label_frequency_label_description_val    121.370596\nClip                                           120.305007\nAssessment                                     113.613124\nmonth_8                                        112.942780\ndayofweek_1                                    111.627324\ndtype: float64"
     },
     "metadata": {},
     "execution_count": 29
    }
   ],
   "metadata": {},
   "execution_count": 29
  },
  {
   "cell_type": "code",
   "execution_count": null,
   "metadata": {},
   "outputs": [],
   "source": []
  },
  {
   "cell_type": "code",
   "execution_count": null,
   "metadata": {},
   "outputs": [],
   "source": []
  }
 ]
}