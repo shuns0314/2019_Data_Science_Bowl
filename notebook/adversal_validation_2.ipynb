{
 "nbformat": 4,
 "nbformat_minor": 2,
 "metadata": {
  "language_info": {
   "name": "python",
   "codemirror_mode": {
    "name": "ipython",
    "version": 3
   },
   "version": "3.7.6-final"
  },
  "orig_nbformat": 2,
  "file_extension": ".py",
  "mimetype": "text/x-python",
  "name": "python",
  "npconvert_exporter": "python",
  "pygments_lexer": "ipython3",
  "version": 3,
  "kernelspec": {
   "name": "python37664bit9025878f636247c5ae672c7e619bf82e",
   "display_name": "Python 3.7.6 64-bit"
  }
 },
 "cells": [
  {
   "cell_type": "code",
   "execution_count": 1,
   "metadata": {},
   "outputs": [],
   "source": [
    "import numpy as np\n",
    "import pandas as pd\n",
    "import lightgbm as lgb\n",
    "\n",
    "import random\n",
    "from collections import Counter, defaultdict"
   ]
  },
  {
   "cell_type": "code",
   "execution_count": 2,
   "metadata": {},
   "outputs": [],
   "source": [
    "def stratified_group_k_fold(X, y, groups, k, seed=None):\n",
    "    np.random.seed(seed)\n",
    "    # ラベルの数をカウント\n",
    "    labels_num = np.max(y) + 1\n",
    "    # 各グループのラベルの数をカウントする\n",
    "    y_counts_per_group = defaultdict(lambda: np.zeros(labels_num))\n",
    "    y_distr = Counter()\n",
    "    for label, g in zip(y, groups):\n",
    "        y_counts_per_group[g][label] += 1\n",
    "        y_distr[label] += 1\n",
    "    # 各フォールドのラベルの数をカウント\n",
    "    y_counts_per_fold = defaultdict(lambda: np.zeros(labels_num))\n",
    "    groups_per_fold = defaultdict(set)\n",
    "\n",
    "    def eval_y_counts_per_fold(y_counts, fold):\n",
    "        y_counts_per_fold[fold] += y_counts\n",
    "        std_per_label = []\n",
    "        for label in range(labels_num):\n",
    "            label_std = np.std([y_counts_per_fold[i][label] / y_distr[label] for i in range(k)])\n",
    "            std_per_label.append(label_std)\n",
    "        y_counts_per_fold[fold] -= y_counts\n",
    "        return np.mean(std_per_label)\n",
    "\n",
    "    groups_and_y_counts = list(y_counts_per_group.items())\n",
    "    random.Random(seed).shuffle(groups_and_y_counts)\n",
    "\n",
    "    for g, y_counts in sorted(groups_and_y_counts, key=lambda x: -np.std(x[1])):\n",
    "        best_fold = None\n",
    "        min_eval = None\n",
    "        for i in range(k):\n",
    "            fold_eval = eval_y_counts_per_fold(y_counts, i)\n",
    "            if min_eval is None or fold_eval < min_eval:\n",
    "                min_eval = fold_eval\n",
    "                best_fold = i\n",
    "        y_counts_per_fold[best_fold] += y_counts\n",
    "        groups_per_fold[best_fold].add(g)\n",
    "\n",
    "    all_groups = set(groups)\n",
    "\n",
    "    for i in range(k):\n",
    "        test_k = i\n",
    "        # val_k = i+1 if i+1 != k else 0\n",
    "        # print(val_k)\n",
    "        train_groups = all_groups - groups_per_fold[test_k]  #  - groups_per_fold[val_k]\n",
    "        # val_groups = groups_per_fold[val_k]\n",
    "        test_groups = groups_per_fold[test_k]\n",
    "        # print(test_groups)\n",
    "        train_indices = [i for i, g in enumerate(groups) if g in train_groups]\n",
    "        # val_indices = [i for i, g in enumerate(groups) if g in val_groups]\n",
    "        # test_indices = {str(g): [i for i, g in enumerate(groups) if g in test_groups]}\n",
    "\n",
    "        test_indices = []\n",
    "        n_g = None\n",
    "        test_list = []\n",
    "        for i, g in enumerate(groups):\n",
    "            if g in test_groups:\n",
    "                if n_g is not None and n_g != g:\n",
    "                    test_indices.append(test_list)\n",
    "                    test_list = []\n",
    "                test_list.append(i)\n",
    "                n_g = g\n",
    "\n",
    "        test_indices = [np.random.choice(i) for i in test_indices]\n",
    "        yield train_indices, test_indices  # val_indices,"
   ]
  },
  {
   "cell_type": "code",
   "execution_count": 3,
   "metadata": {},
   "outputs": [],
   "source": [
    "train_path = '/code/data/processed/proceeded_train_20.csv'\n",
    "test_path = '/code/data/processed/proceeded_test_20200115_215607.csv'\n",
    "\n",
    "train = pd.read_csv(train_path, index_col=0)\n",
    "test = pd.read_csv(test_path, index_col=0)"
   ]
  },
  {
   "cell_type": "code",
   "execution_count": 0,
   "metadata": {},
   "outputs": [],
   "source": [
    "train.head()"
   ]
  },
  {
   "cell_type": "code",
   "execution_count": 0,
   "metadata": {},
   "outputs": [],
   "source": [
    "train['target'] = 0\n",
    "test['target'] = 1"
   ]
  },
  {
   "cell_type": "code",
   "execution_count": 0,
   "metadata": {},
   "outputs": [],
   "source": [
    "test['target']"
   ]
  },
  {
   "cell_type": "code",
   "execution_count": 0,
   "metadata": {},
   "outputs": [],
   "source": [
    "train_df = pd.concat([train, test])\n",
    "train_df.columns = train_df.columns.str.replace(',', '')"
   ]
  },
  {
   "cell_type": "code",
   "execution_count": 0,
   "metadata": {},
   "outputs": [],
   "source": [
    "train_df.shape"
   ]
  },
  {
   "cell_type": "code",
   "execution_count": 0,
   "metadata": {},
   "outputs": [],
   "source": [
    "y = train_df['target']\n",
    "x = train_df.drop('target', axis=1)\n",
    "groups = np.array(x['installation_id'])\n",
    "lgb_params = {\n",
    "        'objective': 'binary',\n",
    "        'metric': 'auc',\n",
    "    }\n",
    "x = x.drop(['accuracy_group', 'installation_id'], axis=1)"
   ]
  },
  {
   "cell_type": "code",
   "execution_count": 0,
   "metadata": {},
   "outputs": [],
   "source": [
    "def lgb_regression(x, y, groups, lgb_params) -> pd.DataFrame:\n",
    "\n",
    "    num_fold = 3\n",
    "    pred = np.zeros(y.shape)\n",
    "    all_importance = []\n",
    "\n",
    "    for fold_ind, (train_ind, test_ind) in enumerate(\n",
    "            stratified_group_k_fold(X=x, y=y, groups=groups, k=num_fold, seed=77)):\n",
    "        x_train = x.iloc[train_ind]\n",
    "        y_train = y.iloc[train_ind]\n",
    "        x_test = x.iloc[test_ind]\n",
    "        y_test = y.iloc[test_ind]\n",
    "        lgb_train = lgb.Dataset(x_train, y_train)\n",
    "        lgb_val = lgb.Dataset(x_test, y_test, reference=lgb_train)\n",
    "\n",
    "        model = lgb.train(params=lgb_params,\n",
    "                          train_set=lgb_train,\n",
    "                          valid_sets=lgb_val)\n",
    "\n",
    "        pred[test_ind] = model.predict(x_test, num_iteration=model.best_iteration)\n",
    "\n",
    "        all_importance.append(pd.DataFrame(model.feature_importance('gain'), index=x_train.columns))\n",
    "\n",
    "    all_importance = pd.concat(all_importance, axis=1)\n",
    "    return pred, all_importance\n",
    ""
   ]
  },
  {
   "cell_type": "code",
   "execution_count": 0,
   "metadata": {},
   "outputs": [],
   "source": [
    "pred, importance = lgb_regression(x, y, groups, lgb_params)"
   ]
  },
  {
   "cell_type": "code",
   "execution_count": 0,
   "metadata": {},
   "outputs": [],
   "source": [
    "importance.mean(axis=1).sort_values(ascending=False).head(20)"
   ]
  },
  {
   "cell_type": "code",
   "execution_count": null,
   "metadata": {},
   "outputs": [],
   "source": []
  },
  {
   "cell_type": "code",
   "execution_count": null,
   "metadata": {},
   "outputs": [],
   "source": []
  }
 ]
}