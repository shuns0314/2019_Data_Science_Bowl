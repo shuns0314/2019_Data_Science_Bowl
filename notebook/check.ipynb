{
 "nbformat": 4,
 "nbformat_minor": 2,
 "metadata": {
  "language_info": {
   "name": "python",
   "codemirror_mode": {
    "name": "ipython",
    "version": 3
   },
   "version": "3.7.6-final"
  },
  "orig_nbformat": 2,
  "file_extension": ".py",
  "mimetype": "text/x-python",
  "name": "python",
  "npconvert_exporter": "python",
  "pygments_lexer": "ipython3",
  "version": 3,
  "kernelspec": {
   "name": "python3",
   "display_name": "Python 3"
  }
 },
 "cells": [
  {
   "cell_type": "code",
   "execution_count": 1,
   "metadata": {},
   "outputs": [],
   "source": [
    "import pandas as pd"
   ]
  },
  {
   "cell_type": "code",
   "execution_count": 4,
   "metadata": {},
   "outputs": [],
   "source": [
    "A = pd.read_csv('/code/initial_.csv', index_col=0)"
   ]
  },
  {
   "cell_type": "code",
   "execution_count": 7,
   "metadata": {},
   "outputs": [
    {
     "data": {
      "text/plain": "Index(['hour_0', 'hour_1', 'hour_2', 'hour_3', 'hour_4', 'hour_5', 'hour_6',\n       'hour_7', 'hour_8', 'hour_9', 'hour_10', 'hour_11', 'hour_12',\n       'hour_13', 'hour_14', 'hour_15', 'hour_16', 'hour_17', 'hour_18',\n       'hour_19', 'hour_20', 'hour_21', 'hour_22', 'hour_23'],\n      dtype='object')"
     },
     "execution_count": 7,
     "metadata": {},
     "output_type": "execute_result"
    }
   ],
   "source": [
    "A.columns[A.columns.str.contains('hour')]"
   ]
  },
  {
   "source": [
    "for i in A:\n",
    "    print(i)"
   ],
   "cell_type": "code",
   "outputs": [
    {
     "output_type": "stream",
     "name": "stdout",
     "text": "Clip\nActivity\nAssessment\nGame\nsession_title\ncount_correct_attempts\ncount_uncorrect_attempts\ncount_accuracy\nacc_Mushroom Sorter (Assessment)\nacc_Cart Balancer (Assessment)\nacc_Chest Sorter (Assessment)\nacc_Cauldron Filler (Assessment)\nacc_Bird Measurer (Assessment)\nduration_mean\nduration_max\nduration_std\nduration_median\naccuracy_group\nmean_accuracy_group\nacc_0\nacc_1\nacc_2\nacc_3\ninstallation_id\ncount_actions\n4050\ninfo_8\ninfo_6\ninfo_1\ninfo_0\ninfo_2\ninfo_9\ninfo_3\ninfo_7\ninfo_5\ninfo_4\nargs_13\nargs_7\nargs_4\nargs_11\nargs_12\nargs_0\nargs_18\nargs_6\nargs_1\nargs_9\nargs_17\nargs_14\nargs_3\nargs_19\nargs_8\nargs_15\nargs_5\nargs_16\nargs_10\nargs_2\nhour_0\nhour_1\nhour_2\nhour_3\nhour_4\nhour_5\nhour_6\nhour_7\nhour_8\nhour_9\nhour_10\nhour_11\nhour_12\nhour_13\nhour_14\nhour_15\nhour_16\nhour_17\nhour_18\nhour_19\nhour_20\nhour_21\nhour_22\nhour_23\ndayofweek_0\ndayofweek_1\ndayofweek_2\ndayofweek_3\ndayofweek_4\ndayofweek_5\ndayofweek_6\nOrdering Spheres\nAll Star Sorting\nHeavy, Heavier, Heaviest\nPirate's Tale\nAir Show\nWatering Hole (Activity)\nDino Dive\nChow Time\nRulers\nPan Balance\nDino Drink\nCrystal Caves - Level 2\nChest Sorter (Assessment)\nCauldron Filler (Assessment)\nScrub-A-Dub\nCrystals Rule\nCrystal Caves - Level 1\nTreasure Map\nCart Balancer (Assessment)\nBug Measurer (Activity)\nBalancing Act\nHappy Camel\nMagma Peak - Level 2\nLifting Heavy Things\nMagma Peak - Level 1\nBird Measurer (Assessment)\nMushroom Sorter (Assessment)\nEgg Dropper (Activity)\nCostume Box\nChicken Balancer (Activity)\nTree Top City - Level 1\nBottle Filler (Activity)\nLeaf Leader\nCrystal Caves - Level 3\nFlower Waterer (Activity)\nSlop Problem\nTree Top City - Level 2\nTree Top City - Level 3\nSandcastle Builder (Activity)\nBubble Bath\nHoney Cake\nFireworks (Activity)\nWelcome to Lost Lagoon!\n12 Monkeys\ntotal_duration\nfrequency\ngame_mean_event_count\naccumulated_game_miss\nmean_game_round\nmax_game_round\nmean_game_duration\nmax_game_duration\nsum_game_duration\nstd_game_duration\nmean_game_level\nmean_coordinates_x\nstd_coordinates_x\nmean_coordinates_y\nstd_coordinates_y\nmean_size\nmax_size\ngood_comment\ndescription\ncoordinates\ndescription_val\nfrequency_label\ncount_action_label\ncount_accuracy_label\nmean_accuracy_group_label\nratio_Game\nratio_Clip\nratio_Activity\nratio_Assessment\nsum_event_code_count\nsum_event_code_2000\nsum_event_code_3000\nsum_event_code_4000\nevent_id_non_zero_count\nevent_code_non_zero_count\ntitle_non_zero_count\ngood_comment_ratio\nratio_event_code_2000\nratio_event_code_3000\nratio_event_code_4000\nevent_id_lank0\nevent_id_lank1\nevent_id_lank2\nevent_id_lank3\nevent_id_lank4\nEVENT_CODE_LIST_lank0\nEVENT_CODE_LIST_lank1\nEVENT_CODE_LIST_lank2\nEVENT_CODE_LIST_lank3\nEVENT_CODE_LIST_lank4\nTITLE_LIST_lank0\nTITLE_LIST_lank1\nTITLE_LIST_lank2\nTITLE_LIST_lank3\nTITLE_LIST_lank4\n"
    }
   ],
   "metadata": {},
   "execution_count": 19
  },
  {
   "cell_type": "code",
   "execution_count": 10,
   "metadata": {},
   "outputs": [],
   "source": [
    "df = pd.DataFrame( {'c1':[pd.np.nan,'い','う'], 'c2':['か', 'き', 'く']})\n"
   ]
  },
  {
   "cell_type": "code",
   "execution_count": 15,
   "metadata": {},
   "outputs": [
    {
     "data": {
      "text/plain": "0      NaN\n1    False\n2     True\nName: c1, dtype: object"
     },
     "execution_count": 15,
     "metadata": {},
     "output_type": "execute_result"
    }
   ],
   "source": [
    " df['c1'].str.contains('う')"
   ]
  }
 ]
}