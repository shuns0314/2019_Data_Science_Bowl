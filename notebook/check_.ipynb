{
 "nbformat": 4,
 "nbformat_minor": 2,
 "metadata": {
  "language_info": {
   "name": "python",
   "codemirror_mode": {
    "name": "ipython",
    "version": 3
   },
   "version": "3.7.6-final"
  },
  "orig_nbformat": 2,
  "file_extension": ".py",
  "mimetype": "text/x-python",
  "name": "python",
  "npconvert_exporter": "python",
  "pygments_lexer": "ipython3",
  "version": 3,
  "kernelspec": {
   "name": "python37664bit9025878f636247c5ae672c7e619bf82e",
   "display_name": "Python 3.7.6 64-bit"
  }
 },
 "cells": [
  {
   "cell_type": "code",
   "execution_count": 2,
   "metadata": {},
   "outputs": [],
   "source": [
    "import numpy as np\n",
    "import pandas as pd"
   ]
  },
  {
   "cell_type": "code",
   "execution_count": 7,
   "metadata": {},
   "outputs": [],
   "source": [
    "importance = pd.read_csv('/code/models/lgb_proceeded_train_20200116_102618_20200118_095127/all_importance.csv', index_col=0)"
   ]
  },
  {
   "cell_type": "code",
   "execution_count": 12,
   "metadata": {},
   "outputs": [],
   "source": [
    "importance_summary = pd.DataFrame()\n",
    "importance_summary['mean'] = importance.mean(axis=1)\n",
    "importance_summary['std'] = importance.std(axis=1)"
   ]
  },
  {
   "cell_type": "code",
   "execution_count": 16,
   "metadata": {},
   "outputs": [
    {
     "data": {
      "text/html": "<div>\n<style scoped>\n    .dataframe tbody tr th:only-of-type {\n        vertical-align: middle;\n    }\n\n    .dataframe tbody tr th {\n        vertical-align: top;\n    }\n\n    .dataframe thead th {\n        text-align: right;\n    }\n</style>\n<table border=\"1\" class=\"dataframe\">\n  <thead>\n    <tr style=\"text-align: right;\">\n      <th></th>\n      <th>mean</th>\n      <th>std</th>\n    </tr>\n  </thead>\n  <tbody>\n    <tr>\n      <th>Clip</th>\n      <td>110.650214</td>\n      <td>71.040061</td>\n    </tr>\n    <tr>\n      <th>Activity</th>\n      <td>6.660486</td>\n      <td>9.552126</td>\n    </tr>\n    <tr>\n      <th>Assessment</th>\n      <td>4.075926</td>\n      <td>8.654073</td>\n    </tr>\n    <tr>\n      <th>Game</th>\n      <td>7.135007</td>\n      <td>12.920597</td>\n    </tr>\n    <tr>\n      <th>session_title</th>\n      <td>1103.933623</td>\n      <td>749.328104</td>\n    </tr>\n    <tr>\n      <th>count_correct_attempts</th>\n      <td>7.415661</td>\n      <td>12.882636</td>\n    </tr>\n    <tr>\n      <th>count_uncorrect_attempts</th>\n      <td>11.312303</td>\n      <td>17.239135</td>\n    </tr>\n    <tr>\n      <th>count_accuracy</th>\n      <td>357.132906</td>\n      <td>265.485786</td>\n    </tr>\n    <tr>\n      <th>acc_Cart Balancer (Assessment)</th>\n      <td>10.623525</td>\n      <td>15.359119</td>\n    </tr>\n    <tr>\n      <th>acc_Cauldron Filler (Assessment)</th>\n      <td>5.956525</td>\n      <td>12.148526</td>\n    </tr>\n    <tr>\n      <th>acc_Bird Measurer (Assessment)</th>\n      <td>36.755011</td>\n      <td>38.175281</td>\n    </tr>\n    <tr>\n      <th>acc_Chest Sorter (Assessment)</th>\n      <td>54.882304</td>\n      <td>55.240727</td>\n    </tr>\n    <tr>\n      <th>acc_Mushroom Sorter (Assessment)</th>\n      <td>81.441683</td>\n      <td>112.142378</td>\n    </tr>\n    <tr>\n      <th>duration_mean</th>\n      <td>30.078638</td>\n      <td>24.513874</td>\n    </tr>\n    <tr>\n      <th>duration_max</th>\n      <td>20.208628</td>\n      <td>19.197515</td>\n    </tr>\n    <tr>\n      <th>duration_std</th>\n      <td>15.436126</td>\n      <td>16.853091</td>\n    </tr>\n    <tr>\n      <th>duration_median</th>\n      <td>34.001857</td>\n      <td>27.924979</td>\n    </tr>\n    <tr>\n      <th>mean_accuracy_group</th>\n      <td>172.308086</td>\n      <td>179.041968</td>\n    </tr>\n    <tr>\n      <th>acc_0</th>\n      <td>17.739207</td>\n      <td>22.062005</td>\n    </tr>\n    <tr>\n      <th>acc_1</th>\n      <td>1.249796</td>\n      <td>3.379687</td>\n    </tr>\n  </tbody>\n</table>\n</div>",
      "text/plain": "                                         mean         std\nClip                               110.650214   71.040061\nActivity                             6.660486    9.552126\nAssessment                           4.075926    8.654073\nGame                                 7.135007   12.920597\nsession_title                     1103.933623  749.328104\ncount_correct_attempts               7.415661   12.882636\ncount_uncorrect_attempts            11.312303   17.239135\ncount_accuracy                     357.132906  265.485786\nacc_Cart Balancer (Assessment)      10.623525   15.359119\nacc_Cauldron Filler (Assessment)     5.956525   12.148526\nacc_Bird Measurer (Assessment)      36.755011   38.175281\nacc_Chest Sorter (Assessment)       54.882304   55.240727\nacc_Mushroom Sorter (Assessment)    81.441683  112.142378\nduration_mean                       30.078638   24.513874\nduration_max                        20.208628   19.197515\nduration_std                        15.436126   16.853091\nduration_median                     34.001857   27.924979\nmean_accuracy_group                172.308086  179.041968\nacc_0                               17.739207   22.062005\nacc_1                                1.249796    3.379687"
     },
     "execution_count": 16,
     "metadata": {},
     "output_type": "execute_result"
    }
   ],
   "source": [
    "importance_summary.head(20)"
   ]
  },
  {
   "cell_type": "code",
   "execution_count": 18,
   "metadata": {},
   "outputs": [
    {
     "data": {
      "text/html": "<div>\n<style scoped>\n    .dataframe tbody tr th:only-of-type {\n        vertical-align: middle;\n    }\n\n    .dataframe tbody tr th {\n        vertical-align: top;\n    }\n\n    .dataframe thead th {\n        text-align: right;\n    }\n</style>\n<table border=\"1\" class=\"dataframe\">\n  <thead>\n    <tr style=\"text-align: right;\">\n      <th></th>\n      <th>mean</th>\n      <th>std</th>\n    </tr>\n  </thead>\n  <tbody>\n    <tr>\n      <th>duration_mean</th>\n      <td>30.078638</td>\n      <td>24.513874</td>\n    </tr>\n    <tr>\n      <th>duration_max</th>\n      <td>20.208628</td>\n      <td>19.197515</td>\n    </tr>\n    <tr>\n      <th>duration_std</th>\n      <td>15.436126</td>\n      <td>16.853091</td>\n    </tr>\n    <tr>\n      <th>duration_median</th>\n      <td>34.001857</td>\n      <td>27.924979</td>\n    </tr>\n    <tr>\n      <th>total_duration</th>\n      <td>160.845346</td>\n      <td>70.728002</td>\n    </tr>\n    <tr>\n      <th>mean_game_duration</th>\n      <td>51.239559</td>\n      <td>33.352426</td>\n    </tr>\n    <tr>\n      <th>max_game_duration</th>\n      <td>23.789248</td>\n      <td>20.783886</td>\n    </tr>\n    <tr>\n      <th>sum_game_duration</th>\n      <td>30.060844</td>\n      <td>23.072535</td>\n    </tr>\n    <tr>\n      <th>std_game_duration</th>\n      <td>24.802126</td>\n      <td>22.876811</td>\n    </tr>\n  </tbody>\n</table>\n</div>",
      "text/plain": "                          mean        std\nduration_mean        30.078638  24.513874\nduration_max         20.208628  19.197515\nduration_std         15.436126  16.853091\nduration_median      34.001857  27.924979\ntotal_duration      160.845346  70.728002\nmean_game_duration   51.239559  33.352426\nmax_game_duration    23.789248  20.783886\nsum_game_duration    30.060844  23.072535\nstd_game_duration    24.802126  22.876811"
     },
     "execution_count": 18,
     "metadata": {},
     "output_type": "execute_result"
    }
   ],
   "source": [
    "importance_summary[importance_summary.index.str.contains('duration')]"
   ]
  },
  {
   "cell_type": "code",
   "execution_count": 19,
   "metadata": {},
   "outputs": [
    {
     "data": {
      "text/html": "<div>\n<style scoped>\n    .dataframe tbody tr th:only-of-type {\n        vertical-align: middle;\n    }\n\n    .dataframe tbody tr th {\n        vertical-align: top;\n    }\n\n    .dataframe thead th {\n        text-align: right;\n    }\n</style>\n<table border=\"1\" class=\"dataframe\">\n  <thead>\n    <tr style=\"text-align: right;\">\n      <th></th>\n      <th>mean</th>\n      <th>std</th>\n    </tr>\n  </thead>\n  <tbody>\n    <tr>\n      <th>count_accuracy</th>\n      <td>357.132906</td>\n      <td>265.485786</td>\n    </tr>\n    <tr>\n      <th>acc_Cart Balancer (Assessment)</th>\n      <td>10.623525</td>\n      <td>15.359119</td>\n    </tr>\n    <tr>\n      <th>acc_Cauldron Filler (Assessment)</th>\n      <td>5.956525</td>\n      <td>12.148526</td>\n    </tr>\n    <tr>\n      <th>acc_Bird Measurer (Assessment)</th>\n      <td>36.755011</td>\n      <td>38.175281</td>\n    </tr>\n    <tr>\n      <th>acc_Chest Sorter (Assessment)</th>\n      <td>54.882304</td>\n      <td>55.240727</td>\n    </tr>\n    <tr>\n      <th>acc_Mushroom Sorter (Assessment)</th>\n      <td>81.441683</td>\n      <td>112.142378</td>\n    </tr>\n    <tr>\n      <th>mean_accuracy_group</th>\n      <td>172.308086</td>\n      <td>179.041968</td>\n    </tr>\n    <tr>\n      <th>acc_0</th>\n      <td>17.739207</td>\n      <td>22.062005</td>\n    </tr>\n    <tr>\n      <th>acc_1</th>\n      <td>1.249796</td>\n      <td>3.379687</td>\n    </tr>\n    <tr>\n      <th>acc_2</th>\n      <td>1.165793</td>\n      <td>3.626768</td>\n    </tr>\n    <tr>\n      <th>acc_3</th>\n      <td>14.508158</td>\n      <td>21.464284</td>\n    </tr>\n    <tr>\n      <th>accumulated_game_miss</th>\n      <td>42.688615</td>\n      <td>31.445675</td>\n    </tr>\n    <tr>\n      <th>count_accuracy_label</th>\n      <td>0.134243</td>\n      <td>1.827765</td>\n    </tr>\n    <tr>\n      <th>mean_accuracy_group_label</th>\n      <td>2.347744</td>\n      <td>20.040363</td>\n    </tr>\n    <tr>\n      <th>label_mean_accuracy_group_label_description_val</th>\n      <td>226.524356</td>\n      <td>196.899198</td>\n    </tr>\n    <tr>\n      <th>count_label_mean_accuracy_group_label_description_val</th>\n      <td>42.481039</td>\n      <td>30.314821</td>\n    </tr>\n    <tr>\n      <th>label_session_title_count_accuracy_label</th>\n      <td>31.242027</td>\n      <td>33.106900</td>\n    </tr>\n    <tr>\n      <th>count_label_session_title_count_accuracy_label</th>\n      <td>229.970075</td>\n      <td>320.127307</td>\n    </tr>\n    <tr>\n      <th>label_session_title_mean_accuracy_group_label</th>\n      <td>12.761178</td>\n      <td>22.939300</td>\n    </tr>\n    <tr>\n      <th>count_label_session_title_mean_accuracy_group_label</th>\n      <td>208.710296</td>\n      <td>304.673694</td>\n    </tr>\n    <tr>\n      <th>target_mean_accuracy_group_label</th>\n      <td>46.488136</td>\n      <td>40.553919</td>\n    </tr>\n  </tbody>\n</table>\n</div>",
      "text/plain": "                                                          mean         std\ncount_accuracy                                      357.132906  265.485786\nacc_Cart Balancer (Assessment)                       10.623525   15.359119\nacc_Cauldron Filler (Assessment)                      5.956525   12.148526\nacc_Bird Measurer (Assessment)                       36.755011   38.175281\nacc_Chest Sorter (Assessment)                        54.882304   55.240727\nacc_Mushroom Sorter (Assessment)                     81.441683  112.142378\nmean_accuracy_group                                 172.308086  179.041968\nacc_0                                                17.739207   22.062005\nacc_1                                                 1.249796    3.379687\nacc_2                                                 1.165793    3.626768\nacc_3                                                14.508158   21.464284\naccumulated_game_miss                                42.688615   31.445675\ncount_accuracy_label                                  0.134243    1.827765\nmean_accuracy_group_label                             2.347744   20.040363\nlabel_mean_accuracy_group_label_description_val     226.524356  196.899198\ncount_label_mean_accuracy_group_label_descripti...   42.481039   30.314821\nlabel_session_title_count_accuracy_label             31.242027   33.106900\ncount_label_session_title_count_accuracy_label      229.970075  320.127307\nlabel_session_title_mean_accuracy_group_label        12.761178   22.939300\ncount_label_session_title_mean_accuracy_group_l...  208.710296  304.673694\ntarget_mean_accuracy_group_label                     46.488136   40.553919"
     },
     "execution_count": 19,
     "metadata": {},
     "output_type": "execute_result"
    }
   ],
   "source": [
    "importance_summary[importance_summary.index.str.contains('acc')]"
   ]
  },
  {
   "source": [
    "importance_summary[importance_summary.index.str.contains('level')]"
   ],
   "cell_type": "code",
   "outputs": [
    {
     "output_type": "execute_result",
     "data": {
      "text/plain": "                     mean      std\nmean_game_level  5.349395  8.69374",
      "text/html": "<div>\n<style scoped>\n    .dataframe tbody tr th:only-of-type {\n        vertical-align: middle;\n    }\n\n    .dataframe tbody tr th {\n        vertical-align: top;\n    }\n\n    .dataframe thead th {\n        text-align: right;\n    }\n</style>\n<table border=\"1\" class=\"dataframe\">\n  <thead>\n    <tr style=\"text-align: right;\">\n      <th></th>\n      <th>mean</th>\n      <th>std</th>\n    </tr>\n  </thead>\n  <tbody>\n    <tr>\n      <th>mean_game_level</th>\n      <td>5.349395</td>\n      <td>8.69374</td>\n    </tr>\n  </tbody>\n</table>\n</div>"
     },
     "metadata": {},
     "execution_count": 20
    }
   ],
   "metadata": {},
   "execution_count": 20
  },
  {
   "source": [
    "importance_summary[importance_summary.index.str.contains('size')]\n",
    ""
   ],
   "cell_type": "code",
   "outputs": [
    {
     "output_type": "execute_result",
     "data": {
      "text/plain": "                mean        std\nmean_size  61.008286  35.973830\nmax_size    6.015227  10.711277",
      "text/html": "<div>\n<style scoped>\n    .dataframe tbody tr th:only-of-type {\n        vertical-align: middle;\n    }\n\n    .dataframe tbody tr th {\n        vertical-align: top;\n    }\n\n    .dataframe thead th {\n        text-align: right;\n    }\n</style>\n<table border=\"1\" class=\"dataframe\">\n  <thead>\n    <tr style=\"text-align: right;\">\n      <th></th>\n      <th>mean</th>\n      <th>std</th>\n    </tr>\n  </thead>\n  <tbody>\n    <tr>\n      <th>mean_size</th>\n      <td>61.008286</td>\n      <td>35.973830</td>\n    </tr>\n    <tr>\n      <th>max_size</th>\n      <td>6.015227</td>\n      <td>10.711277</td>\n    </tr>\n  </tbody>\n</table>\n</div>"
     },
     "metadata": {},
     "execution_count": 21
    }
   ],
   "metadata": {},
   "execution_count": 21
  },
  {
   "source": [
    "importance_summary[importance_summary.index.str.contains('description')]\n",
    ""
   ],
   "cell_type": "code",
   "outputs": [
    {
     "output_type": "execute_result",
     "data": {
      "text/plain": "                                                          mean         std\ndescription                                           3.015809    6.666966\ndescription_val                                      99.696534   66.294285\nlabel_description_val                                29.438641   28.178409\ncount_label_description_val                          20.502207   19.347587\nlabel_frequency_label_description_val                40.999852   26.248883\ncount_label_frequency_label_description_val          55.348600   34.888711\nlabel_mean_accuracy_group_label_description_val     226.524356  196.899198\ncount_label_mean_accuracy_group_label_descripti...   42.481039   30.314821\nlabel_count_action_label_description_val             21.692114   19.397875\ncount_label_count_action_label_description_val       37.510740   24.775544\nlabel_session_title_description_val                 325.830204  322.939717\ncount_label_session_title_description_val           128.959159   72.227330",
      "text/html": "<div>\n<style scoped>\n    .dataframe tbody tr th:only-of-type {\n        vertical-align: middle;\n    }\n\n    .dataframe tbody tr th {\n        vertical-align: top;\n    }\n\n    .dataframe thead th {\n        text-align: right;\n    }\n</style>\n<table border=\"1\" class=\"dataframe\">\n  <thead>\n    <tr style=\"text-align: right;\">\n      <th></th>\n      <th>mean</th>\n      <th>std</th>\n    </tr>\n  </thead>\n  <tbody>\n    <tr>\n      <th>description</th>\n      <td>3.015809</td>\n      <td>6.666966</td>\n    </tr>\n    <tr>\n      <th>description_val</th>\n      <td>99.696534</td>\n      <td>66.294285</td>\n    </tr>\n    <tr>\n      <th>label_description_val</th>\n      <td>29.438641</td>\n      <td>28.178409</td>\n    </tr>\n    <tr>\n      <th>count_label_description_val</th>\n      <td>20.502207</td>\n      <td>19.347587</td>\n    </tr>\n    <tr>\n      <th>label_frequency_label_description_val</th>\n      <td>40.999852</td>\n      <td>26.248883</td>\n    </tr>\n    <tr>\n      <th>count_label_frequency_label_description_val</th>\n      <td>55.348600</td>\n      <td>34.888711</td>\n    </tr>\n    <tr>\n      <th>label_mean_accuracy_group_label_description_val</th>\n      <td>226.524356</td>\n      <td>196.899198</td>\n    </tr>\n    <tr>\n      <th>count_label_mean_accuracy_group_label_description_val</th>\n      <td>42.481039</td>\n      <td>30.314821</td>\n    </tr>\n    <tr>\n      <th>label_count_action_label_description_val</th>\n      <td>21.692114</td>\n      <td>19.397875</td>\n    </tr>\n    <tr>\n      <th>count_label_count_action_label_description_val</th>\n      <td>37.510740</td>\n      <td>24.775544</td>\n    </tr>\n    <tr>\n      <th>label_session_title_description_val</th>\n      <td>325.830204</td>\n      <td>322.939717</td>\n    </tr>\n    <tr>\n      <th>count_label_session_title_description_val</th>\n      <td>128.959159</td>\n      <td>72.227330</td>\n    </tr>\n  </tbody>\n</table>\n</div>"
     },
     "metadata": {},
     "execution_count": 24
    }
   ],
   "metadata": {},
   "execution_count": 24
  },
  {
   "cell_type": "code",
   "execution_count": null,
   "metadata": {},
   "outputs": [],
   "source": [
    "drop_list_common = [\n",
    "    'count_accuracy_label', 'mean_accuracy_group_label', 'sum_event_code_count',\n",
    "    'sum_event_code_2000', 'sum_event_code_3000', 'sum_event_code_4000'\n",
    "    ]"
   ]
  },
  {
   "cell_type": "code",
   "execution_count": null,
   "metadata": {},
   "outputs": [],
   "source": []
  }
 ]
}