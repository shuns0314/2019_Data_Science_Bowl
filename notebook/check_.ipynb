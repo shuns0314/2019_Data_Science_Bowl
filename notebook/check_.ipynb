{
 "nbformat": 4,
 "nbformat_minor": 2,
 "metadata": {
  "language_info": {
   "name": "python",
   "codemirror_mode": {
    "name": "ipython",
    "version": 3
   },
   "version": "3.7.6-final"
  },
  "orig_nbformat": 2,
  "file_extension": ".py",
  "mimetype": "text/x-python",
  "name": "python",
  "npconvert_exporter": "python",
  "pygments_lexer": "ipython3",
  "version": 3,
  "kernelspec": {
   "name": "python37664bit9025878f636247c5ae672c7e619bf82e",
   "display_name": "Python 3.7.6 64-bit"
  }
 },
 "cells": [
  {
   "source": [
    "import numpy as np\n",
    "import pandas as pd"
   ],
   "cell_type": "code",
   "outputs": [],
   "metadata": {},
   "execution_count": 1
  },
  {
   "source": [
    "train = pd.read_csv('/code/data/processed/proceeded_train_20200119_120438.csv', index_col=0)"
   ],
   "cell_type": "code",
   "outputs": [],
   "metadata": {},
   "execution_count": 6
  },
  {
   "source": [
    "train"
   ],
   "cell_type": "code",
   "outputs": [
    {
     "output_type": "execute_result",
     "data": {
      "text/plain": "       Clip  Activity  Assessment  Game  session_title  \\\n0        11         3           0     4              0   \n1        14         4           1     6             41   \n2        14         4           2     6              0   \n3        24         9           4    10              0   \n4        28        10           5    13             41   \n...     ...       ...         ...   ...            ...   \n17685    26         7           5    11             22   \n17686     3         2           0     3             43   \n17687    11         3           0     4             43   \n17688    23         3           1     6              0   \n17689    24         4           2     6             43   \n\n       count_correct_attempts  count_uncorrect_attempts  count_accuracy  \\\n0                           0                         0        0.000000   \n1                           1                         0        1.000000   \n2                           1                        11        0.500000   \n3                           2                        11        0.500000   \n4                           3                        12        0.500000   \n...                       ...                       ...             ...   \n17685                       5                         2        0.866667   \n17686                       0                         0        0.000000   \n17687                       0                         0        0.000000   \n17688                       1                         2        0.333333   \n17689                       1                         3        0.166667   \n\n       acc_Mushroom Sorter (Assessment)  acc_Chest Sorter (Assessment)  ...  \\\n0                                  -1.0                           -1.0  ...   \n1                                   1.0                           -1.0  ...   \n2                                   1.0                           -1.0  ...   \n3                                   0.0                           -1.0  ...   \n4                                   0.5                           -1.0  ...   \n...                                 ...                            ...  ...   \n17685                               1.0                           -1.0  ...   \n17686                              -1.0                           -1.0  ...   \n17687                              -1.0                           -1.0  ...   \n17688                              -1.0                           -1.0  ...   \n17689                               0.0                           -1.0  ...   \n\n       Crystals Rule  Cauldron Filler (Assessment)  total_duration  frequency  \\\n0                  0                             0            1425   0.454035   \n1                 61                             0            2265   0.504636   \n2                 61                             0            2373   0.518331   \n3                 61                             0           56245   0.038386   \n4                212                             0           57149   0.045250   \n...              ...                           ...             ...        ...   \n17685            237                            24           18273   0.107426   \n17686              0                             0            1490   0.595973   \n17687              0                             0           62918   0.014813   \n17688              0                            89           13854   0.098022   \n17689              0                            89           14352   0.106745   \n\n       game_mean_event_count  accumulated_game_miss  mean_game_round  \\\n0                  65.437500                     12         5.000000   \n1                  91.859375                     13         4.166667   \n2                  91.859375                     13         4.166667   \n3                  74.866211                     16         4.000000   \n4                  98.983276                     18         3.923077   \n...                      ...                    ...              ...   \n17685              92.118164                     10         4.363636   \n17686              93.375000                      5         3.000000   \n17687              40.875000                     14         4.000000   \n17688             120.968750                     24         4.333333   \n17689             120.968750                     24         4.333333   \n\n       max_game_round  good_comment coordinates  \n0                  15            54           0  \n1                  15            56           0  \n2                  15            56           0  \n3                  15           106           0  \n4                  15           116           0  \n...               ...           ...         ...  \n17685               9            74           0  \n17686               4            90           0  \n17687              15           106           0  \n17688              15           126           0  \n17689              15           140           0  \n\n[17690 rows x 560 columns]",
      "text/html": "<div>\n<style scoped>\n    .dataframe tbody tr th:only-of-type {\n        vertical-align: middle;\n    }\n\n    .dataframe tbody tr th {\n        vertical-align: top;\n    }\n\n    .dataframe thead th {\n        text-align: right;\n    }\n</style>\n<table border=\"1\" class=\"dataframe\">\n  <thead>\n    <tr style=\"text-align: right;\">\n      <th></th>\n      <th>Clip</th>\n      <th>Activity</th>\n      <th>Assessment</th>\n      <th>Game</th>\n      <th>session_title</th>\n      <th>count_correct_attempts</th>\n      <th>count_uncorrect_attempts</th>\n      <th>count_accuracy</th>\n      <th>acc_Mushroom Sorter (Assessment)</th>\n      <th>acc_Chest Sorter (Assessment)</th>\n      <th>...</th>\n      <th>Crystals Rule</th>\n      <th>Cauldron Filler (Assessment)</th>\n      <th>total_duration</th>\n      <th>frequency</th>\n      <th>game_mean_event_count</th>\n      <th>accumulated_game_miss</th>\n      <th>mean_game_round</th>\n      <th>max_game_round</th>\n      <th>good_comment</th>\n      <th>coordinates</th>\n    </tr>\n  </thead>\n  <tbody>\n    <tr>\n      <th>0</th>\n      <td>11</td>\n      <td>3</td>\n      <td>0</td>\n      <td>4</td>\n      <td>0</td>\n      <td>0</td>\n      <td>0</td>\n      <td>0.000000</td>\n      <td>-1.0</td>\n      <td>-1.0</td>\n      <td>...</td>\n      <td>0</td>\n      <td>0</td>\n      <td>1425</td>\n      <td>0.454035</td>\n      <td>65.437500</td>\n      <td>12</td>\n      <td>5.000000</td>\n      <td>15</td>\n      <td>54</td>\n      <td>0</td>\n    </tr>\n    <tr>\n      <th>1</th>\n      <td>14</td>\n      <td>4</td>\n      <td>1</td>\n      <td>6</td>\n      <td>41</td>\n      <td>1</td>\n      <td>0</td>\n      <td>1.000000</td>\n      <td>1.0</td>\n      <td>-1.0</td>\n      <td>...</td>\n      <td>61</td>\n      <td>0</td>\n      <td>2265</td>\n      <td>0.504636</td>\n      <td>91.859375</td>\n      <td>13</td>\n      <td>4.166667</td>\n      <td>15</td>\n      <td>56</td>\n      <td>0</td>\n    </tr>\n    <tr>\n      <th>2</th>\n      <td>14</td>\n      <td>4</td>\n      <td>2</td>\n      <td>6</td>\n      <td>0</td>\n      <td>1</td>\n      <td>11</td>\n      <td>0.500000</td>\n      <td>1.0</td>\n      <td>-1.0</td>\n      <td>...</td>\n      <td>61</td>\n      <td>0</td>\n      <td>2373</td>\n      <td>0.518331</td>\n      <td>91.859375</td>\n      <td>13</td>\n      <td>4.166667</td>\n      <td>15</td>\n      <td>56</td>\n      <td>0</td>\n    </tr>\n    <tr>\n      <th>3</th>\n      <td>24</td>\n      <td>9</td>\n      <td>4</td>\n      <td>10</td>\n      <td>0</td>\n      <td>2</td>\n      <td>11</td>\n      <td>0.500000</td>\n      <td>0.0</td>\n      <td>-1.0</td>\n      <td>...</td>\n      <td>61</td>\n      <td>0</td>\n      <td>56245</td>\n      <td>0.038386</td>\n      <td>74.866211</td>\n      <td>16</td>\n      <td>4.000000</td>\n      <td>15</td>\n      <td>106</td>\n      <td>0</td>\n    </tr>\n    <tr>\n      <th>4</th>\n      <td>28</td>\n      <td>10</td>\n      <td>5</td>\n      <td>13</td>\n      <td>41</td>\n      <td>3</td>\n      <td>12</td>\n      <td>0.500000</td>\n      <td>0.5</td>\n      <td>-1.0</td>\n      <td>...</td>\n      <td>212</td>\n      <td>0</td>\n      <td>57149</td>\n      <td>0.045250</td>\n      <td>98.983276</td>\n      <td>18</td>\n      <td>3.923077</td>\n      <td>15</td>\n      <td>116</td>\n      <td>0</td>\n    </tr>\n    <tr>\n      <th>...</th>\n      <td>...</td>\n      <td>...</td>\n      <td>...</td>\n      <td>...</td>\n      <td>...</td>\n      <td>...</td>\n      <td>...</td>\n      <td>...</td>\n      <td>...</td>\n      <td>...</td>\n      <td>...</td>\n      <td>...</td>\n      <td>...</td>\n      <td>...</td>\n      <td>...</td>\n      <td>...</td>\n      <td>...</td>\n      <td>...</td>\n      <td>...</td>\n      <td>...</td>\n      <td>...</td>\n    </tr>\n    <tr>\n      <th>17685</th>\n      <td>26</td>\n      <td>7</td>\n      <td>5</td>\n      <td>11</td>\n      <td>22</td>\n      <td>5</td>\n      <td>2</td>\n      <td>0.866667</td>\n      <td>1.0</td>\n      <td>-1.0</td>\n      <td>...</td>\n      <td>237</td>\n      <td>24</td>\n      <td>18273</td>\n      <td>0.107426</td>\n      <td>92.118164</td>\n      <td>10</td>\n      <td>4.363636</td>\n      <td>9</td>\n      <td>74</td>\n      <td>0</td>\n    </tr>\n    <tr>\n      <th>17686</th>\n      <td>3</td>\n      <td>2</td>\n      <td>0</td>\n      <td>3</td>\n      <td>43</td>\n      <td>0</td>\n      <td>0</td>\n      <td>0.000000</td>\n      <td>-1.0</td>\n      <td>-1.0</td>\n      <td>...</td>\n      <td>0</td>\n      <td>0</td>\n      <td>1490</td>\n      <td>0.595973</td>\n      <td>93.375000</td>\n      <td>5</td>\n      <td>3.000000</td>\n      <td>4</td>\n      <td>90</td>\n      <td>0</td>\n    </tr>\n    <tr>\n      <th>17687</th>\n      <td>11</td>\n      <td>3</td>\n      <td>0</td>\n      <td>4</td>\n      <td>43</td>\n      <td>0</td>\n      <td>0</td>\n      <td>0.000000</td>\n      <td>-1.0</td>\n      <td>-1.0</td>\n      <td>...</td>\n      <td>0</td>\n      <td>0</td>\n      <td>62918</td>\n      <td>0.014813</td>\n      <td>40.875000</td>\n      <td>14</td>\n      <td>4.000000</td>\n      <td>15</td>\n      <td>106</td>\n      <td>0</td>\n    </tr>\n    <tr>\n      <th>17688</th>\n      <td>23</td>\n      <td>3</td>\n      <td>1</td>\n      <td>6</td>\n      <td>0</td>\n      <td>1</td>\n      <td>2</td>\n      <td>0.333333</td>\n      <td>-1.0</td>\n      <td>-1.0</td>\n      <td>...</td>\n      <td>0</td>\n      <td>89</td>\n      <td>13854</td>\n      <td>0.098022</td>\n      <td>120.968750</td>\n      <td>24</td>\n      <td>4.333333</td>\n      <td>15</td>\n      <td>126</td>\n      <td>0</td>\n    </tr>\n    <tr>\n      <th>17689</th>\n      <td>24</td>\n      <td>4</td>\n      <td>2</td>\n      <td>6</td>\n      <td>43</td>\n      <td>1</td>\n      <td>3</td>\n      <td>0.166667</td>\n      <td>0.0</td>\n      <td>-1.0</td>\n      <td>...</td>\n      <td>0</td>\n      <td>89</td>\n      <td>14352</td>\n      <td>0.106745</td>\n      <td>120.968750</td>\n      <td>24</td>\n      <td>4.333333</td>\n      <td>15</td>\n      <td>140</td>\n      <td>0</td>\n    </tr>\n  </tbody>\n</table>\n<p>17690 rows × 560 columns</p>\n</div>"
     },
     "metadata": {},
     "execution_count": 11
    }
   ],
   "metadata": {},
   "execution_count": 11
  },
  {
   "source": [
    "import sys"
   ],
   "cell_type": "code",
   "outputs": [],
   "metadata": {},
   "execution_count": 19
  },
  {
   "source": [
    "sys.getsizeof(train)"
   ],
   "cell_type": "code",
   "outputs": [
    {
     "output_type": "execute_result",
     "data": {
      "text/plain": "81056442"
     },
     "metadata": {},
     "execution_count": 23
    }
   ],
   "metadata": {},
   "execution_count": 23
  },
  {
   "source": [
    "d_index = train.to_dict(orient='index')"
   ],
   "cell_type": "code",
   "outputs": [],
   "metadata": {},
   "execution_count": 20
  },
  {
   "source": [
    "sys.getsizeof(d_index)"
   ],
   "cell_type": "code",
   "outputs": [
    {
     "output_type": "execute_result",
     "data": {
      "text/plain": "589936"
     },
     "metadata": {},
     "execution_count": 21
    }
   ],
   "metadata": {},
   "execution_count": 21
  },
  {
   "source": [
    "del train, d_index"
   ],
   "cell_type": "code",
   "outputs": [],
   "metadata": {},
   "execution_count": 24
  },
  {
   "cell_type": "code",
   "execution_count": null,
   "metadata": {},
   "outputs": [],
   "source": []
  }
 ]
}