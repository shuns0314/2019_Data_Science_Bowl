{
 "nbformat": 4,
 "nbformat_minor": 2,
 "metadata": {
  "language_info": {
   "name": "python",
   "codemirror_mode": {
    "name": "ipython",
    "version": 3
   },
   "version": "3.7.6"
  },
  "orig_nbformat": 2,
  "file_extension": ".py",
  "mimetype": "text/x-python",
  "name": "python",
  "npconvert_exporter": "python",
  "pygments_lexer": "ipython3",
  "version": 3
 },
 "cells": [
  {
   "cell_type": "code",
   "execution_count": 2,
   "metadata": {},
   "outputs": [],
   "source": [
    "import pandas as pd\n",
    "import numpy as np\n",
    "\n",
    "import json\n",
    "from joblib import Parallel, delayed"
   ]
  },
  {
   "cell_type": "code",
   "execution_count": 3,
   "metadata": {},
   "outputs": [],
   "source": [
    "train = pd.read_csv('data/raw/train.csv', chunksize=10000)"
   ]
  },
  {
   "cell_type": "code",
   "execution_count": 4,
   "metadata": {},
   "outputs": [],
   "source": [
    "little_columns = {\n",
    "    'version',\n",
    "    'castles_placed',\n",
    "    'molds','sand','filled','movie_id','options',\n",
    "    'animals', 'round_target.size', 'round_target.type', 'round_target.animal',\n",
    "    'item_type', 'position', 'animal', 'correct',\n",
    "    'misses', 'holding_shell', 'has_water', 'shells', 'holes',\n",
    "    'shell_size', 'hole_position', 'cloud', 'cloud_size',\n",
    "    'water_level', 'time_played', 'houses', 'dinosaurs',\n",
    "    'dinosaur', 'dinosaurs_placed', 'house.size', 'house.position',\n",
    "    'rocket', 'height', 'launched', 'flowers', 'flower',\n",
    "    'growth', 'stumps', 'destination', 'session_duration',\n",
    "    'exit_type', 'distance', 'target_distances',\n",
    "    'round_prompt', 'target_size', 'resources', 'object_type',\n",
    "    'group', 'bug', 'buglength', 'stage_number', 'hat',\n",
    "    'caterpillar', 'hats', 'caterpillars', 'bird_height', 'target_containers', 'container_type',\n",
    "    'containers', 'current_containers', 'total_containers', 'toy_earned', 'object', 'previous_jars', 'bottles',\n",
    "    'bottle.amount', 'bottle.color', 'jar', 'jar_filled', 'tutorial_step', 'hats_placed',\n",
    "    'toy', 'diet', 'target_weight', 'weight', 'scale_weight', 'scale_contents',\n",
    "    'target_water_level', 'buckets', 'target_bucket', 'mode', 'prompt', 'round_number',\n",
    "    'bucket', 'buckets_placed', 'cauldron','layout.left.chickens',\n",
    "    'layout.left.pig', 'layout.right.chickens', 'layout.right.pig', 'side',\n",
    "}"
   ]
  },
  {
   "cell_type": "code",
   "execution_count": 5,
   "metadata": {},
   "outputs": [],
   "source": [
    "def process(i, data):\n",
    "    event_data = pd.io.json.json_normalize(data.event_data.apply(json.loads))\n",
    "    zero_df = pd.DataFrame(np.zeros([event_data.shape[0], len(little_columns)]), columns=little_columns, dtype=np.uint8)\n",
    "    columns = little_columns & set(event_data.columns)\n",
    "    zero_df.loc[:, columns] = np.where(event_data[columns].isna().values, np.uint8(0), np.uint8(1)).astype(np.uint8)\n",
    "    return i, zero_df"
   ]
  },
  {
   "cell_type": "code",
   "execution_count": 6,
   "metadata": {},
   "outputs": [],
   "source": [
    "compiled_data = Parallel(n_jobs=-1)(\n",
    "             [delayed(process)(i, data) for i, data in enumerate(train)]\n",
    ")"
   ]
  },
  {
   "cell_type": "code",
   "execution_count": 7,
   "metadata": {},
   "outputs": [],
   "source": [
    "compiled_data.sort(key=lambda x: x[0])\n",
    "compiled_data = [t[1] for t in compiled_data]"
   ]
  },
  {
   "cell_type": "code",
   "execution_count": 8,
   "metadata": {},
   "outputs": [
    {
     "name": "stderr",
     "output_type": "stream",
     "text": "/root/.local/lib/python3.7/site-packages/ipykernel_launcher.py:1: FutureWarning: Sorting because non-concatenation axis is not aligned. A future version\nof pandas will change to not sort by default.\n\nTo accept the future behavior, pass 'sort=False'.\n\nTo retain the current behavior and silence the warning, pass 'sort=True'.\n\n  \"\"\"Entry point for launching an IPython kernel.\n"
    }
   ],
   "source": [
    "compiled_data = pd.concat(compiled_data)"
   ]
  },
  {
   "cell_type": "code",
   "execution_count": 11,
   "metadata": {},
   "outputs": [],
   "source": [
    "compiled_data = compiled_data.reset_index(drop=True)"
   ]
  },
  {
   "cell_type": "code",
   "execution_count": 13,
   "metadata": {},
   "outputs": [
    {
     "data": {
      "text/html": "<div>\n<style scoped>\n    .dataframe tbody tr th:only-of-type {\n        vertical-align: middle;\n    }\n\n    .dataframe tbody tr th {\n        vertical-align: top;\n    }\n\n    .dataframe thead th {\n        text-align: right;\n    }\n</style>\n<table border=\"1\" class=\"dataframe\">\n  <thead>\n    <tr style=\"text-align: right;\">\n      <th></th>\n      <th>animal</th>\n      <th>animals</th>\n      <th>bird_height</th>\n      <th>bottle.amount</th>\n      <th>bottle.color</th>\n      <th>bottles</th>\n      <th>bucket</th>\n      <th>buckets</th>\n      <th>buckets_placed</th>\n      <th>bug</th>\n      <th>...</th>\n      <th>target_water_level</th>\n      <th>target_weight</th>\n      <th>time_played</th>\n      <th>total_containers</th>\n      <th>toy</th>\n      <th>toy_earned</th>\n      <th>tutorial_step</th>\n      <th>version</th>\n      <th>water_level</th>\n      <th>weight</th>\n    </tr>\n  </thead>\n  <tbody>\n    <tr>\n      <th>11341037</th>\n      <td>0</td>\n      <td>0</td>\n      <td>0</td>\n      <td>0</td>\n      <td>0</td>\n      <td>0</td>\n      <td>0</td>\n      <td>0</td>\n      <td>0</td>\n      <td>0</td>\n      <td>...</td>\n      <td>0</td>\n      <td>0</td>\n      <td>0</td>\n      <td>0</td>\n      <td>0</td>\n      <td>0</td>\n      <td>0</td>\n      <td>0</td>\n      <td>0</td>\n      <td>0</td>\n    </tr>\n    <tr>\n      <th>11341038</th>\n      <td>0</td>\n      <td>0</td>\n      <td>0</td>\n      <td>0</td>\n      <td>0</td>\n      <td>0</td>\n      <td>0</td>\n      <td>0</td>\n      <td>0</td>\n      <td>0</td>\n      <td>...</td>\n      <td>0</td>\n      <td>0</td>\n      <td>0</td>\n      <td>0</td>\n      <td>0</td>\n      <td>0</td>\n      <td>0</td>\n      <td>0</td>\n      <td>0</td>\n      <td>0</td>\n    </tr>\n    <tr>\n      <th>11341039</th>\n      <td>0</td>\n      <td>0</td>\n      <td>0</td>\n      <td>0</td>\n      <td>0</td>\n      <td>0</td>\n      <td>0</td>\n      <td>0</td>\n      <td>0</td>\n      <td>0</td>\n      <td>...</td>\n      <td>0</td>\n      <td>0</td>\n      <td>0</td>\n      <td>0</td>\n      <td>0</td>\n      <td>0</td>\n      <td>0</td>\n      <td>0</td>\n      <td>0</td>\n      <td>0</td>\n    </tr>\n    <tr>\n      <th>11341040</th>\n      <td>0</td>\n      <td>0</td>\n      <td>0</td>\n      <td>0</td>\n      <td>0</td>\n      <td>0</td>\n      <td>0</td>\n      <td>0</td>\n      <td>0</td>\n      <td>0</td>\n      <td>...</td>\n      <td>0</td>\n      <td>0</td>\n      <td>0</td>\n      <td>0</td>\n      <td>0</td>\n      <td>0</td>\n      <td>0</td>\n      <td>0</td>\n      <td>0</td>\n      <td>0</td>\n    </tr>\n    <tr>\n      <th>11341041</th>\n      <td>0</td>\n      <td>0</td>\n      <td>0</td>\n      <td>0</td>\n      <td>0</td>\n      <td>0</td>\n      <td>0</td>\n      <td>0</td>\n      <td>0</td>\n      <td>0</td>\n      <td>...</td>\n      <td>0</td>\n      <td>0</td>\n      <td>0</td>\n      <td>0</td>\n      <td>0</td>\n      <td>0</td>\n      <td>0</td>\n      <td>0</td>\n      <td>0</td>\n      <td>0</td>\n    </tr>\n  </tbody>\n</table>\n<p>5 rows × 92 columns</p>\n</div>",
      "text/plain": "          animal  animals  bird_height  bottle.amount  bottle.color  bottles  \\\n11341037       0        0            0              0             0        0   \n11341038       0        0            0              0             0        0   \n11341039       0        0            0              0             0        0   \n11341040       0        0            0              0             0        0   \n11341041       0        0            0              0             0        0   \n\n          bucket  buckets  buckets_placed  bug  ...  target_water_level  \\\n11341037       0        0               0    0  ...                   0   \n11341038       0        0               0    0  ...                   0   \n11341039       0        0               0    0  ...                   0   \n11341040       0        0               0    0  ...                   0   \n11341041       0        0               0    0  ...                   0   \n\n          target_weight  time_played  total_containers  toy  toy_earned  \\\n11341037              0            0                 0    0           0   \n11341038              0            0                 0    0           0   \n11341039              0            0                 0    0           0   \n11341040              0            0                 0    0           0   \n11341041              0            0                 0    0           0   \n\n          tutorial_step  version  water_level  weight  \n11341037              0        0            0       0  \n11341038              0        0            0       0  \n11341039              0        0            0       0  \n11341040              0        0            0       0  \n11341041              0        0            0       0  \n\n[5 rows x 92 columns]"
     },
     "execution_count": 13,
     "metadata": {},
     "output_type": "execute_result"
    }
   ],
   "source": [
    "compiled_data.tail()"
   ]
  },
  {
   "cell_type": "code",
   "execution_count": 14,
   "metadata": {},
   "outputs": [],
   "source": [
    "del train"
   ]
  },
  {
   "cell_type": "code",
   "execution_count": 6,
   "metadata": {},
   "outputs": [],
   "source": []
  }
 ]
}