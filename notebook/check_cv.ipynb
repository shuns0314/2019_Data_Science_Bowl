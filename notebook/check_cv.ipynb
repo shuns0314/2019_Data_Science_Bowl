{
 "nbformat": 4,
 "nbformat_minor": 2,
 "metadata": {
  "language_info": {
   "name": "python",
   "codemirror_mode": {
    "name": "ipython",
    "version": 3
   },
   "version": "3.7.6"
  },
  "orig_nbformat": 2,
  "file_extension": ".py",
  "mimetype": "text/x-python",
  "name": "python",
  "npconvert_exporter": "python",
  "pygments_lexer": "ipython3",
  "version": 3
 },
 "cells": [
  {
   "cell_type": "code",
   "execution_count": 6,
   "metadata": {},
   "outputs": [],
   "source": [
    "import random\n",
    "import numpy as np\n",
    "import pandas as pd\n",
    "from collections import Counter, defaultdict"
   ]
  },
  {
   "cell_type": "code",
   "execution_count": 7,
   "metadata": {},
   "outputs": [],
   "source": [
    "train = pd.read_csv(\"/code/data/processed/proceeded_train_20200103_182856.csv\", index_col=0)"
   ]
  },
  {
   "cell_type": "code",
   "execution_count": 8,
   "metadata": {},
   "outputs": [
    {
     "data": {
      "text/html": "<div>\n<style scoped>\n    .dataframe tbody tr th:only-of-type {\n        vertical-align: middle;\n    }\n\n    .dataframe tbody tr th {\n        vertical-align: top;\n    }\n\n    .dataframe thead th {\n        text-align: right;\n    }\n</style>\n<table border=\"1\" class=\"dataframe\">\n  <thead>\n    <tr style=\"text-align: right;\">\n      <th></th>\n      <th>Clip</th>\n      <th>Activity</th>\n      <th>Assessment</th>\n      <th>Game</th>\n      <th>session_title</th>\n      <th>count_correct_attempts</th>\n      <th>count_uncorrect_attempts</th>\n      <th>count_accuracy</th>\n      <th>acc_Cart Balancer (Assessment)</th>\n      <th>acc_Cauldron Filler (Assessment)</th>\n      <th>...</th>\n      <th>Magma Peak - Level 1</th>\n      <th>Treasure Map</th>\n      <th>Crystal Caves - Level 2</th>\n      <th>All Star Sorting</th>\n      <th>Tree Top City - Level 2</th>\n      <th>Heavy, Heavier, Heaviest</th>\n      <th>Crystals Rule</th>\n      <th>Dino Drink</th>\n      <th>Air Show</th>\n      <th>Magma Peak - Level 2</th>\n    </tr>\n  </thead>\n  <tbody>\n    <tr>\n      <th>0</th>\n      <td>11</td>\n      <td>3</td>\n      <td>0</td>\n      <td>4</td>\n      <td>32</td>\n      <td>0</td>\n      <td>0</td>\n      <td>0.0</td>\n      <td>-1.0</td>\n      <td>-1.0</td>\n      <td>...</td>\n      <td>1</td>\n      <td>0</td>\n      <td>0</td>\n      <td>153</td>\n      <td>1</td>\n      <td>0</td>\n      <td>0</td>\n      <td>0</td>\n      <td>0</td>\n      <td>0</td>\n    </tr>\n    <tr>\n      <th>1</th>\n      <td>14</td>\n      <td>4</td>\n      <td>1</td>\n      <td>6</td>\n      <td>31</td>\n      <td>1</td>\n      <td>0</td>\n      <td>1.0</td>\n      <td>-1.0</td>\n      <td>-1.0</td>\n      <td>...</td>\n      <td>1</td>\n      <td>1</td>\n      <td>0</td>\n      <td>153</td>\n      <td>1</td>\n      <td>0</td>\n      <td>61</td>\n      <td>0</td>\n      <td>180</td>\n      <td>0</td>\n    </tr>\n    <tr>\n      <th>2</th>\n      <td>14</td>\n      <td>4</td>\n      <td>2</td>\n      <td>6</td>\n      <td>32</td>\n      <td>1</td>\n      <td>11</td>\n      <td>0.5</td>\n      <td>-1.0</td>\n      <td>-1.0</td>\n      <td>...</td>\n      <td>1</td>\n      <td>1</td>\n      <td>0</td>\n      <td>153</td>\n      <td>1</td>\n      <td>0</td>\n      <td>61</td>\n      <td>0</td>\n      <td>180</td>\n      <td>0</td>\n    </tr>\n    <tr>\n      <th>3</th>\n      <td>24</td>\n      <td>9</td>\n      <td>4</td>\n      <td>10</td>\n      <td>32</td>\n      <td>2</td>\n      <td>11</td>\n      <td>0.5</td>\n      <td>-1.0</td>\n      <td>-1.0</td>\n      <td>...</td>\n      <td>2</td>\n      <td>1</td>\n      <td>0</td>\n      <td>203</td>\n      <td>2</td>\n      <td>0</td>\n      <td>61</td>\n      <td>91</td>\n      <td>180</td>\n      <td>1</td>\n    </tr>\n    <tr>\n      <th>4</th>\n      <td>28</td>\n      <td>10</td>\n      <td>5</td>\n      <td>13</td>\n      <td>31</td>\n      <td>3</td>\n      <td>12</td>\n      <td>0.5</td>\n      <td>-1.0</td>\n      <td>-1.0</td>\n      <td>...</td>\n      <td>2</td>\n      <td>3</td>\n      <td>0</td>\n      <td>203</td>\n      <td>2</td>\n      <td>0</td>\n      <td>212</td>\n      <td>91</td>\n      <td>295</td>\n      <td>1</td>\n    </tr>\n  </tbody>\n</table>\n<p>5 rows × 492 columns</p>\n</div>",
      "text/plain": "   Clip  Activity  Assessment  Game  session_title  count_correct_attempts  \\\n0    11         3           0     4             32                       0   \n1    14         4           1     6             31                       1   \n2    14         4           2     6             32                       1   \n3    24         9           4    10             32                       2   \n4    28        10           5    13             31                       3   \n\n   count_uncorrect_attempts  count_accuracy  acc_Cart Balancer (Assessment)  \\\n0                         0             0.0                            -1.0   \n1                         0             1.0                            -1.0   \n2                        11             0.5                            -1.0   \n3                        11             0.5                            -1.0   \n4                        12             0.5                            -1.0   \n\n   acc_Cauldron Filler (Assessment)  ...  Magma Peak - Level 1  Treasure Map  \\\n0                              -1.0  ...                     1             0   \n1                              -1.0  ...                     1             1   \n2                              -1.0  ...                     1             1   \n3                              -1.0  ...                     2             1   \n4                              -1.0  ...                     2             3   \n\n   Crystal Caves - Level 2  All Star Sorting  Tree Top City - Level 2  \\\n0                        0               153                        1   \n1                        0               153                        1   \n2                        0               153                        1   \n3                        0               203                        2   \n4                        0               203                        2   \n\n   Heavy, Heavier, Heaviest  Crystals Rule  Dino Drink  Air Show  \\\n0                         0              0           0         0   \n1                         0             61           0       180   \n2                         0             61           0       180   \n3                         0             61          91       180   \n4                         0            212          91       295   \n\n   Magma Peak - Level 2  \n0                     0  \n1                     0  \n2                     0  \n3                     1  \n4                     1  \n\n[5 rows x 492 columns]"
     },
     "execution_count": 8,
     "metadata": {},
     "output_type": "execute_result"
    }
   ],
   "source": [
    "train.head()"
   ]
  },
  {
   "cell_type": "code",
   "execution_count": 9,
   "metadata": {},
   "outputs": [],
   "source": [
    "group = train.installation_id\n",
    "y = train.accuracy_group\n",
    "X = train.drop('accuracy_group', axis=1)\n"
   ]
  },
  {
   "cell_type": "code",
   "execution_count": 18,
   "metadata": {},
   "outputs": [],
   "source": [
    "def stratified_group_k_fold(X, y, groups, k, seed=None):\n",
    "    np.random.seed(seed)\n",
    "    # ラベルの数をカウント\n",
    "    labels_num = np.max(y) + 1\n",
    "    # 各グループのラベルの数をカウントする\n",
    "    y_counts_per_group = defaultdict(lambda: np.zeros(labels_num))\n",
    "    y_distr = Counter()\n",
    "    for label, g in zip(y, groups):\n",
    "        y_counts_per_group[g][label] += 1\n",
    "        y_distr[label] += 1\n",
    "    # 各フォールドのラベルの数をカウント\n",
    "    y_counts_per_fold = defaultdict(lambda: np.zeros(labels_num))\n",
    "    groups_per_fold = defaultdict(set)\n",
    "\n",
    "    def eval_y_counts_per_fold(y_counts, fold):\n",
    "        y_counts_per_fold[fold] += y_counts\n",
    "        std_per_label = []\n",
    "        for label in range(labels_num):\n",
    "            label_std = np.std([y_counts_per_fold[i][label] / y_distr[label] for i in range(k)])\n",
    "            std_per_label.append(label_std)\n",
    "        y_counts_per_fold[fold] -= y_counts\n",
    "        return np.mean(std_per_label)\n",
    "\n",
    "    groups_and_y_counts = list(y_counts_per_group.items())\n",
    "    random.Random(seed).shuffle(groups_and_y_counts)\n",
    "\n",
    "    for g, y_counts in sorted(groups_and_y_counts, key=lambda x: -np.std(x[1])):\n",
    "        best_fold = None\n",
    "        min_eval = None\n",
    "        for i in range(k):\n",
    "            fold_eval = eval_y_counts_per_fold(y_counts, i)\n",
    "            if min_eval is None or fold_eval < min_eval:\n",
    "                min_eval = fold_eval\n",
    "                best_fold = i\n",
    "        y_counts_per_fold[best_fold] += y_counts\n",
    "        groups_per_fold[best_fold].add(g)\n",
    "\n",
    "    all_groups = set(groups)\n",
    "\n",
    "    for i in range(k):\n",
    "        test_k = i\n",
    "        val_k = i+1 if i+1 != k else 0\n",
    "        # print(val_k)\n",
    "        train_groups = all_groups - groups_per_fold[test_k] #  - groups_per_fold[val_k]\n",
    "        # val_groups = groups_per_fold[val_k]\n",
    "        test_groups = groups_per_fold[test_k]\n",
    "        # print(test_groups)\n",
    "        train_indices = [i for i, g in enumerate(groups) if g in train_groups]\n",
    "        # val_indices = [i for i, g in enumerate(groups) if g in val_groups]\n",
    "        #test_indices = {str(g): [i for i, g in enumerate(groups) if g in test_groups]}\n",
    "        \n",
    "        test_indices = []\n",
    "        n_g = None\n",
    "        test_list = []\n",
    "        for i, g in enumerate(groups):\n",
    "            if g in test_groups:\n",
    "                if n_g is not None and n_g != g:\n",
    "                    test_indices.append(test_list)\n",
    "                    test_list = []\n",
    "                test_list.append(i)\n",
    "                n_g = g\n",
    "\n",
    "        test_indices = [np.random.choice(i, ) for i in test_indices]\n",
    "        yield train_indices, test_indices, # val_indices,"
   ]
  },
  {
   "cell_type": "code",
   "execution_count": 19,
   "metadata": {},
   "outputs": [],
   "source": [
    "a = stratified_group_k_fold(X=X, y=y, groups=group, k=5, seed=55)"
   ]
  },
  {
   "cell_type": "code",
   "execution_count": 20,
   "metadata": {},
   "outputs": [
    {
     "name": "stdout",
     "output_type": "stream",
     "text": "------------------data------------------\n------------------data------------------\n"
    }
   ],
   "source": [
    "for i, (train_ind, val_ind) in enumerate(a):\n",
    "    print('------------------data------------------')\n",
    "    a = val_ind\n",
    "    # print(data)\n",
    "    if i == 1:\n",
    "        break"
   ]
  },
  {
   "cell_type": "code",
   "execution_count": 21,
   "metadata": {},
   "outputs": [
    {
     "data": {
      "text/plain": "[37,\n 86,\n 87,\n 92,\n 126,\n 130,\n 148,\n 183,\n 226,\n 250,\n 252,\n 277,\n 296,\n 306,\n 349,\n 388,\n 395,\n 483,\n 484,\n 490,\n 569,\n 605,\n 635,\n 830,\n 832,\n 837,\n 889,\n 897,\n 905,\n 953,\n 978,\n 1074,\n 1149,\n 1182,\n 1211,\n 1220,\n 1229,\n 1232,\n 1237,\n 1257,\n 1263,\n 1267,\n 1284,\n 1293,\n 1371,\n 1372,\n 1474,\n 1515,\n 1520,\n 1555,\n 1558,\n 1581,\n 1586,\n 1594,\n 1626,\n 1670,\n 1690,\n 1720,\n 1783,\n 1809,\n 1866,\n 1886,\n 1894,\n 1906,\n 1909,\n 1912,\n 1941,\n 1956,\n 1958,\n 1984,\n 1992,\n 1999,\n 2015,\n 2098,\n 2102,\n 2125,\n 2134,\n 2203,\n 2317,\n 2348,\n 2363,\n 2470,\n 2475,\n 2479,\n 2482,\n 2556,\n 2577,\n 2615,\n 2642,\n 2656,\n 2712,\n 2713,\n 2753,\n 2760,\n 2761,\n 2792,\n 2809,\n 2915,\n 2927,\n 2930,\n 2931,\n 3005,\n 3021,\n 3036,\n 3038,\n 3039,\n 3047,\n 3103,\n 3134,\n 3161,\n 3168,\n 3186,\n 3218,\n 3294,\n 3298,\n 3303,\n 3378,\n 3532,\n 3554,\n 3562,\n 3564,\n 3568,\n 3576,\n 3578,\n 3587,\n 3603,\n 3618,\n 3621,\n 3642,\n 3672,\n 3696,\n 3726,\n 3735,\n 3760,\n 3763,\n 3780,\n 3781,\n 3819,\n 3833,\n 3836,\n 3874,\n 3885,\n 3889,\n 3891,\n 3905,\n 3929,\n 4005,\n 4012,\n 4098,\n 4109,\n 4130,\n 4161,\n 4200,\n 4204,\n 4205,\n 4248,\n 4270,\n 4288,\n 4295,\n 4342,\n 4348,\n 4349,\n 4380,\n 4384,\n 4393,\n 4395,\n 4397,\n 4403,\n 4432,\n 4437,\n 4454,\n 4471,\n 4495,\n 4498,\n 4530,\n 4539,\n 4591,\n 4606,\n 4644,\n 4773,\n 4781,\n 4794,\n 4800,\n 4824,\n 4846,\n 4904,\n 4930,\n 4939,\n 5046,\n 5052,\n 5055,\n 5065,\n 5076,\n 5084,\n 5116,\n 5155,\n 5193,\n 5200,\n 5201,\n 5204,\n 5211,\n 5216,\n 5236,\n 5238,\n 5275,\n 5294,\n 5297,\n 5300,\n 5342,\n 5348,\n 5411,\n 5448,\n 5460,\n 5466,\n 5472,\n 5499,\n 5506,\n 5507,\n 5508,\n 5567,\n 5628,\n 5630,\n 5649,\n 5652,\n 5710,\n 5747,\n 5749,\n 5755,\n 5811,\n 5826,\n 5969,\n 5977,\n 5982,\n 5984,\n 6041,\n 6045,\n 6061,\n 6068,\n 6103,\n 6115,\n 6151,\n 6173,\n 6205,\n 6210,\n 6223,\n 6277,\n 6291,\n 6408,\n 6507,\n 6513,\n 6529,\n 6544,\n 6549,\n 6571,\n 6598,\n 6620,\n 6634,\n 6691,\n 6737,\n 6746,\n 6753,\n 6759,\n 6771,\n 6778,\n 6821,\n 6842,\n 6856,\n 6858,\n 6916,\n 6921,\n 6985,\n 6990,\n 7031,\n 7054,\n 7065,\n 7102,\n 7112,\n 7170,\n 7176,\n 7202,\n 7241,\n 7243,\n 7300,\n 7360,\n 7368,\n 7418,\n 7427,\n 7431,\n 7443,\n 7473,\n 7499,\n 7524,\n 7529,\n 7531,\n 7549,\n 7570,\n 7578,\n 7585,\n 7643,\n 7694,\n 7704,\n 7705,\n 7708,\n 7729,\n 7767,\n 7782,\n 7793,\n 7812,\n 7823,\n 7850,\n 7869,\n 7871,\n 7931,\n 7964,\n 7977,\n 7989,\n 8022,\n 8041,\n 8076,\n 8077,\n 8093,\n 8096,\n 8147,\n 8156,\n 8174,\n 8177,\n 8179,\n 8183,\n 8209,\n 8248,\n 8313,\n 8318,\n 8350,\n 8363,\n 8372,\n 8382,\n 8386,\n 8405,\n 8451,\n 8481,\n 8485,\n 8513,\n 8521,\n 8527,\n 8540,\n 8600,\n 8606,\n 8654,\n 8659,\n 8678,\n 8680,\n 8685,\n 8688,\n 8692,\n 8725,\n 8752,\n 8759,\n 8799,\n 8801,\n 8810,\n 8816,\n 8821,\n 8880,\n 8912,\n 8942,\n 8944,\n 8949,\n 8954,\n 8956,\n 8959,\n 8983,\n 9012,\n 9016,\n 9018,\n 9037,\n 9084,\n 9092,\n 9099,\n 9125,\n 9142,\n 9152,\n 9163,\n 9183,\n 9195,\n 9231,\n 9246,\n 9306,\n 9359,\n 9384,\n 9424,\n 9460,\n 9510,\n 9513,\n 9581,\n 9663,\n 9678,\n 9707,\n 9729,\n 9747,\n 9758,\n 9762,\n 9812,\n 9840,\n 9913,\n 9928,\n 9949,\n 10010,\n 10011,\n 10015,\n 10031,\n 10107,\n 10116,\n 10122,\n 10137,\n 10222,\n 10236,\n 10284,\n 10334,\n 10350,\n 10356,\n 10375,\n 10389,\n 10442,\n 10446,\n 10469,\n 10479,\n 10482,\n 10483,\n 10515,\n 10525,\n 10526,\n 10532,\n 10535,\n 10555,\n 10567,\n 10594,\n 10595,\n 10600,\n 10613,\n 10652,\n 10661,\n 10758,\n 10838,\n 10842,\n 10850,\n 10876,\n 10881,\n 10899,\n 10903,\n 10906,\n 11024,\n 11035,\n 11069,\n 11073,\n 11087,\n 11102,\n 11142,\n 11155,\n 11188,\n 11193,\n 11194,\n 11262,\n 11265,\n 11280,\n 11291,\n 11296,\n 11297,\n 11302,\n 11311,\n 11316,\n 11341,\n 11404,\n 11444,\n 11525,\n 11540,\n 11549,\n 11580,\n 11611,\n 11615,\n 11628,\n 11632,\n 11635,\n 11647,\n 11722,\n 11800,\n 11820,\n 11824,\n 11825,\n 11842,\n 11851,\n 11925,\n 11948,\n 11976,\n 11981,\n 11987,\n 12002,\n 12023,\n 12024,\n 12050,\n 12058,\n 12089,\n 12100,\n 12110,\n 12129,\n 12130,\n 12132,\n 12135,\n 12170,\n 12186,\n 12207,\n 12231,\n 12239,\n 12244,\n 12266,\n 12292,\n 12295,\n 12308,\n 12313,\n 12319,\n 12330,\n 12380,\n 12399,\n 12416,\n 12427,\n 12440,\n 12443,\n 12459,\n 12464,\n 12465,\n 12503,\n 12525,\n 12554,\n 12563,\n 12571,\n 12588,\n 12599,\n 12640,\n 12644,\n 12668,\n 12681,\n 12723,\n 12724,\n 12763,\n 12918,\n 12956,\n 12968,\n 13007,\n 13016,\n 13068,\n 13118,\n 13181,\n 13223,\n 13225,\n 13230,\n 13239,\n 13244,\n 13249,\n 13281,\n 13283,\n 13287,\n 13292,\n 13298,\n 13346,\n 13385,\n 13393,\n 13400,\n 13402,\n 13427,\n 13452,\n 13464,\n 13504,\n 13524,\n 13566,\n 13659,\n 13710,\n 13749,\n 13773,\n 13784,\n 13795,\n 13799,\n 13810,\n 13816,\n 13817,\n 13833,\n 13846,\n 13857,\n 13862,\n 13898,\n 13909,\n 13911,\n 13948,\n 14055,\n 14084,\n 14237,\n 14266,\n 14279,\n 14306,\n 14326,\n 14330,\n 14342,\n 14360,\n 14413,\n 14446,\n 14543,\n 14562,\n 14582,\n 14584,\n 14598,\n 14608,\n 14640,\n 14643,\n 14687,\n 14776,\n 14820,\n 14823,\n 14845,\n 14852,\n 14922,\n 14949,\n 14976,\n 14989,\n 15016,\n 15056,\n 15069,\n 15100,\n 15102,\n 15145,\n 15251,\n 15293,\n 15302,\n 15311,\n 15363,\n 15397,\n 15410,\n 15418,\n 15425,\n 15427,\n 15452,\n 15501,\n 15506,\n 15566,\n 15578,\n 15584,\n 15588,\n 15594,\n 15600,\n 15635,\n 15661,\n 15664,\n 15667,\n 15683,\n 15693,\n 15701,\n 15733,\n 15793,\n 15794,\n 15852,\n 15864,\n 15877,\n 15893,\n 15894,\n 15899,\n 15912,\n 15951,\n 15978,\n 16005,\n 16006,\n 16008,\n 16015,\n 16018,\n 16028,\n 16037,\n 16058,\n 16109,\n 16124,\n 16163,\n 16178,\n 16200,\n 16228,\n 16231,\n 16247,\n 16275,\n 16279,\n 16336,\n 16338,\n 16371,\n 16380,\n 16422,\n 16429,\n 16520,\n 16628,\n 16637,\n 16647,\n 16651,\n 16657,\n 16690,\n 16787,\n 16800,\n 16806,\n 16811,\n 16832,\n 16862,\n 16889,\n 16891,\n 16899,\n 16902,\n 16906,\n 16910,\n 16916,\n 16924,\n 16933,\n 16937,\n 16954,\n 16959,\n 17012,\n 17038,\n 17039,\n 17093,\n 17100,\n 17123,\n 17179,\n 17269,\n 17285,\n 17292,\n 17298,\n 17302,\n 17338,\n 17365,\n 17411,\n 17432,\n 17448,\n 17478,\n 17479,\n 17480,\n 17511,\n 17522,\n 17542,\n 17546,\n 17584,\n 17590,\n 17592,\n 17615,\n 17640,\n 17641,\n 17642]"
     },
     "execution_count": 21,
     "metadata": {},
     "output_type": "execute_result"
    }
   ],
   "source": [
    "val_ind"
   ]
  },
  {
   "cell_type": "code",
   "execution_count": 0,
   "metadata": {},
   "outputs": [],
   "source": [
    "np.random.choice(val_ind['78cacfd1'])"
   ]
  }
 ]
}