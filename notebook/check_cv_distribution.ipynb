{
 "nbformat": 4,
 "nbformat_minor": 2,
 "metadata": {
  "language_info": {
   "name": "python",
   "codemirror_mode": {
    "name": "ipython",
    "version": 3
   },
   "version": "3.7.6"
  },
  "orig_nbformat": 2,
  "file_extension": ".py",
  "mimetype": "text/x-python",
  "name": "python",
  "npconvert_exporter": "python",
  "pygments_lexer": "ipython3",
  "version": 3
 },
 "cells": [
  {
   "source": [
    "import numpy as np\n",
    "import pandas as pd\n",
    "import random\n",
    "from collections import Counter, defaultdict\n",
    "from sklearn.model_selection import KFold, StratifiedKFold"
   ],
   "cell_type": "code",
   "outputs": [],
   "metadata": {},
   "execution_count": 2
  },
  {
   "source": [
    "train = pd.read_csv(\"/code/data/processed/proceeded_train_<built-in method now of type object at 0x7efbfea9bda0>.csv\", index_col=0)"
   ],
   "cell_type": "code",
   "outputs": [],
   "metadata": {},
   "execution_count": 3
  },
  {
   "source": [
    "train.head()"
   ],
   "cell_type": "code",
   "outputs": [
    {
     "output_type": "execute_result",
     "data": {
      "text/plain": "   Clip  Activity  Assessment  Game  session_title  count_correct_attempts  \\\n0    11         3           0     4             19                       0   \n1    14         4           1     6             38                       1   \n2    14         4           2     6             19                       1   \n3    24         9           4    10             19                       2   \n4    28        10           5    13             38                       3   \n\n   count_uncorrect_attempts  count_accuracy  duration_mean  accuracy_group  \\\n0                         0             0.0           0.00               3   \n1                         0             1.0          39.00               0   \n2                        11             0.5          65.50               3   \n3                        11             0.5          41.25               2   \n4                        12             0.5          39.20               3   \n\n   mean_accuracy_group  0  1  2  3 installation_id  count_actions  \n0                  0.0  0  0  0  0        0006a69f            647  \n1                  3.0  0  0  0  1        0006a69f           1143  \n2                  1.5  1  0  0  1        0006a69f           1230  \n3                  1.5  2  0  0  2        0006a69f           2159  \n4                  1.6  2  0  1  2        0006a69f           2586  ",
      "text/html": "<div>\n<style scoped>\n    .dataframe tbody tr th:only-of-type {\n        vertical-align: middle;\n    }\n\n    .dataframe tbody tr th {\n        vertical-align: top;\n    }\n\n    .dataframe thead th {\n        text-align: right;\n    }\n</style>\n<table border=\"1\" class=\"dataframe\">\n  <thead>\n    <tr style=\"text-align: right;\">\n      <th></th>\n      <th>Clip</th>\n      <th>Activity</th>\n      <th>Assessment</th>\n      <th>Game</th>\n      <th>session_title</th>\n      <th>count_correct_attempts</th>\n      <th>count_uncorrect_attempts</th>\n      <th>count_accuracy</th>\n      <th>duration_mean</th>\n      <th>accuracy_group</th>\n      <th>mean_accuracy_group</th>\n      <th>0</th>\n      <th>1</th>\n      <th>2</th>\n      <th>3</th>\n      <th>installation_id</th>\n      <th>count_actions</th>\n    </tr>\n  </thead>\n  <tbody>\n    <tr>\n      <th>0</th>\n      <td>11</td>\n      <td>3</td>\n      <td>0</td>\n      <td>4</td>\n      <td>19</td>\n      <td>0</td>\n      <td>0</td>\n      <td>0.0</td>\n      <td>0.00</td>\n      <td>3</td>\n      <td>0.0</td>\n      <td>0</td>\n      <td>0</td>\n      <td>0</td>\n      <td>0</td>\n      <td>0006a69f</td>\n      <td>647</td>\n    </tr>\n    <tr>\n      <th>1</th>\n      <td>14</td>\n      <td>4</td>\n      <td>1</td>\n      <td>6</td>\n      <td>38</td>\n      <td>1</td>\n      <td>0</td>\n      <td>1.0</td>\n      <td>39.00</td>\n      <td>0</td>\n      <td>3.0</td>\n      <td>0</td>\n      <td>0</td>\n      <td>0</td>\n      <td>1</td>\n      <td>0006a69f</td>\n      <td>1143</td>\n    </tr>\n    <tr>\n      <th>2</th>\n      <td>14</td>\n      <td>4</td>\n      <td>2</td>\n      <td>6</td>\n      <td>19</td>\n      <td>1</td>\n      <td>11</td>\n      <td>0.5</td>\n      <td>65.50</td>\n      <td>3</td>\n      <td>1.5</td>\n      <td>1</td>\n      <td>0</td>\n      <td>0</td>\n      <td>1</td>\n      <td>0006a69f</td>\n      <td>1230</td>\n    </tr>\n    <tr>\n      <th>3</th>\n      <td>24</td>\n      <td>9</td>\n      <td>4</td>\n      <td>10</td>\n      <td>19</td>\n      <td>2</td>\n      <td>11</td>\n      <td>0.5</td>\n      <td>41.25</td>\n      <td>2</td>\n      <td>1.5</td>\n      <td>2</td>\n      <td>0</td>\n      <td>0</td>\n      <td>2</td>\n      <td>0006a69f</td>\n      <td>2159</td>\n    </tr>\n    <tr>\n      <th>4</th>\n      <td>28</td>\n      <td>10</td>\n      <td>5</td>\n      <td>13</td>\n      <td>38</td>\n      <td>3</td>\n      <td>12</td>\n      <td>0.5</td>\n      <td>39.20</td>\n      <td>3</td>\n      <td>1.6</td>\n      <td>2</td>\n      <td>0</td>\n      <td>1</td>\n      <td>2</td>\n      <td>0006a69f</td>\n      <td>2586</td>\n    </tr>\n  </tbody>\n</table>\n</div>"
     },
     "metadata": {},
     "execution_count": 4
    }
   ],
   "metadata": {},
   "execution_count": 4
  },
  {
   "source": [
    "def stratified_group_k_fold(X, y, groups, k, seed=None):\n",
    "    labels_num = np.max(y) + 1\n",
    "    y_counts_per_group = defaultdict(lambda: np.zeros(labels_num))\n",
    "    y_distr = Counter()\n",
    "    for label, g in zip(y, groups):\n",
    "        y_counts_per_group[g][label] += 1\n",
    "        y_distr[label] += 1\n",
    "\n",
    "    y_counts_per_fold = defaultdict(lambda: np.zeros(labels_num))\n",
    "    groups_per_fold = defaultdict(set)\n",
    "\n",
    "    def eval_y_counts_per_fold(y_counts, fold):\n",
    "        y_counts_per_fold[fold] += y_counts\n",
    "        std_per_label = []\n",
    "        for label in range(labels_num):\n",
    "            label_std = np.std([y_counts_per_fold[i][label] / y_distr[label] for i in range(k)])\n",
    "            std_per_label.append(label_std)\n",
    "        y_counts_per_fold[fold] -= y_counts\n",
    "        return np.mean(std_per_label)\n",
    "    \n",
    "    groups_and_y_counts = list(y_counts_per_group.items())\n",
    "    random.Random(seed).shuffle(groups_and_y_counts)\n",
    "\n",
    "    for g, y_counts in sorted(groups_and_y_counts, key=lambda x: -np.std(x[1])):\n",
    "        best_fold = None\n",
    "        min_eval = None\n",
    "        for i in range(k):\n",
    "            fold_eval = eval_y_counts_per_fold(y_counts, i)\n",
    "            if min_eval is None or fold_eval < min_eval:\n",
    "                min_eval = fold_eval\n",
    "                best_fold = i\n",
    "        y_counts_per_fold[best_fold] += y_counts\n",
    "        groups_per_fold[best_fold].add(g)\n",
    "\n",
    "    all_groups = set(groups)\n",
    "    for i in range(k):\n",
    "        train_groups = all_groups - groups_per_fold[i]\n",
    "        test_groups = groups_per_fold[i]\n",
    "\n",
    "        train_indices = [i for i, g in enumerate(groups) if g in train_groups]\n",
    "        test_indices = [i for i, g in enumerate(groups) if g in test_groups]\n",
    "\n",
    "        yield train_indices, test_indices\n",
    "\n",
    "def get_distribution(y_vals):\n",
    "    y_distr = Counter(y_vals)\n",
    "    y_vals_sum = sum(y_distr.values())\n",
    "    return [f'{y_distr[i] / y_vals_sum:.2%}' for i in range(np.max(y_vals) + 1)]"
   ],
   "cell_type": "code",
   "outputs": [],
   "metadata": {},
   "execution_count": 5
  },
  {
   "source": [
    "train_x = train.drop('accuracy_group', axis=1)\n",
    "train_y = train['accuracy_group']\n",
    "groups = np.array(train['installation_id'])"
   ],
   "cell_type": "code",
   "outputs": [],
   "metadata": {},
   "execution_count": 7
  },
  {
   "source": [
    "distrs = [get_distribution(train_y)]\n",
    "index = ['training set']\n",
    "\n",
    "for fold_ind, (dev_ind, val_ind) in enumerate(stratified_group_k_fold(train_x, train_y, groups, k=5, seed=3)):\n",
    "    dev_y, val_y = train_y[dev_ind], train_y[val_ind]\n",
    "    dev_groups, val_groups = groups[dev_ind], groups[val_ind]\n",
    "    assert len(set(dev_groups) & set(val_groups)) == 0\n",
    "    \n",
    "    distrs.append(get_distribution(dev_y))\n",
    "    index.append(f'development set - fold {fold_ind}')\n",
    "    distrs.append(get_distribution(val_y))\n",
    "    index.append(f'validation set - fold {fold_ind}')"
   ],
   "cell_type": "code",
   "outputs": [],
   "metadata": {},
   "execution_count": 10
  },
  {
   "source": [
    "display('Distribution per class:')\n",
    "pd.DataFrame(distrs, index=index, columns=[f'Label {l}' for l in range(np.max(train_y) + 1)])"
   ],
   "cell_type": "code",
   "outputs": [
    {
     "output_type": "display_data",
     "data": {
      "text/plain": "'Distribution per class:'"
     },
     "metadata": {}
    },
    {
     "output_type": "execute_result",
     "data": {
      "text/plain": "                         Label 0 Label 1 Label 2 Label 3\ntraining set              23.91%  13.63%  12.46%  50.00%\ndevelopment set - fold 0  23.91%  13.62%  12.47%  50.00%\nvalidation set - fold 0   23.91%  13.65%  12.46%  49.99%\ndevelopment set - fold 1  23.90%  13.63%  12.46%  50.00%\nvalidation set - fold 1   23.91%  13.62%  12.46%  50.00%\ndevelopment set - fold 2  23.90%  13.63%  12.46%  50.00%\nvalidation set - fold 2   23.91%  13.62%  12.46%  50.00%\ndevelopment set - fold 3  23.91%  13.63%  12.47%  49.99%\nvalidation set - fold 3   23.90%  13.63%  12.44%  50.03%\ndevelopment set - fold 4  23.91%  13.63%  12.46%  50.00%\nvalidation set - fold 4   23.91%  13.62%  12.49%  49.99%",
      "text/html": "<div>\n<style scoped>\n    .dataframe tbody tr th:only-of-type {\n        vertical-align: middle;\n    }\n\n    .dataframe tbody tr th {\n        vertical-align: top;\n    }\n\n    .dataframe thead th {\n        text-align: right;\n    }\n</style>\n<table border=\"1\" class=\"dataframe\">\n  <thead>\n    <tr style=\"text-align: right;\">\n      <th></th>\n      <th>Label 0</th>\n      <th>Label 1</th>\n      <th>Label 2</th>\n      <th>Label 3</th>\n    </tr>\n  </thead>\n  <tbody>\n    <tr>\n      <th>training set</th>\n      <td>23.91%</td>\n      <td>13.63%</td>\n      <td>12.46%</td>\n      <td>50.00%</td>\n    </tr>\n    <tr>\n      <th>development set - fold 0</th>\n      <td>23.91%</td>\n      <td>13.62%</td>\n      <td>12.47%</td>\n      <td>50.00%</td>\n    </tr>\n    <tr>\n      <th>validation set - fold 0</th>\n      <td>23.91%</td>\n      <td>13.65%</td>\n      <td>12.46%</td>\n      <td>49.99%</td>\n    </tr>\n    <tr>\n      <th>development set - fold 1</th>\n      <td>23.90%</td>\n      <td>13.63%</td>\n      <td>12.46%</td>\n      <td>50.00%</td>\n    </tr>\n    <tr>\n      <th>validation set - fold 1</th>\n      <td>23.91%</td>\n      <td>13.62%</td>\n      <td>12.46%</td>\n      <td>50.00%</td>\n    </tr>\n    <tr>\n      <th>development set - fold 2</th>\n      <td>23.90%</td>\n      <td>13.63%</td>\n      <td>12.46%</td>\n      <td>50.00%</td>\n    </tr>\n    <tr>\n      <th>validation set - fold 2</th>\n      <td>23.91%</td>\n      <td>13.62%</td>\n      <td>12.46%</td>\n      <td>50.00%</td>\n    </tr>\n    <tr>\n      <th>development set - fold 3</th>\n      <td>23.91%</td>\n      <td>13.63%</td>\n      <td>12.47%</td>\n      <td>49.99%</td>\n    </tr>\n    <tr>\n      <th>validation set - fold 3</th>\n      <td>23.90%</td>\n      <td>13.63%</td>\n      <td>12.44%</td>\n      <td>50.03%</td>\n    </tr>\n    <tr>\n      <th>development set - fold 4</th>\n      <td>23.91%</td>\n      <td>13.63%</td>\n      <td>12.46%</td>\n      <td>50.00%</td>\n    </tr>\n    <tr>\n      <th>validation set - fold 4</th>\n      <td>23.91%</td>\n      <td>13.62%</td>\n      <td>12.49%</td>\n      <td>49.99%</td>\n    </tr>\n  </tbody>\n</table>\n</div>"
     },
     "metadata": {},
     "execution_count": 11
    }
   ],
   "metadata": {},
   "execution_count": 11
  },
  {
   "cell_type": "code",
   "execution_count": null,
   "metadata": {},
   "outputs": [],
   "source": []
  }
 ]
}