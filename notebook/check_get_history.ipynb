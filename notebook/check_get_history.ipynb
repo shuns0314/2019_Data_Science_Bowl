{
 "nbformat": 4,
 "nbformat_minor": 2,
 "metadata": {
  "language_info": {
   "name": "python",
   "codemirror_mode": {
    "name": "ipython",
    "version": 3
   },
   "version": "3.7.6"
  },
  "orig_nbformat": 2,
  "file_extension": ".py",
  "mimetype": "text/x-python",
  "name": "python",
  "npconvert_exporter": "python",
  "pygments_lexer": "ipython3",
  "version": 3
 },
 "cells": [
  {
   "cell_type": "code",
   "execution_count": 1,
   "metadata": {},
   "outputs": [],
   "source": [
    "import numpy as np\n",
    "import pandas as pd\n",
    "from tqdm.notebook import tqdm\n",
    "from joblib import Parallel, delayed"
   ]
  },
  {
   "cell_type": "code",
   "execution_count": 2,
   "metadata": {},
   "outputs": [],
   "source": [
    "train = pd.read_csv(\"/code/data/raw/train.csv\")\n",
    "train_labels = pd.read_csv(\"/code/data/raw/train_labels.csv\")\n",
    "test = pd.read_csv(\"/code/data/raw/test.csv\")"
   ]
  },
  {
   "cell_type": "code",
   "execution_count": 3,
   "metadata": {},
   "outputs": [
    {
     "data": {
      "text/html": "<div>\n<style scoped>\n    .dataframe tbody tr th:only-of-type {\n        vertical-align: middle;\n    }\n\n    .dataframe tbody tr th {\n        vertical-align: top;\n    }\n\n    .dataframe thead th {\n        text-align: right;\n    }\n</style>\n<table border=\"1\" class=\"dataframe\">\n  <thead>\n    <tr style=\"text-align: right;\">\n      <th></th>\n      <th>event_id</th>\n      <th>game_session</th>\n      <th>timestamp</th>\n      <th>event_data</th>\n      <th>installation_id</th>\n      <th>event_count</th>\n      <th>event_code</th>\n      <th>game_time</th>\n      <th>title</th>\n      <th>type</th>\n      <th>world</th>\n    </tr>\n  </thead>\n  <tbody>\n    <tr>\n      <th>0</th>\n      <td>27253bdc</td>\n      <td>45bb1e1b6b50c07b</td>\n      <td>2019-09-06T17:53:46.937Z</td>\n      <td>{\"event_code\": 2000, \"event_count\": 1}</td>\n      <td>0001e90f</td>\n      <td>1</td>\n      <td>2000</td>\n      <td>0</td>\n      <td>Welcome to Lost Lagoon!</td>\n      <td>Clip</td>\n      <td>NONE</td>\n    </tr>\n    <tr>\n      <th>1</th>\n      <td>27253bdc</td>\n      <td>17eeb7f223665f53</td>\n      <td>2019-09-06T17:54:17.519Z</td>\n      <td>{\"event_code\": 2000, \"event_count\": 1}</td>\n      <td>0001e90f</td>\n      <td>1</td>\n      <td>2000</td>\n      <td>0</td>\n      <td>Magma Peak - Level 1</td>\n      <td>Clip</td>\n      <td>MAGMAPEAK</td>\n    </tr>\n    <tr>\n      <th>2</th>\n      <td>77261ab5</td>\n      <td>0848ef14a8dc6892</td>\n      <td>2019-09-06T17:54:56.302Z</td>\n      <td>{\"version\":\"1.0\",\"event_count\":1,\"game_time\":0...</td>\n      <td>0001e90f</td>\n      <td>1</td>\n      <td>2000</td>\n      <td>0</td>\n      <td>Sandcastle Builder (Activity)</td>\n      <td>Activity</td>\n      <td>MAGMAPEAK</td>\n    </tr>\n    <tr>\n      <th>3</th>\n      <td>b2dba42b</td>\n      <td>0848ef14a8dc6892</td>\n      <td>2019-09-06T17:54:56.387Z</td>\n      <td>{\"description\":\"Let's build a sandcastle! Firs...</td>\n      <td>0001e90f</td>\n      <td>2</td>\n      <td>3010</td>\n      <td>53</td>\n      <td>Sandcastle Builder (Activity)</td>\n      <td>Activity</td>\n      <td>MAGMAPEAK</td>\n    </tr>\n    <tr>\n      <th>4</th>\n      <td>1bb5fbdb</td>\n      <td>0848ef14a8dc6892</td>\n      <td>2019-09-06T17:55:03.253Z</td>\n      <td>{\"description\":\"Let's build a sandcastle! Firs...</td>\n      <td>0001e90f</td>\n      <td>3</td>\n      <td>3110</td>\n      <td>6972</td>\n      <td>Sandcastle Builder (Activity)</td>\n      <td>Activity</td>\n      <td>MAGMAPEAK</td>\n    </tr>\n  </tbody>\n</table>\n</div>",
      "text/plain": "   event_id      game_session                 timestamp  \\\n0  27253bdc  45bb1e1b6b50c07b  2019-09-06T17:53:46.937Z   \n1  27253bdc  17eeb7f223665f53  2019-09-06T17:54:17.519Z   \n2  77261ab5  0848ef14a8dc6892  2019-09-06T17:54:56.302Z   \n3  b2dba42b  0848ef14a8dc6892  2019-09-06T17:54:56.387Z   \n4  1bb5fbdb  0848ef14a8dc6892  2019-09-06T17:55:03.253Z   \n\n                                          event_data installation_id  \\\n0             {\"event_code\": 2000, \"event_count\": 1}        0001e90f   \n1             {\"event_code\": 2000, \"event_count\": 1}        0001e90f   \n2  {\"version\":\"1.0\",\"event_count\":1,\"game_time\":0...        0001e90f   \n3  {\"description\":\"Let's build a sandcastle! Firs...        0001e90f   \n4  {\"description\":\"Let's build a sandcastle! Firs...        0001e90f   \n\n   event_count  event_code  game_time                          title  \\\n0            1        2000          0        Welcome to Lost Lagoon!   \n1            1        2000          0           Magma Peak - Level 1   \n2            1        2000          0  Sandcastle Builder (Activity)   \n3            2        3010         53  Sandcastle Builder (Activity)   \n4            3        3110       6972  Sandcastle Builder (Activity)   \n\n       type      world  \n0      Clip       NONE  \n1      Clip  MAGMAPEAK  \n2  Activity  MAGMAPEAK  \n3  Activity  MAGMAPEAK  \n4  Activity  MAGMAPEAK  "
     },
     "execution_count": 3,
     "metadata": {},
     "output_type": "execute_result"
    }
   ],
   "source": [
    "train.head()"
   ]
  },
  {
   "cell_type": "code",
   "execution_count": 4,
   "metadata": {},
   "outputs": [
    {
     "data": {
      "text/html": "<div>\n<style scoped>\n    .dataframe tbody tr th:only-of-type {\n        vertical-align: middle;\n    }\n\n    .dataframe tbody tr th {\n        vertical-align: top;\n    }\n\n    .dataframe thead th {\n        text-align: right;\n    }\n</style>\n<table border=\"1\" class=\"dataframe\">\n  <thead>\n    <tr style=\"text-align: right;\">\n      <th></th>\n      <th>event_id</th>\n      <th>game_session</th>\n      <th>timestamp</th>\n      <th>event_data</th>\n      <th>installation_id</th>\n      <th>event_count</th>\n      <th>event_code</th>\n      <th>game_time</th>\n      <th>title</th>\n      <th>type</th>\n      <th>world</th>\n    </tr>\n  </thead>\n  <tbody>\n    <tr>\n      <th>0</th>\n      <td>27253bdc</td>\n      <td>0ea9ecc81a565215</td>\n      <td>2019-09-10T16:50:24.910Z</td>\n      <td>{\"event_code\": 2000, \"event_count\": 1}</td>\n      <td>00abaee7</td>\n      <td>1</td>\n      <td>2000</td>\n      <td>0</td>\n      <td>Welcome to Lost Lagoon!</td>\n      <td>Clip</td>\n      <td>NONE</td>\n    </tr>\n    <tr>\n      <th>1</th>\n      <td>27253bdc</td>\n      <td>c1ea43d8b8261d27</td>\n      <td>2019-09-10T16:50:55.503Z</td>\n      <td>{\"event_code\": 2000, \"event_count\": 1}</td>\n      <td>00abaee7</td>\n      <td>1</td>\n      <td>2000</td>\n      <td>0</td>\n      <td>Magma Peak - Level 1</td>\n      <td>Clip</td>\n      <td>MAGMAPEAK</td>\n    </tr>\n    <tr>\n      <th>2</th>\n      <td>27253bdc</td>\n      <td>7ed86c6b72e725e2</td>\n      <td>2019-09-10T16:51:51.805Z</td>\n      <td>{\"event_code\": 2000, \"event_count\": 1}</td>\n      <td>00abaee7</td>\n      <td>1</td>\n      <td>2000</td>\n      <td>0</td>\n      <td>Magma Peak - Level 2</td>\n      <td>Clip</td>\n      <td>MAGMAPEAK</td>\n    </tr>\n    <tr>\n      <th>3</th>\n      <td>27253bdc</td>\n      <td>7e516ace50e7fe67</td>\n      <td>2019-09-10T16:53:12.825Z</td>\n      <td>{\"event_code\": 2000, \"event_count\": 1}</td>\n      <td>00abaee7</td>\n      <td>1</td>\n      <td>2000</td>\n      <td>0</td>\n      <td>Crystal Caves - Level 1</td>\n      <td>Clip</td>\n      <td>CRYSTALCAVES</td>\n    </tr>\n    <tr>\n      <th>4</th>\n      <td>7d093bf9</td>\n      <td>a022c3f60ba547e7</td>\n      <td>2019-09-10T16:54:12.115Z</td>\n      <td>{\"version\":\"1.0\",\"round\":0,\"event_count\":1,\"ga...</td>\n      <td>00abaee7</td>\n      <td>1</td>\n      <td>2000</td>\n      <td>0</td>\n      <td>Chow Time</td>\n      <td>Game</td>\n      <td>CRYSTALCAVES</td>\n    </tr>\n  </tbody>\n</table>\n</div>",
      "text/plain": "   event_id      game_session                 timestamp  \\\n0  27253bdc  0ea9ecc81a565215  2019-09-10T16:50:24.910Z   \n1  27253bdc  c1ea43d8b8261d27  2019-09-10T16:50:55.503Z   \n2  27253bdc  7ed86c6b72e725e2  2019-09-10T16:51:51.805Z   \n3  27253bdc  7e516ace50e7fe67  2019-09-10T16:53:12.825Z   \n4  7d093bf9  a022c3f60ba547e7  2019-09-10T16:54:12.115Z   \n\n                                          event_data installation_id  \\\n0             {\"event_code\": 2000, \"event_count\": 1}        00abaee7   \n1             {\"event_code\": 2000, \"event_count\": 1}        00abaee7   \n2             {\"event_code\": 2000, \"event_count\": 1}        00abaee7   \n3             {\"event_code\": 2000, \"event_count\": 1}        00abaee7   \n4  {\"version\":\"1.0\",\"round\":0,\"event_count\":1,\"ga...        00abaee7   \n\n   event_count  event_code  game_time                    title  type  \\\n0            1        2000          0  Welcome to Lost Lagoon!  Clip   \n1            1        2000          0     Magma Peak - Level 1  Clip   \n2            1        2000          0     Magma Peak - Level 2  Clip   \n3            1        2000          0  Crystal Caves - Level 1  Clip   \n4            1        2000          0                Chow Time  Game   \n\n          world  \n0          NONE  \n1     MAGMAPEAK  \n2     MAGMAPEAK  \n3  CRYSTALCAVES  \n4  CRYSTALCAVES  "
     },
     "execution_count": 4,
     "metadata": {},
     "output_type": "execute_result"
    }
   ],
   "source": [
    "test.head()"
   ]
  },
  {
   "cell_type": "code",
   "execution_count": 5,
   "metadata": {},
   "outputs": [
    {
     "data": {
      "text/html": "<div>\n<style scoped>\n    .dataframe tbody tr th:only-of-type {\n        vertical-align: middle;\n    }\n\n    .dataframe tbody tr th {\n        vertical-align: top;\n    }\n\n    .dataframe thead th {\n        text-align: right;\n    }\n</style>\n<table border=\"1\" class=\"dataframe\">\n  <thead>\n    <tr style=\"text-align: right;\">\n      <th></th>\n      <th>game_session</th>\n      <th>installation_id</th>\n      <th>title</th>\n      <th>num_correct</th>\n      <th>num_incorrect</th>\n      <th>accuracy</th>\n      <th>accuracy_group</th>\n    </tr>\n  </thead>\n  <tbody>\n    <tr>\n      <th>0</th>\n      <td>6bdf9623adc94d89</td>\n      <td>0006a69f</td>\n      <td>Mushroom Sorter (Assessment)</td>\n      <td>1</td>\n      <td>0</td>\n      <td>1.0</td>\n      <td>3</td>\n    </tr>\n    <tr>\n      <th>1</th>\n      <td>77b8ee947eb84b4e</td>\n      <td>0006a69f</td>\n      <td>Bird Measurer (Assessment)</td>\n      <td>0</td>\n      <td>11</td>\n      <td>0.0</td>\n      <td>0</td>\n    </tr>\n    <tr>\n      <th>2</th>\n      <td>901acc108f55a5a1</td>\n      <td>0006a69f</td>\n      <td>Mushroom Sorter (Assessment)</td>\n      <td>1</td>\n      <td>0</td>\n      <td>1.0</td>\n      <td>3</td>\n    </tr>\n    <tr>\n      <th>3</th>\n      <td>9501794defd84e4d</td>\n      <td>0006a69f</td>\n      <td>Mushroom Sorter (Assessment)</td>\n      <td>1</td>\n      <td>1</td>\n      <td>0.5</td>\n      <td>2</td>\n    </tr>\n    <tr>\n      <th>4</th>\n      <td>a9ef3ecb3d1acc6a</td>\n      <td>0006a69f</td>\n      <td>Bird Measurer (Assessment)</td>\n      <td>1</td>\n      <td>0</td>\n      <td>1.0</td>\n      <td>3</td>\n    </tr>\n  </tbody>\n</table>\n</div>",
      "text/plain": "       game_session installation_id                         title  \\\n0  6bdf9623adc94d89        0006a69f  Mushroom Sorter (Assessment)   \n1  77b8ee947eb84b4e        0006a69f    Bird Measurer (Assessment)   \n2  901acc108f55a5a1        0006a69f  Mushroom Sorter (Assessment)   \n3  9501794defd84e4d        0006a69f  Mushroom Sorter (Assessment)   \n4  a9ef3ecb3d1acc6a        0006a69f    Bird Measurer (Assessment)   \n\n   num_correct  num_incorrect  accuracy  accuracy_group  \n0            1              0       1.0               3  \n1            0             11       0.0               0  \n2            1              0       1.0               3  \n3            1              1       0.5               2  \n4            1              0       1.0               3  "
     },
     "execution_count": 5,
     "metadata": {},
     "output_type": "execute_result"
    }
   ],
   "source": [
    "train_labels.head()"
   ]
  },
  {
   "cell_type": "code",
   "execution_count": 6,
   "metadata": {},
   "outputs": [],
   "source": [
    "# encode title\n",
    "list_of_user_activities = list(set(train['title'].value_counts().index).union(set(test['title'].value_counts().index)))\n",
    "activities_map = dict(zip(list_of_user_activities, np.arange(len(list_of_user_activities))))\n",
    "\n",
    "train['title'] = train['title'].map(activities_map)\n",
    "test['title'] = test['title'].map(activities_map)\n",
    "train_labels['title'] = train_labels['title'].map(activities_map)"
   ]
  },
  {
   "cell_type": "code",
   "execution_count": 7,
   "metadata": {},
   "outputs": [],
   "source": [
    "win_code = dict(zip(activities_map.values(), (4100*np.ones(len(activities_map))).astype('int')))\n",
    "win_code[activities_map['Bird Measurer (Assessment)']] = 4110"
   ]
  },
  {
   "cell_type": "code",
   "execution_count": 8,
   "metadata": {},
   "outputs": [],
   "source": [
    "train['timestamp'] = pd.to_datetime(train['timestamp'])\n",
    "test['timestamp'] = pd.to_datetime(test['timestamp'])"
   ]
  },
  {
   "cell_type": "code",
   "execution_count": 104,
   "metadata": {},
   "outputs": [],
   "source": [
    "def get_data(user_sample, test_set=False):\n",
    "    last_activity = 0\n",
    "    user_activities_count = {'Clip':0, 'Activity': 0, 'Assessment': 0, 'Game':0}\n",
    "    accuracy_groups = {0:0, 1:0, 2:0, 3:0}\n",
    "    all_assessments = []\n",
    "    accumulated_accuracy_group = 0\n",
    "    accumulated_accuracy=0\n",
    "    accumulated_correct_attempts = 0 \n",
    "    accumulated_uncorrect_attempts = 0 \n",
    "    accumulated_actions = 0\n",
    "    counter = 0\n",
    "    durations = []\n",
    "    for i, session in user_sample.groupby('game_session', sort=False):\n",
    "        session_type = session['type'].iloc[0]\n",
    "        session_title = session['title'].iloc[0]\n",
    "        if test_set == True:\n",
    "            second_condition = True\n",
    "        else:\n",
    "            if len(session)>1:\n",
    "                second_condition = True\n",
    "            else:\n",
    "                second_condition= False\n",
    "            \n",
    "        if (session_type == 'Assessment') & (second_condition):\n",
    "            all_attempts = session.query(f'event_code == {win_code[session_title]}')\n",
    "            true_attempts = all_attempts['event_data'].str.contains('true').sum()\n",
    "            false_attempts = all_attempts['event_data'].str.contains('false').sum()\n",
    "            features = user_activities_count.copy()\n",
    "            features['session_title'] = session['title'].iloc[0] \n",
    "            features['accumulated_correct_attempts'] = accumulated_correct_attempts\n",
    "            features['accumulated_uncorrect_attempts'] = accumulated_uncorrect_attempts\n",
    "            accumulated_correct_attempts += true_attempts \n",
    "            accumulated_uncorrect_attempts += false_attempts\n",
    "    \n",
    "            if durations == []:\n",
    "                features['duration_mean'] = 0\n",
    "            else:\n",
    "                features['duration_mean'] = np.mean(durations)\n",
    "        \n",
    "            durations.append((session.iloc[-1, 2] - session.iloc[0, 2] ).seconds)\n",
    "            features['accumulated_accuracy'] = accumulated_accuracy/counter if counter > 0 else 0\n",
    "            accuracy = true_attempts/(true_attempts+false_attempts) if (true_attempts+false_attempts) != 0 else 0\n",
    "            accumulated_accuracy += accuracy\n",
    "    \n",
    "            if accuracy == 0:\n",
    "                features['accuracy_group'] = 0\n",
    "            elif accuracy == 1:\n",
    "                features['accuracy_group'] = 3\n",
    "            elif accuracy == 0.5:\n",
    "                features['accuracy_group'] = 2\n",
    "            else:\n",
    "                features['accuracy_group'] = 1\n",
    "\n",
    "            features.update(accuracy_groups)\n",
    "            features['accumulated_accuracy_group'] = accumulated_accuracy_group/counter if counter > 0 else 0\n",
    "            features['accumulated_actions'] = accumulated_actions\n",
    "            accumulated_accuracy_group += features['accuracy_group']\n",
    "            accuracy_groups[features['accuracy_group']] += 1\n",
    "    \n",
    "            if test_set == True:\n",
    "                all_assessments.append(features)\n",
    "            else:\n",
    "                if true_attempts + false_attempts > 0:\n",
    "                    all_assessments.append(features)\n",
    "            counter += 1\n",
    "\n",
    "        accumulated_actions += len(session)\n",
    "\n",
    "        if last_activity != session_type:\n",
    "            user_activities_count[session_type] += 1\n",
    "            last_activitiy = session_type\n",
    "\n",
    "    if test_set:\n",
    "        return all_assessments[-1] \n",
    "\n",
    "    return all_assessments"
   ]
  },
  {
   "cell_type": "code",
   "execution_count": 105,
   "metadata": {},
   "outputs": [],
   "source": [
    "train_group = train.groupby('installation_id', sort=False)"
   ]
  },
  {
   "cell_type": "code",
   "execution_count": 110,
   "metadata": {},
   "outputs": [
    {
     "data": {
      "text/plain": "[{'Clip': 11,\n  'Activity': 3,\n  'Assessment': 0,\n  'Game': 4,\n  'session_title': 24,\n  'accumulated_correct_attempts': 0,\n  'accumulated_uncorrect_attempts': 0,\n  'duration_mean': 0,\n  'accumulated_accuracy': 0,\n  'accuracy_group': 3,\n  0: 0,\n  1: 0,\n  2: 0,\n  3: 0,\n  'accumulated_accuracy_group': 0,\n  'accumulated_actions': 647},\n {'Clip': 14,\n  'Activity': 4,\n  'Assessment': 1,\n  'Game': 6,\n  'session_title': 9,\n  'accumulated_correct_attempts': 1,\n  'accumulated_uncorrect_attempts': 0,\n  'duration_mean': 39.0,\n  'accumulated_accuracy': 1.0,\n  'accuracy_group': 0,\n  0: 0,\n  1: 0,\n  2: 0,\n  3: 1,\n  'accumulated_accuracy_group': 3.0,\n  'accumulated_actions': 1143},\n {'Clip': 14,\n  'Activity': 4,\n  'Assessment': 2,\n  'Game': 6,\n  'session_title': 24,\n  'accumulated_correct_attempts': 1,\n  'accumulated_uncorrect_attempts': 11,\n  'duration_mean': 65.5,\n  'accumulated_accuracy': 0.5,\n  'accuracy_group': 3,\n  0: 1,\n  1: 0,\n  2: 0,\n  3: 1,\n  'accumulated_accuracy_group': 1.5,\n  'accumulated_actions': 1230},\n {'Clip': 24,\n  'Activity': 9,\n  'Assessment': 4,\n  'Game': 10,\n  'session_title': 24,\n  'accumulated_correct_attempts': 2,\n  'accumulated_uncorrect_attempts': 11,\n  'duration_mean': 41.25,\n  'accumulated_accuracy': 0.5,\n  'accuracy_group': 2,\n  0: 2,\n  1: 0,\n  2: 0,\n  3: 2,\n  'accumulated_accuracy_group': 1.5,\n  'accumulated_actions': 2159},\n {'Clip': 28,\n  'Activity': 10,\n  'Assessment': 5,\n  'Game': 13,\n  'session_title': 9,\n  'accumulated_correct_attempts': 3,\n  'accumulated_uncorrect_attempts': 12,\n  'duration_mean': 39.2,\n  'accumulated_accuracy': 0.5,\n  'accuracy_group': 3,\n  0: 2,\n  1: 0,\n  2: 1,\n  3: 2,\n  'accumulated_accuracy_group': 1.6,\n  'accumulated_actions': 2586},\n {'Clip': 15,\n  'Activity': 6,\n  'Assessment': 0,\n  'Game': 4,\n  'session_title': 13,\n  'accumulated_correct_attempts': 0,\n  'accumulated_uncorrect_attempts': 0,\n  'duration_mean': 0,\n  'accumulated_accuracy': 0,\n  'accuracy_group': 3,\n  0: 0,\n  1: 0,\n  2: 0,\n  3: 0,\n  'accumulated_accuracy_group': 0,\n  'accumulated_actions': 1542},\n {'Clip': 28,\n  'Activity': 8,\n  'Assessment': 2,\n  'Game': 5,\n  'session_title': 24,\n  'accumulated_correct_attempts': 1,\n  'accumulated_uncorrect_attempts': 0,\n  'duration_mean': 7.0,\n  'accumulated_accuracy': 0.5,\n  'accuracy_group': 0,\n  0: 1,\n  1: 0,\n  2: 0,\n  3: 1,\n  'accumulated_accuracy_group': 1.5,\n  'accumulated_actions': 1898},\n {'Clip': 30,\n  'Activity': 8,\n  'Assessment': 3,\n  'Game': 6,\n  'session_title': 9,\n  'accumulated_correct_attempts': 1,\n  'accumulated_uncorrect_attempts': 4,\n  'duration_mean': 35.0,\n  'accumulated_accuracy': 0.3333333333333333,\n  'accuracy_group': 2,\n  0: 2,\n  1: 0,\n  2: 0,\n  3: 1,\n  'accumulated_accuracy_group': 1.0,\n  'accumulated_actions': 2022}]"
     },
     "execution_count": 110,
     "metadata": {},
     "output_type": "execute_result"
    }
   ],
   "source": [
    "a_list = []\n",
    "for i, (a, b) in enumerate(train_group):\n",
    "    data = get_data(user_sample=b)\n",
    "    a_list += data\n",
    "    \n",
    "    if i==3:\n",
    "        break\n",
    "a_list"
   ]
  },
  {
   "cell_type": "code",
   "execution_count": 111,
   "metadata": {},
   "outputs": [
    {
     "data": {
      "text/html": "<div>\n<style scoped>\n    .dataframe tbody tr th:only-of-type {\n        vertical-align: middle;\n    }\n\n    .dataframe tbody tr th {\n        vertical-align: top;\n    }\n\n    .dataframe thead th {\n        text-align: right;\n    }\n</style>\n<table border=\"1\" class=\"dataframe\">\n  <thead>\n    <tr style=\"text-align: right;\">\n      <th></th>\n      <th>Clip</th>\n      <th>Activity</th>\n      <th>Assessment</th>\n      <th>Game</th>\n      <th>session_title</th>\n      <th>accumulated_correct_attempts</th>\n      <th>accumulated_uncorrect_attempts</th>\n      <th>duration_mean</th>\n      <th>accumulated_accuracy</th>\n      <th>accuracy_group</th>\n      <th>0</th>\n      <th>1</th>\n      <th>2</th>\n      <th>3</th>\n      <th>accumulated_accuracy_group</th>\n      <th>accumulated_actions</th>\n    </tr>\n  </thead>\n  <tbody>\n    <tr>\n      <th>0</th>\n      <td>11</td>\n      <td>3</td>\n      <td>0</td>\n      <td>4</td>\n      <td>24</td>\n      <td>0</td>\n      <td>0</td>\n      <td>0.00</td>\n      <td>0.000000</td>\n      <td>3</td>\n      <td>0</td>\n      <td>0</td>\n      <td>0</td>\n      <td>0</td>\n      <td>0.0</td>\n      <td>647</td>\n    </tr>\n    <tr>\n      <th>1</th>\n      <td>14</td>\n      <td>4</td>\n      <td>1</td>\n      <td>6</td>\n      <td>9</td>\n      <td>1</td>\n      <td>0</td>\n      <td>39.00</td>\n      <td>1.000000</td>\n      <td>0</td>\n      <td>0</td>\n      <td>0</td>\n      <td>0</td>\n      <td>1</td>\n      <td>3.0</td>\n      <td>1143</td>\n    </tr>\n    <tr>\n      <th>2</th>\n      <td>14</td>\n      <td>4</td>\n      <td>2</td>\n      <td>6</td>\n      <td>24</td>\n      <td>1</td>\n      <td>11</td>\n      <td>65.50</td>\n      <td>0.500000</td>\n      <td>3</td>\n      <td>1</td>\n      <td>0</td>\n      <td>0</td>\n      <td>1</td>\n      <td>1.5</td>\n      <td>1230</td>\n    </tr>\n    <tr>\n      <th>3</th>\n      <td>24</td>\n      <td>9</td>\n      <td>4</td>\n      <td>10</td>\n      <td>24</td>\n      <td>2</td>\n      <td>11</td>\n      <td>41.25</td>\n      <td>0.500000</td>\n      <td>2</td>\n      <td>2</td>\n      <td>0</td>\n      <td>0</td>\n      <td>2</td>\n      <td>1.5</td>\n      <td>2159</td>\n    </tr>\n    <tr>\n      <th>4</th>\n      <td>28</td>\n      <td>10</td>\n      <td>5</td>\n      <td>13</td>\n      <td>9</td>\n      <td>3</td>\n      <td>12</td>\n      <td>39.20</td>\n      <td>0.500000</td>\n      <td>3</td>\n      <td>2</td>\n      <td>0</td>\n      <td>1</td>\n      <td>2</td>\n      <td>1.6</td>\n      <td>2586</td>\n    </tr>\n    <tr>\n      <th>5</th>\n      <td>15</td>\n      <td>6</td>\n      <td>0</td>\n      <td>4</td>\n      <td>13</td>\n      <td>0</td>\n      <td>0</td>\n      <td>0.00</td>\n      <td>0.000000</td>\n      <td>3</td>\n      <td>0</td>\n      <td>0</td>\n      <td>0</td>\n      <td>0</td>\n      <td>0.0</td>\n      <td>1542</td>\n    </tr>\n    <tr>\n      <th>6</th>\n      <td>28</td>\n      <td>8</td>\n      <td>2</td>\n      <td>5</td>\n      <td>24</td>\n      <td>1</td>\n      <td>0</td>\n      <td>7.00</td>\n      <td>0.500000</td>\n      <td>0</td>\n      <td>1</td>\n      <td>0</td>\n      <td>0</td>\n      <td>1</td>\n      <td>1.5</td>\n      <td>1898</td>\n    </tr>\n    <tr>\n      <th>7</th>\n      <td>30</td>\n      <td>8</td>\n      <td>3</td>\n      <td>6</td>\n      <td>9</td>\n      <td>1</td>\n      <td>4</td>\n      <td>35.00</td>\n      <td>0.333333</td>\n      <td>2</td>\n      <td>2</td>\n      <td>0</td>\n      <td>0</td>\n      <td>1</td>\n      <td>1.0</td>\n      <td>2022</td>\n    </tr>\n  </tbody>\n</table>\n</div>",
      "text/plain": "   Clip  Activity  Assessment  Game  session_title  \\\n0    11         3           0     4             24   \n1    14         4           1     6              9   \n2    14         4           2     6             24   \n3    24         9           4    10             24   \n4    28        10           5    13              9   \n5    15         6           0     4             13   \n6    28         8           2     5             24   \n7    30         8           3     6              9   \n\n   accumulated_correct_attempts  accumulated_uncorrect_attempts  \\\n0                             0                               0   \n1                             1                               0   \n2                             1                              11   \n3                             2                              11   \n4                             3                              12   \n5                             0                               0   \n6                             1                               0   \n7                             1                               4   \n\n   duration_mean  accumulated_accuracy  accuracy_group  0  1  2  3  \\\n0           0.00              0.000000               3  0  0  0  0   \n1          39.00              1.000000               0  0  0  0  1   \n2          65.50              0.500000               3  1  0  0  1   \n3          41.25              0.500000               2  2  0  0  2   \n4          39.20              0.500000               3  2  0  1  2   \n5           0.00              0.000000               3  0  0  0  0   \n6           7.00              0.500000               0  1  0  0  1   \n7          35.00              0.333333               2  2  0  0  1   \n\n   accumulated_accuracy_group  accumulated_actions  \n0                         0.0                  647  \n1                         3.0                 1143  \n2                         1.5                 1230  \n3                         1.5                 2159  \n4                         1.6                 2586  \n5                         0.0                 1542  \n6                         1.5                 1898  \n7                         1.0                 2022  "
     },
     "execution_count": 111,
     "metadata": {},
     "output_type": "execute_result"
    }
   ],
   "source": [
    "pd.DataFrame(a_list)"
   ]
  },
  {
   "cell_type": "code",
   "execution_count": 86,
   "metadata": {},
   "outputs": [],
   "source": [
    "def process(data, i):\n",
    "    compiled_data = get_data(data)\n",
    "    return compiled_data, i\n",
    "\n",
    "compiled_data = Parallel(n_jobs=-1)(\n",
    "    [delayed(process)(user_sample, i) for i, (_, user_sample) in enumerate(train.groupby('installation_id', sort=False))]\n",
    "    )\n"
   ]
  },
  {
   "cell_type": "code",
   "execution_count": 87,
   "metadata": {},
   "outputs": [],
   "source": [
    "compiled_data.sort(key=lambda x: x[1])\n",
    "compiled_data = [t[0] for t in compiled_data]"
   ]
  },
  {
   "cell_type": "code",
   "execution_count": 88,
   "metadata": {},
   "outputs": [
    {
     "data": {
      "text/html": "<div>\n<style scoped>\n    .dataframe tbody tr th:only-of-type {\n        vertical-align: middle;\n    }\n\n    .dataframe tbody tr th {\n        vertical-align: top;\n    }\n\n    .dataframe thead th {\n        text-align: right;\n    }\n</style>\n<table border=\"1\" class=\"dataframe\">\n  <thead>\n    <tr style=\"text-align: right;\">\n      <th></th>\n      <th>0</th>\n      <th>1</th>\n      <th>2</th>\n      <th>3</th>\n      <th>4</th>\n      <th>5</th>\n      <th>6</th>\n      <th>7</th>\n      <th>8</th>\n      <th>9</th>\n      <th>10</th>\n      <th>11</th>\n      <th>12</th>\n      <th>13</th>\n      <th>14</th>\n      <th>15</th>\n    </tr>\n  </thead>\n  <tbody>\n    <tr>\n      <th>0</th>\n      <td>None</td>\n      <td>None</td>\n      <td>None</td>\n      <td>None</td>\n      <td>None</td>\n      <td>None</td>\n      <td>None</td>\n      <td>None</td>\n      <td>None</td>\n      <td>None</td>\n      <td>NaN</td>\n      <td>NaN</td>\n      <td>NaN</td>\n      <td>NaN</td>\n      <td>None</td>\n      <td>None</td>\n    </tr>\n    <tr>\n      <th>1</th>\n      <td>None</td>\n      <td>None</td>\n      <td>None</td>\n      <td>None</td>\n      <td>None</td>\n      <td>None</td>\n      <td>None</td>\n      <td>None</td>\n      <td>None</td>\n      <td>None</td>\n      <td>NaN</td>\n      <td>NaN</td>\n      <td>NaN</td>\n      <td>NaN</td>\n      <td>None</td>\n      <td>None</td>\n    </tr>\n    <tr>\n      <th>2</th>\n      <td>Clip</td>\n      <td>Activity</td>\n      <td>Assessment</td>\n      <td>Game</td>\n      <td>session_title</td>\n      <td>accumulated_correct_attempts</td>\n      <td>accumulated_uncorrect_attempts</td>\n      <td>duration_mean</td>\n      <td>accumulated_accuracy</td>\n      <td>accuracy_group</td>\n      <td>0.0</td>\n      <td>1.0</td>\n      <td>2.0</td>\n      <td>3.0</td>\n      <td>accumulated_accuracy_group</td>\n      <td>accumulated_actions</td>\n    </tr>\n    <tr>\n      <th>3</th>\n      <td>Clip</td>\n      <td>Activity</td>\n      <td>Assessment</td>\n      <td>Game</td>\n      <td>session_title</td>\n      <td>accumulated_correct_attempts</td>\n      <td>accumulated_uncorrect_attempts</td>\n      <td>duration_mean</td>\n      <td>accumulated_accuracy</td>\n      <td>accuracy_group</td>\n      <td>0.0</td>\n      <td>1.0</td>\n      <td>2.0</td>\n      <td>3.0</td>\n      <td>accumulated_accuracy_group</td>\n      <td>accumulated_actions</td>\n    </tr>\n    <tr>\n      <th>4</th>\n      <td>None</td>\n      <td>None</td>\n      <td>None</td>\n      <td>None</td>\n      <td>None</td>\n      <td>None</td>\n      <td>None</td>\n      <td>None</td>\n      <td>None</td>\n      <td>None</td>\n      <td>NaN</td>\n      <td>NaN</td>\n      <td>NaN</td>\n      <td>NaN</td>\n      <td>None</td>\n      <td>None</td>\n    </tr>\n    <tr>\n      <th>...</th>\n      <td>...</td>\n      <td>...</td>\n      <td>...</td>\n      <td>...</td>\n      <td>...</td>\n      <td>...</td>\n      <td>...</td>\n      <td>...</td>\n      <td>...</td>\n      <td>...</td>\n      <td>...</td>\n      <td>...</td>\n      <td>...</td>\n      <td>...</td>\n      <td>...</td>\n      <td>...</td>\n    </tr>\n    <tr>\n      <th>16995</th>\n      <td>None</td>\n      <td>None</td>\n      <td>None</td>\n      <td>None</td>\n      <td>None</td>\n      <td>None</td>\n      <td>None</td>\n      <td>None</td>\n      <td>None</td>\n      <td>None</td>\n      <td>NaN</td>\n      <td>NaN</td>\n      <td>NaN</td>\n      <td>NaN</td>\n      <td>None</td>\n      <td>None</td>\n    </tr>\n    <tr>\n      <th>16996</th>\n      <td>None</td>\n      <td>None</td>\n      <td>None</td>\n      <td>None</td>\n      <td>None</td>\n      <td>None</td>\n      <td>None</td>\n      <td>None</td>\n      <td>None</td>\n      <td>None</td>\n      <td>NaN</td>\n      <td>NaN</td>\n      <td>NaN</td>\n      <td>NaN</td>\n      <td>None</td>\n      <td>None</td>\n    </tr>\n    <tr>\n      <th>16997</th>\n      <td>None</td>\n      <td>None</td>\n      <td>None</td>\n      <td>None</td>\n      <td>None</td>\n      <td>None</td>\n      <td>None</td>\n      <td>None</td>\n      <td>None</td>\n      <td>None</td>\n      <td>NaN</td>\n      <td>NaN</td>\n      <td>NaN</td>\n      <td>NaN</td>\n      <td>None</td>\n      <td>None</td>\n    </tr>\n    <tr>\n      <th>16998</th>\n      <td>None</td>\n      <td>None</td>\n      <td>None</td>\n      <td>None</td>\n      <td>None</td>\n      <td>None</td>\n      <td>None</td>\n      <td>None</td>\n      <td>None</td>\n      <td>None</td>\n      <td>NaN</td>\n      <td>NaN</td>\n      <td>NaN</td>\n      <td>NaN</td>\n      <td>None</td>\n      <td>None</td>\n    </tr>\n    <tr>\n      <th>16999</th>\n      <td>None</td>\n      <td>None</td>\n      <td>None</td>\n      <td>None</td>\n      <td>None</td>\n      <td>None</td>\n      <td>None</td>\n      <td>None</td>\n      <td>None</td>\n      <td>None</td>\n      <td>NaN</td>\n      <td>NaN</td>\n      <td>NaN</td>\n      <td>NaN</td>\n      <td>None</td>\n      <td>None</td>\n    </tr>\n  </tbody>\n</table>\n<p>17000 rows × 16 columns</p>\n</div>",
      "text/plain": "          0         1           2     3              4  \\\n0      None      None        None  None           None   \n1      None      None        None  None           None   \n2      Clip  Activity  Assessment  Game  session_title   \n3      Clip  Activity  Assessment  Game  session_title   \n4      None      None        None  None           None   \n...     ...       ...         ...   ...            ...   \n16995  None      None        None  None           None   \n16996  None      None        None  None           None   \n16997  None      None        None  None           None   \n16998  None      None        None  None           None   \n16999  None      None        None  None           None   \n\n                                  5                               6  \\\n0                              None                            None   \n1                              None                            None   \n2      accumulated_correct_attempts  accumulated_uncorrect_attempts   \n3      accumulated_correct_attempts  accumulated_uncorrect_attempts   \n4                              None                            None   \n...                             ...                             ...   \n16995                          None                            None   \n16996                          None                            None   \n16997                          None                            None   \n16998                          None                            None   \n16999                          None                            None   \n\n                   7                     8               9   10   11   12  \\\n0               None                  None            None  NaN  NaN  NaN   \n1               None                  None            None  NaN  NaN  NaN   \n2      duration_mean  accumulated_accuracy  accuracy_group  0.0  1.0  2.0   \n3      duration_mean  accumulated_accuracy  accuracy_group  0.0  1.0  2.0   \n4               None                  None            None  NaN  NaN  NaN   \n...              ...                   ...             ...  ...  ...  ...   \n16995           None                  None            None  NaN  NaN  NaN   \n16996           None                  None            None  NaN  NaN  NaN   \n16997           None                  None            None  NaN  NaN  NaN   \n16998           None                  None            None  NaN  NaN  NaN   \n16999           None                  None            None  NaN  NaN  NaN   \n\n        13                          14                   15  \n0      NaN                        None                 None  \n1      NaN                        None                 None  \n2      3.0  accumulated_accuracy_group  accumulated_actions  \n3      3.0  accumulated_accuracy_group  accumulated_actions  \n4      NaN                        None                 None  \n...    ...                         ...                  ...  \n16995  NaN                        None                 None  \n16996  NaN                        None                 None  \n16997  NaN                        None                 None  \n16998  NaN                        None                 None  \n16999  NaN                        None                 None  \n\n[17000 rows x 16 columns]"
     },
     "execution_count": 88,
     "metadata": {},
     "output_type": "execute_result"
    }
   ],
   "source": [
    "pd.DataFrame(compiled_data)"
   ]
  },
  {
   "cell_type": "code",
   "execution_count": 70,
   "metadata": {},
   "outputs": [],
   "source": [
    "a = [1,2,3]\n",
    "a.append(2)"
   ]
  },
  {
   "cell_type": "code",
   "execution_count": 73,
   "metadata": {},
   "outputs": [],
   "source": [
    "a += \"5\""
   ]
  },
  {
   "cell_type": "code",
   "execution_count": 74,
   "metadata": {},
   "outputs": [
    {
     "data": {
      "text/plain": "[1, 2, 3, 2, '5']"
     },
     "execution_count": 74,
     "metadata": {},
     "output_type": "execute_result"
    }
   ],
   "source": [
    "a"
   ]
  }
 ]
}