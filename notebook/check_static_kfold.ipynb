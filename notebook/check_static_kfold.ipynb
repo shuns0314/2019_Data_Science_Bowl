{
 "nbformat": 4,
 "nbformat_minor": 2,
 "metadata": {
  "language_info": {
   "name": "python",
   "codemirror_mode": {
    "name": "ipython",
    "version": 3
   },
   "version": "3.7.6-final"
  },
  "orig_nbformat": 2,
  "file_extension": ".py",
  "mimetype": "text/x-python",
  "name": "python",
  "npconvert_exporter": "python",
  "pygments_lexer": "ipython3",
  "version": 3,
  "kernelspec": {
   "name": "python37664bit9025878f636247c5ae672c7e619bf82e",
   "display_name": "Python 3.7.6 64-bit"
  }
 },
 "cells": [
  {
   "cell_type": "code",
   "execution_count": 1,
   "metadata": {},
   "outputs": [],
   "source": [
    "import numpy as np\n",
    "import pandas as pd"
   ]
  },
  {
   "cell_type": "code",
   "execution_count": 6,
   "metadata": {},
   "outputs": [],
   "source": [
    "importance = pd.read_csv('/code/models/lgb_proceeded_train_20200116_102618_20200117_211418/all_importance.csv',index_col=0)"
   ]
  },
  {
   "cell_type": "code",
   "execution_count": 52,
   "metadata": {},
   "outputs": [
    {
     "data": {
      "text/html": "<div>\n<style scoped>\n    .dataframe tbody tr th:only-of-type {\n        vertical-align: middle;\n    }\n\n    .dataframe tbody tr th {\n        vertical-align: top;\n    }\n\n    .dataframe thead th {\n        text-align: right;\n    }\n</style>\n<table border=\"1\" class=\"dataframe\">\n  <thead>\n    <tr style=\"text-align: right;\">\n      <th></th>\n      <th>0</th>\n      <th>0.1</th>\n      <th>0.2</th>\n      <th>0.3</th>\n      <th>0.4</th>\n      <th>0.5</th>\n      <th>0.6</th>\n      <th>0.7</th>\n      <th>0.8</th>\n      <th>0.9</th>\n      <th>0.10</th>\n      <th>0.11</th>\n      <th>0.12</th>\n      <th>0.13</th>\n      <th>0.14</th>\n    </tr>\n  </thead>\n  <tbody>\n    <tr>\n      <th>Clip</th>\n      <td>104.950459</td>\n      <td>233.659678</td>\n      <td>244.707052</td>\n      <td>92.969399</td>\n      <td>206.109221</td>\n      <td>24.244580</td>\n      <td>108.923098</td>\n      <td>116.309650</td>\n      <td>276.734766</td>\n      <td>559.172697</td>\n      <td>67.050799</td>\n      <td>103.677380</td>\n      <td>262.46972</td>\n      <td>302.479903</td>\n      <td>91.123352</td>\n    </tr>\n    <tr>\n      <th>Activity</th>\n      <td>0.000000</td>\n      <td>0.000000</td>\n      <td>0.000000</td>\n      <td>14.887500</td>\n      <td>0.000000</td>\n      <td>11.404300</td>\n      <td>13.463950</td>\n      <td>23.234700</td>\n      <td>11.594700</td>\n      <td>0.000000</td>\n      <td>16.805401</td>\n      <td>24.602400</td>\n      <td>0.00000</td>\n      <td>7.026090</td>\n      <td>0.000000</td>\n    </tr>\n    <tr>\n      <th>Assessment</th>\n      <td>10.862900</td>\n      <td>0.000000</td>\n      <td>0.000000</td>\n      <td>0.000000</td>\n      <td>0.000000</td>\n      <td>0.000000</td>\n      <td>0.000000</td>\n      <td>0.000000</td>\n      <td>0.000000</td>\n      <td>5.591000</td>\n      <td>0.000000</td>\n      <td>11.039100</td>\n      <td>9.42054</td>\n      <td>0.000000</td>\n      <td>0.000000</td>\n    </tr>\n    <tr>\n      <th>Game</th>\n      <td>0.000000</td>\n      <td>0.000000</td>\n      <td>0.000000</td>\n      <td>45.513901</td>\n      <td>0.000000</td>\n      <td>0.000000</td>\n      <td>9.075070</td>\n      <td>6.515460</td>\n      <td>0.000000</td>\n      <td>8.237450</td>\n      <td>0.000000</td>\n      <td>7.837030</td>\n      <td>22.08500</td>\n      <td>11.627400</td>\n      <td>10.185000</td>\n    </tr>\n    <tr>\n      <th>session_title</th>\n      <td>2088.256493</td>\n      <td>3176.695627</td>\n      <td>1779.851142</td>\n      <td>2918.275608</td>\n      <td>1232.314510</td>\n      <td>1381.710487</td>\n      <td>1313.295803</td>\n      <td>1330.236687</td>\n      <td>2464.587150</td>\n      <td>2942.818735</td>\n      <td>1118.564796</td>\n      <td>2490.029232</td>\n      <td>2260.09873</td>\n      <td>3225.542613</td>\n      <td>18.380671</td>\n    </tr>\n  </tbody>\n</table>\n</div>",
      "text/plain": "                         0          0.1          0.2          0.3  \\\nClip            104.950459   233.659678   244.707052    92.969399   \nActivity          0.000000     0.000000     0.000000    14.887500   \nAssessment       10.862900     0.000000     0.000000     0.000000   \nGame              0.000000     0.000000     0.000000    45.513901   \nsession_title  2088.256493  3176.695627  1779.851142  2918.275608   \n\n                       0.4          0.5          0.6          0.7  \\\nClip            206.109221    24.244580   108.923098   116.309650   \nActivity          0.000000    11.404300    13.463950    23.234700   \nAssessment        0.000000     0.000000     0.000000     0.000000   \nGame              0.000000     0.000000     9.075070     6.515460   \nsession_title  1232.314510  1381.710487  1313.295803  1330.236687   \n\n                       0.8          0.9         0.10         0.11        0.12  \\\nClip            276.734766   559.172697    67.050799   103.677380   262.46972   \nActivity         11.594700     0.000000    16.805401    24.602400     0.00000   \nAssessment        0.000000     5.591000     0.000000    11.039100     9.42054   \nGame              0.000000     8.237450     0.000000     7.837030    22.08500   \nsession_title  2464.587150  2942.818735  1118.564796  2490.029232  2260.09873   \n\n                      0.13       0.14  \nClip            302.479903  91.123352  \nActivity          7.026090   0.000000  \nAssessment        0.000000   0.000000  \nGame             11.627400  10.185000  \nsession_title  3225.542613  18.380671  "
     },
     "execution_count": 52,
     "metadata": {},
     "output_type": "execute_result"
    }
   ],
   "source": [
    "importance.head()"
   ]
  },
  {
   "cell_type": "code",
   "execution_count": 77,
   "metadata": {},
   "outputs": [
    {
     "data": {
      "text/plain": "session_title                                          1982.710552\nlabel_session_title_count_action_label                 1392.422898\ncount_accuracy                                          578.623875\ncount_label_session_title_mean_accuracy_group_label     379.533877\ncount_label_session_title_count_accuracy_label          326.937477\n                                                          ...     \nd06f75b5                                                  0.000000\n13f56524                                                  0.000000\n65abac75                                                  0.000000\n47f43a44                                                  0.000000\n27253bdc                                                  0.000000\nLength: 700, dtype: float64"
     },
     "execution_count": 77,
     "metadata": {},
     "output_type": "execute_result"
    }
   ],
   "source": [
    "importance.mean(axis=1).sort_values(ascending=False)"
   ]
  },
  {
   "cell_type": "code",
   "execution_count": 102,
   "metadata": {},
   "outputs": [],
   "source": [
    "train = pd.read_csv('/code/data/processed/proceeded_train_20200116_102618.csv', index_col=0)\n",
    "test = pd.read_csv('/code/data/processed/proceeded_test_20200116_102618.csv', index_col=0)"
   ]
  },
  {
   "cell_type": "code",
   "execution_count": 103,
   "metadata": {},
   "outputs": [],
   "source": [
    "class Preprocess:\n",
    "\n",
    "    def process(self, df):\n",
    "        df = self.common_process(df, 'date', lank=3)\n",
    "        df = self.common_process(df, 'hour', lank=3)\n",
    "        df = self.common_process(df, 'month', lank=1)\n",
    "        df = self.common_process(df, 'dayofweek', lank=1)\n",
    "        return df\n",
    "\n",
    "    def common_process(self, df, word_in_colums: str, lank: int):\n",
    "        columns = df.columns[df.columns.str.contains(word_in_colums)]\n",
    "        df[f'mean_{word_in_colums}_count'] = df[columns].mean(axis=1)\n",
    "        df[f'std_{word_in_colums}_count'] = df[columns].std(axis=1)\n",
    "        df[f'non_zero_{word_in_colums}'] = (df[columns] == 0).sum(axis=1)\n",
    "        new_columns = [f'{word_in_colums}_lank{i}' for i in range(lank)]\n",
    "        print(new_columns)\n",
    "        df[new_columns] = self.best_columns(df=df, lank=lank, columns=columns)\n",
    "        df.drop(columns, axis=1, inplace=True)\n",
    "        return df\n",
    "\n",
    "    def best_columns(self, df, lank, columns):\n",
    "        df = df[columns]\n",
    "        rename_columns = {date: i for i, date in enumerate(columns)}\n",
    "        df = df.rename(columns=rename_columns)\n",
    "        best_df = df.rank(axis=1, ascending=False).apply(\n",
    "            lambda x: pd.Series(list(x.sort_values()[0:lank].index)), axis=1\n",
    "            )\n",
    "        return best_df"
   ]
  },
  {
   "cell_type": "code",
   "execution_count": 104,
   "metadata": {},
   "outputs": [],
   "source": [
    "preprocess = Preprocess()"
   ]
  },
  {
   "cell_type": "code",
   "execution_count": 105,
   "metadata": {},
   "outputs": [
    {
     "name": "stdout",
     "output_type": "stream",
     "text": "['date_lank0', 'date_lank1', 'date_lank2']\n['hour_lank0', 'hour_lank1', 'hour_lank2']\n['month_lank0']\n['dayofweek_lank0']\n"
    }
   ],
   "source": [
    "train = preprocess.process(train)"
   ]
  },
  {
   "cell_type": "code",
   "execution_count": 106,
   "metadata": {},
   "outputs": [
    {
     "name": "stdout",
     "output_type": "stream",
     "text": "['date_lank0', 'date_lank1', 'date_lank2']\n['hour_lank0', 'hour_lank1', 'hour_lank2']\n['month_lank0']\n['dayofweek_lank0']\n"
    }
   ],
   "source": [
    "test = preprocess.process(test)"
   ]
  },
  {
   "cell_type": "code",
   "execution_count": 107,
   "metadata": {},
   "outputs": [
    {
     "data": {
      "text/html": "<div>\n<style scoped>\n    .dataframe tbody tr th:only-of-type {\n        vertical-align: middle;\n    }\n\n    .dataframe tbody tr th {\n        vertical-align: top;\n    }\n\n    .dataframe thead th {\n        text-align: right;\n    }\n</style>\n<table border=\"1\" class=\"dataframe\">\n  <thead>\n    <tr style=\"text-align: right;\">\n      <th></th>\n      <th>Clip</th>\n      <th>Activity</th>\n      <th>Assessment</th>\n      <th>Game</th>\n      <th>session_title</th>\n      <th>count_correct_attempts</th>\n      <th>count_uncorrect_attempts</th>\n      <th>count_accuracy</th>\n      <th>acc_Cart Balancer (Assessment)</th>\n      <th>acc_Cauldron Filler (Assessment)</th>\n      <th>...</th>\n      <th>hour_lank1</th>\n      <th>hour_lank2</th>\n      <th>mean_month_count</th>\n      <th>std_month_count</th>\n      <th>non_zero_month</th>\n      <th>month_lank0</th>\n      <th>mean_dayofweek_count</th>\n      <th>std_dayofweek_count</th>\n      <th>non_zero_dayofweek</th>\n      <th>dayofweek_lank0</th>\n    </tr>\n  </thead>\n  <tbody>\n    <tr>\n      <th>0</th>\n      <td>11</td>\n      <td>3</td>\n      <td>0</td>\n      <td>4</td>\n      <td>42</td>\n      <td>0</td>\n      <td>0</td>\n      <td>0.0</td>\n      <td>-1.0</td>\n      <td>-1.0</td>\n      <td>...</td>\n      <td>4</td>\n      <td>0</td>\n      <td>161.75</td>\n      <td>323.5</td>\n      <td>3</td>\n      <td>1</td>\n      <td>92.428571</td>\n      <td>244.543014</td>\n      <td>6</td>\n      <td>1</td>\n    </tr>\n    <tr>\n      <th>1</th>\n      <td>14</td>\n      <td>4</td>\n      <td>1</td>\n      <td>6</td>\n      <td>30</td>\n      <td>1</td>\n      <td>0</td>\n      <td>1.0</td>\n      <td>-1.0</td>\n      <td>-1.0</td>\n      <td>...</td>\n      <td>4</td>\n      <td>0</td>\n      <td>285.75</td>\n      <td>571.5</td>\n      <td>3</td>\n      <td>1</td>\n      <td>163.285714</td>\n      <td>432.013393</td>\n      <td>6</td>\n      <td>1</td>\n    </tr>\n    <tr>\n      <th>2</th>\n      <td>14</td>\n      <td>4</td>\n      <td>2</td>\n      <td>6</td>\n      <td>42</td>\n      <td>1</td>\n      <td>11</td>\n      <td>0.5</td>\n      <td>-1.0</td>\n      <td>-1.0</td>\n      <td>...</td>\n      <td>4</td>\n      <td>0</td>\n      <td>307.50</td>\n      <td>615.0</td>\n      <td>3</td>\n      <td>1</td>\n      <td>175.714286</td>\n      <td>464.896302</td>\n      <td>6</td>\n      <td>1</td>\n    </tr>\n    <tr>\n      <th>3</th>\n      <td>24</td>\n      <td>9</td>\n      <td>4</td>\n      <td>10</td>\n      <td>42</td>\n      <td>2</td>\n      <td>11</td>\n      <td>0.5</td>\n      <td>-1.0</td>\n      <td>-1.0</td>\n      <td>...</td>\n      <td>17</td>\n      <td>20</td>\n      <td>539.75</td>\n      <td>1079.5</td>\n      <td>3</td>\n      <td>1</td>\n      <td>308.428571</td>\n      <td>816.025297</td>\n      <td>6</td>\n      <td>1</td>\n    </tr>\n    <tr>\n      <th>4</th>\n      <td>28</td>\n      <td>10</td>\n      <td>5</td>\n      <td>13</td>\n      <td>30</td>\n      <td>3</td>\n      <td>12</td>\n      <td>0.5</td>\n      <td>-1.0</td>\n      <td>-1.0</td>\n      <td>...</td>\n      <td>20</td>\n      <td>17</td>\n      <td>646.50</td>\n      <td>1293.0</td>\n      <td>3</td>\n      <td>1</td>\n      <td>369.428571</td>\n      <td>977.416127</td>\n      <td>6</td>\n      <td>1</td>\n    </tr>\n  </tbody>\n</table>\n<p>5 rows × 601 columns</p>\n</div>",
      "text/plain": "   Clip  Activity  Assessment  Game  session_title  count_correct_attempts  \\\n0    11         3           0     4             42                       0   \n1    14         4           1     6             30                       1   \n2    14         4           2     6             42                       1   \n3    24         9           4    10             42                       2   \n4    28        10           5    13             30                       3   \n\n   count_uncorrect_attempts  count_accuracy  acc_Cart Balancer (Assessment)  \\\n0                         0             0.0                            -1.0   \n1                         0             1.0                            -1.0   \n2                        11             0.5                            -1.0   \n3                        11             0.5                            -1.0   \n4                        12             0.5                            -1.0   \n\n   acc_Cauldron Filler (Assessment)  ...  hour_lank1  hour_lank2  \\\n0                              -1.0  ...           4           0   \n1                              -1.0  ...           4           0   \n2                              -1.0  ...           4           0   \n3                              -1.0  ...          17          20   \n4                              -1.0  ...          20          17   \n\n   mean_month_count  std_month_count  non_zero_month  month_lank0  \\\n0            161.75            323.5               3            1   \n1            285.75            571.5               3            1   \n2            307.50            615.0               3            1   \n3            539.75           1079.5               3            1   \n4            646.50           1293.0               3            1   \n\n   mean_dayofweek_count  std_dayofweek_count  non_zero_dayofweek  \\\n0             92.428571           244.543014                   6   \n1            163.285714           432.013393                   6   \n2            175.714286           464.896302                   6   \n3            308.428571           816.025297                   6   \n4            369.428571           977.416127                   6   \n\n   dayofweek_lank0  \n0                1  \n1                1  \n2                1  \n3                1  \n4                1  \n\n[5 rows x 601 columns]"
     },
     "execution_count": 107,
     "metadata": {},
     "output_type": "execute_result"
    }
   ],
   "source": [
    "train.head()"
   ]
  },
  {
   "cell_type": "code",
   "execution_count": 108,
   "metadata": {},
   "outputs": [
    {
     "data": {
      "text/html": "<div>\n<style scoped>\n    .dataframe tbody tr th:only-of-type {\n        vertical-align: middle;\n    }\n\n    .dataframe tbody tr th {\n        vertical-align: top;\n    }\n\n    .dataframe thead th {\n        text-align: right;\n    }\n</style>\n<table border=\"1\" class=\"dataframe\">\n  <thead>\n    <tr style=\"text-align: right;\">\n      <th></th>\n      <th>Clip</th>\n      <th>Activity</th>\n      <th>Assessment</th>\n      <th>Game</th>\n      <th>session_title</th>\n      <th>count_correct_attempts</th>\n      <th>count_uncorrect_attempts</th>\n      <th>count_accuracy</th>\n      <th>acc_Cart Balancer (Assessment)</th>\n      <th>acc_Cauldron Filler (Assessment)</th>\n      <th>...</th>\n      <th>hour_lank1</th>\n      <th>hour_lank2</th>\n      <th>mean_month_count</th>\n      <th>std_month_count</th>\n      <th>non_zero_month</th>\n      <th>month_lank0</th>\n      <th>mean_dayofweek_count</th>\n      <th>std_dayofweek_count</th>\n      <th>non_zero_dayofweek</th>\n      <th>dayofweek_lank0</th>\n    </tr>\n  </thead>\n  <tbody>\n    <tr>\n      <th>0</th>\n      <td>14</td>\n      <td>7</td>\n      <td>1</td>\n      <td>3</td>\n      <td>19</td>\n      <td>1</td>\n      <td>0</td>\n      <td>1.000000</td>\n      <td>1.0</td>\n      <td>-1.0</td>\n      <td>...</td>\n      <td>16</td>\n      <td>18</td>\n      <td>216.75</td>\n      <td>433.500000</td>\n      <td>3</td>\n      <td>2</td>\n      <td>123.857143</td>\n      <td>168.179892</td>\n      <td>4</td>\n      <td>3</td>\n    </tr>\n    <tr>\n      <th>1</th>\n      <td>29</td>\n      <td>11</td>\n      <td>5</td>\n      <td>12</td>\n      <td>13</td>\n      <td>4</td>\n      <td>7</td>\n      <td>0.466667</td>\n      <td>1.0</td>\n      <td>0.5</td>\n      <td>...</td>\n      <td>22</td>\n      <td>20</td>\n      <td>679.50</td>\n      <td>1315.368009</td>\n      <td>2</td>\n      <td>2</td>\n      <td>388.285714</td>\n      <td>998.507171</td>\n      <td>5</td>\n      <td>6</td>\n    </tr>\n    <tr>\n      <th>2</th>\n      <td>6</td>\n      <td>2</td>\n      <td>0</td>\n      <td>0</td>\n      <td>42</td>\n      <td>0</td>\n      <td>0</td>\n      <td>0.000000</td>\n      <td>-1.0</td>\n      <td>-1.0</td>\n      <td>...</td>\n      <td>23</td>\n      <td>2</td>\n      <td>37.25</td>\n      <td>73.834838</td>\n      <td>2</td>\n      <td>2</td>\n      <td>21.285714</td>\n      <td>55.876991</td>\n      <td>5</td>\n      <td>5</td>\n    </tr>\n    <tr>\n      <th>3</th>\n      <td>10</td>\n      <td>2</td>\n      <td>0</td>\n      <td>1</td>\n      <td>42</td>\n      <td>0</td>\n      <td>0</td>\n      <td>0.000000</td>\n      <td>-1.0</td>\n      <td>-1.0</td>\n      <td>...</td>\n      <td>17</td>\n      <td>6</td>\n      <td>58.25</td>\n      <td>116.500000</td>\n      <td>3</td>\n      <td>0</td>\n      <td>33.285714</td>\n      <td>87.185080</td>\n      <td>4</td>\n      <td>5</td>\n    </tr>\n    <tr>\n      <th>4</th>\n      <td>17</td>\n      <td>1</td>\n      <td>0</td>\n      <td>6</td>\n      <td>13</td>\n      <td>0</td>\n      <td>0</td>\n      <td>0.000000</td>\n      <td>-1.0</td>\n      <td>-1.0</td>\n      <td>...</td>\n      <td>15</td>\n      <td>17</td>\n      <td>237.75</td>\n      <td>278.795475</td>\n      <td>2</td>\n      <td>1</td>\n      <td>135.857143</td>\n      <td>233.033208</td>\n      <td>3</td>\n      <td>3</td>\n    </tr>\n  </tbody>\n</table>\n<p>5 rows × 601 columns</p>\n</div>",
      "text/plain": "   Clip  Activity  Assessment  Game  session_title  count_correct_attempts  \\\n0    14         7           1     3             19                       1   \n1    29        11           5    12             13                       4   \n2     6         2           0     0             42                       0   \n3    10         2           0     1             42                       0   \n4    17         1           0     6             13                       0   \n\n   count_uncorrect_attempts  count_accuracy  acc_Cart Balancer (Assessment)  \\\n0                         0        1.000000                             1.0   \n1                         7        0.466667                             1.0   \n2                         0        0.000000                            -1.0   \n3                         0        0.000000                            -1.0   \n4                         0        0.000000                            -1.0   \n\n   acc_Cauldron Filler (Assessment)  ...  hour_lank1  hour_lank2  \\\n0                              -1.0  ...          16          18   \n1                               0.5  ...          22          20   \n2                              -1.0  ...          23           2   \n3                              -1.0  ...          17           6   \n4                              -1.0  ...          15          17   \n\n   mean_month_count  std_month_count  non_zero_month  month_lank0  \\\n0            216.75       433.500000               3            2   \n1            679.50      1315.368009               2            2   \n2             37.25        73.834838               2            2   \n3             58.25       116.500000               3            0   \n4            237.75       278.795475               2            1   \n\n   mean_dayofweek_count  std_dayofweek_count  non_zero_dayofweek  \\\n0            123.857143           168.179892                   4   \n1            388.285714           998.507171                   5   \n2             21.285714            55.876991                   5   \n3             33.285714            87.185080                   4   \n4            135.857143           233.033208                   3   \n\n   dayofweek_lank0  \n0                3  \n1                6  \n2                5  \n3                5  \n4                3  \n\n[5 rows x 601 columns]"
     },
     "execution_count": 108,
     "metadata": {},
     "output_type": "execute_result"
    }
   ],
   "source": [
    "test.head()"
   ]
  },
  {
   "cell_type": "code",
   "execution_count": 109,
   "metadata": {},
   "outputs": [],
   "source": [
    "def stratified_group_k_fold(X, y, groups, k, seed=None):\n",
    "    np.random.seed(seed)\n",
    "    # ラベルの数をカウント\n",
    "    labels_num = np.max(y) + 1\n",
    "    # 各グループのラベルの数をカウントする\n",
    "    y_counts_per_group = defaultdict(lambda: np.zeros(labels_num))\n",
    "    y_distr = Counter()\n",
    "    for label, g in zip(y, groups):\n",
    "        y_counts_per_group[g][label] += 1\n",
    "        y_distr[label] += 1\n",
    "    # 各フォールドのラベルの数をカウント\n",
    "    y_counts_per_fold = defaultdict(lambda: np.zeros(labels_num))\n",
    "    groups_per_fold = defaultdict(set)\n",
    "\n",
    "    def eval_y_counts_per_fold(y_counts, fold):\n",
    "        y_counts_per_fold[fold] += y_counts\n",
    "        std_per_label = []\n",
    "        for label in range(labels_num):\n",
    "            label_std = np.std([y_counts_per_fold[i][label] / y_distr[label] for i in range(k)])\n",
    "            std_per_label.append(label_std)\n",
    "        y_counts_per_fold[fold] -= y_counts\n",
    "        return np.mean(std_per_label)\n",
    "\n",
    "    groups_and_y_counts = list(y_counts_per_group.items())\n",
    "    random.Random(seed).shuffle(groups_and_y_counts)\n",
    "\n",
    "    for g, y_counts in sorted(groups_and_y_counts, key=lambda x: -np.std(x[1])):\n",
    "        best_fold = None\n",
    "        min_eval = None\n",
    "        for i in range(k):\n",
    "            fold_eval = eval_y_counts_per_fold(y_counts, i)\n",
    "            if min_eval is None or fold_eval < min_eval:\n",
    "                min_eval = fold_eval\n",
    "                best_fold = i\n",
    "        y_counts_per_fold[best_fold] += y_counts\n",
    "        groups_per_fold[best_fold].add(g)\n",
    "\n",
    "    all_groups = set(groups)\n",
    "\n",
    "    for i in range(k):\n",
    "        test_k = i\n",
    "        # val_k = i+1 if i+1 != k else 0\n",
    "        # print(val_k)\n",
    "        train_groups = all_groups - groups_per_fold[test_k]  #  - groups_per_fold[val_k]\n",
    "        # val_groups = groups_per_fold[val_k]\n",
    "        test_groups = groups_per_fold[test_k]\n",
    "        # print(test_groups)\n",
    "        # train_indices = [i for i, g in enumerate(groups) if g in train_groups]\n",
    "        # val_indices = [i for i, g in enumerate(groups) if g in val_groups]\n",
    "        # test_indices = {str(g): [i for i, g in enumerate(groups) if g in test_groups]}\n",
    "\n",
    "        def choice_ind(group):\n",
    "            indices = []\n",
    "            n_g = None\n",
    "            list_ = []\n",
    "            for i, g in enumerate(groups):\n",
    "                if g in group:\n",
    "                    if n_g is not None and n_g != g:\n",
    "                        indices.append(list_)\n",
    "                        list_ = []\n",
    "                    list_.append(i)\n",
    "                    n_g = g\n",
    "\n",
    "            indices = [np.random.choice(i) for i in indices]\n",
    "            return indices\n",
    "\n",
    "        train_indices = choice_ind(train_groups)\n",
    "        test_indices = choice_ind(test_groups)\n",
    "        # print(train_indices)\n",
    "        yield train_indices, test_indices  # val_indices,"
   ]
  },
  {
   "cell_type": "code",
   "execution_count": 110,
   "metadata": {},
   "outputs": [],
   "source": [
    "FEATURES_FOR_TARGET_ENCODING = [\n",
    "    # 'frequency_label',\n",
    "    # 'count_action_label',\n",
    "    # 'count_accuracy_label',\n",
    "    'mean_accuracy_group_label',\n",
    "    # 'label_description_val',\n",
    "    # 'label_session_title_count_accuracy_label',\n",
    "    # 'label_mean_accuracy_group_label_description_val',\n",
    "    # 'label_frequency_label_description_val'\n",
    "    ]\n",
    "\n",
    "LGB_PARAMS = {\n",
    "    'objective': 'regression',\n",
    "    'metric': 'rmse',\n",
    "    }\n",
    "\n",
    "\n",
    "def lgb_model(x, y, train_ind, test_ind, test_x, seed):\n",
    "    x_train = x.iloc[train_ind]\n",
    "    y_train = y.iloc[train_ind]\n",
    "    x_test = x.iloc[test_ind]\n",
    "    y_test = y.iloc[test_ind]\n",
    "\n",
    "    target_encoding = TargetEncoding()\n",
    "    x_train, x_test, test_x = target_encoding.process(\n",
    "        x_train, y_train, x_test, test_x,\n",
    "        columns=FEATURES_FOR_TARGET_ENCODING,\n",
    "        seed=seed)\n",
    "\n",
    "    lgb_train = lgb.Dataset(x_train, y_train)\n",
    "    lgb_val = lgb.Dataset(x_test, y_test, reference=lgb_train)\n",
    "\n",
    "    model = lgb.train(params=LGB_PARAMS,\n",
    "                      train_set=lgb_train,\n",
    "                      valid_sets=lgb_val,\n",
    "                      feval=lgb_qwk,\n",
    "                      num_boost_round=1000,\n",
    "                      early_stopping_rounds=50)\n",
    "\n",
    "    y_pred = model.predict(x_test, num_iteration=model.best_iteration)\n",
    "\n",
    "    importance = pd.DataFrame(model.feature_importance('gain'),\n",
    "                              index=x_train.columns)\n",
    "    return model, y_pred, importance"
   ]
  },
  {
   "cell_type": "code",
   "execution_count": null,
   "metadata": {},
   "outputs": [],
   "source": []
  },
  {
   "cell_type": "code",
   "execution_count": null,
   "metadata": {},
   "outputs": [],
   "source": []
  },
  {
   "cell_type": "code",
   "execution_count": null,
   "metadata": {},
   "outputs": [],
   "source": []
  },
  {
   "cell_type": "code",
   "execution_count": null,
   "metadata": {},
   "outputs": [],
   "source": []
  },
  {
   "cell_type": "code",
   "execution_count": null,
   "metadata": {},
   "outputs": [],
   "source": []
  }
 ]
}