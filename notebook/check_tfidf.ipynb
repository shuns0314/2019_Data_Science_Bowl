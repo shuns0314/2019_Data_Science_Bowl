{
 "nbformat": 4,
 "nbformat_minor": 2,
 "metadata": {
  "language_info": {
   "name": "python",
   "codemirror_mode": {
    "name": "ipython",
    "version": 3
   },
   "version": "3.7.6-final"
  },
  "orig_nbformat": 2,
  "file_extension": ".py",
  "mimetype": "text/x-python",
  "name": "python",
  "npconvert_exporter": "python",
  "pygments_lexer": "ipython3",
  "version": 3,
  "kernelspec": {
   "name": "python37664bit9025878f636247c5ae672c7e619bf82e",
   "display_name": "Python 3.7.6 64-bit"
  }
 },
 "cells": [
  {
   "source": [
    "import numpy as np\n",
    "import pandas as pd\n",
    "from sklearn.feature_extraction.text import TfidfVectorizer\n",
    "from sklearn.cluster import KMeans"
   ],
   "cell_type": "code",
   "outputs": [],
   "metadata": {},
   "execution_count": 1
  },
  {
   "source": [
    "specs = pd.read_csv('/code/data/raw/specs.csv')\n",
    "train_df = pd.read_csv('/code/data/raw/train.csv')\n",
    "test_df = pd.read_csv('/code/data/raw/test.csv')"
   ],
   "cell_type": "code",
   "outputs": [],
   "metadata": {},
   "execution_count": 31
  },
  {
   "source": [
    "specs.head()"
   ],
   "cell_type": "code",
   "outputs": [
    {
     "output_type": "execute_result",
     "data": {
      "text/plain": "   event_id                                               info  \\\n0  2b9272f4  The end of system-initiated feedback (Correct)...   \n1  df4fe8b6  The end of system-initiated feedback (Incorrec...   \n2  3babcb9b  The end of system-initiated instruction event ...   \n3  7f0836bf  The end of system-initiated instruction event ...   \n4  ab3136ba  The end of system-initiated instruction event ...   \n\n                                                args  \n0  [{\"name\":\"game_time\",\"type\":\"int\",\"info\":\"mill...  \n1  [{\"name\":\"game_time\",\"type\":\"int\",\"info\":\"mill...  \n2  [{\"name\":\"game_time\",\"type\":\"int\",\"info\":\"mill...  \n3  [{\"name\":\"game_time\",\"type\":\"int\",\"info\":\"mill...  \n4  [{\"name\":\"game_time\",\"type\":\"int\",\"info\":\"mill...  ",
      "text/html": "<div>\n<style scoped>\n    .dataframe tbody tr th:only-of-type {\n        vertical-align: middle;\n    }\n\n    .dataframe tbody tr th {\n        vertical-align: top;\n    }\n\n    .dataframe thead th {\n        text-align: right;\n    }\n</style>\n<table border=\"1\" class=\"dataframe\">\n  <thead>\n    <tr style=\"text-align: right;\">\n      <th></th>\n      <th>event_id</th>\n      <th>info</th>\n      <th>args</th>\n    </tr>\n  </thead>\n  <tbody>\n    <tr>\n      <th>0</th>\n      <td>2b9272f4</td>\n      <td>The end of system-initiated feedback (Correct)...</td>\n      <td>[{\"name\":\"game_time\",\"type\":\"int\",\"info\":\"mill...</td>\n    </tr>\n    <tr>\n      <th>1</th>\n      <td>df4fe8b6</td>\n      <td>The end of system-initiated feedback (Incorrec...</td>\n      <td>[{\"name\":\"game_time\",\"type\":\"int\",\"info\":\"mill...</td>\n    </tr>\n    <tr>\n      <th>2</th>\n      <td>3babcb9b</td>\n      <td>The end of system-initiated instruction event ...</td>\n      <td>[{\"name\":\"game_time\",\"type\":\"int\",\"info\":\"mill...</td>\n    </tr>\n    <tr>\n      <th>3</th>\n      <td>7f0836bf</td>\n      <td>The end of system-initiated instruction event ...</td>\n      <td>[{\"name\":\"game_time\",\"type\":\"int\",\"info\":\"mill...</td>\n    </tr>\n    <tr>\n      <th>4</th>\n      <td>ab3136ba</td>\n      <td>The end of system-initiated instruction event ...</td>\n      <td>[{\"name\":\"game_time\",\"type\":\"int\",\"info\":\"mill...</td>\n    </tr>\n  </tbody>\n</table>\n</div>"
     },
     "metadata": {},
     "execution_count": 3
    }
   ],
   "metadata": {},
   "execution_count": 3
  },
  {
   "source": [
    "pd.get_dummies(specs.args)"
   ],
   "cell_type": "code",
   "outputs": [
    {
     "output_type": "execute_result",
     "data": {
      "text/plain": "                                                                                                                                                                                                                                                                                                                                                                                                                                                                                                                                                                                                                                                                                                                                                                                                                                                                                                                                                                                                             \n383                                                  0                                                                                                                                                                                                                                                                                                                                                                                                                                                                                                                                                                                                                                                                                                                                                                                                                                                                                                                                                                                                                                                                                                                                                                  \n384                                                  0                                                                                                                                                                                                                                                                                                                                                                                                                                                                                                                                                                                                                                                                                                                                                                                                                                                                                                                                                                                                                                                                                                                                                                  \n385                                                  0                                                                                                                                                                                                                                                                                                                                                                                                                                                                                                                                                                                                                                                                                                                                                                                                                                                                                                                                                                                                                                                                                                                                                                  \n\n     [{\"name\":\"game_time\",\"type\":\"int\",\"info\":\"millisecond count since start of game\"},{\"name\":\"weight\",\"type\":\"int\",\"info\":\"weight of the chest that was placed\"},{\"name\":\"source\",\"type\":\"string\",\"info\":\"“left”, “right”, “heavy”, “heavier”, “heaviest”, or “resources” – location the chest was picked up from\"},{\"name\":\"coordinates\",\"type\":\"object\",\"info\":\"the game screen coordinates of the mouse click\\ndictionary:\\n{“x”: integer, “y”: integer, “stage_width”: integer, “stage_height”: integer}\"},{\"name\":\"duration\",\"type\":\"int\",\"info\":\"the duration of the drag in milliseconds\"},{\"name\":\"event_count\",\"type\":\"int\",\"info\":\"session event counter\"},{\"name\":\"event_code\",\"type\":\"int\",\"info\":\"event class identifier\"}]  \\\n0                                                    0                                                                                                                                                                                                                                                                                                                                                                                                                                                                                                                                                                                                                                                                                       \n1                                                    0                                                                                                                                                                                                                                                                                                                                                                                                                                                                                                                                                                                                                                                                                       \n2                                                    0                                                                                                                                                                                                                                                                                                                                                                                                                                                                                                                                                                                                                                                                                       \n3                                                    0                                                                                                                                                                                                                                                                                                                                                                                                                                                                                                                                                                                                                                                                                       \n4                                                    0                                                                                                                                                                                                                                                                                                                                                                                                                                                                                                                                                                                                                                                                                       \n..                                                 ...                                                                                                                                                                                                                                                                                                                                                                                                                                                                                                                                                                                                                                                                                       \n381                                                  0                                                                                                                                                                                                                                                                                                                                                                                                                                                                                                                                                                                                                                                                                       \n382                                                  0                                                                                                                                                                                                                                                                                                                                                                                                                                                                                                                                                                                                                                                                                       \n383                                                  0                                                                                                                                                                                                                                                                                                                                                                                                                                                                                                                                                                                                                                                                                       \n384                                                  0                                                                                                                                                                                                                                                                                                                                                                                                                                                                                                                                                                                                                                                                                       \n385                                                  0                                                                                                                                                                                                                                                                                                                                                                                                                                                                                                                                                                                                                                                                                       \n\n     [{\"name\":\"game_time\",\"type\":\"int\",\"info\":\"millisecond count since start of gamemillisecond count since start of game\"},{\"name\":\"round\",\"type\":\"int\",\"info\":\"number of the current round when the event takes place or 0 if no round\"},{\"name\":\"session_duration\",\"type\":\"int\",\"info\":\"millisecond count since start of game\"},{\"name\":\"exit_type\",\"type\":\"string\",\"info\":\"\\\"closed container\\\", \\\"game ended\\\", or browser exit/navigation\"},{\"name\":\"event_count\",\"type\":\"int\",\"info\":\"session event counter\"},{\"name\":\"event_code\",\"type\":\"int\",\"info\":\"event class identifier\"}]  \n0                                                    0                                                                                                                                                                                                                                                                                                                                                                                                                                                                                                                                    \n1                                                    0                                                                                                                                                                                                                                                                                                                                                                                                                                                                                                                                    \n2                                                    0                                                                                                                                                                                                                                                                                                                                                                                                                                                                                                                                    \n3                                                    0                                                                                                                                                                                                                                                                                                                                                                                                                                                                                                                                    \n4                                                    0                                                                                                                                                                                                                                                                                                                                                                                                                                                                                                                                    \n..                                                 ...                                                                                                                                                                                                                                                                                                                                                                                                                                                                                                                                    \n381                                                  0                                                                                                                                                                                                                                                                                                                                                                                                                                                                                                                                    \n382                                                  0                                                                                                                                                                                                                                                                                                                                                                                                                                                                                                                                    \n383                                                  0                                                                                                                                                                                                                                                                                                                                                                                                                                                                                                                                    \n384                                                  0                                                                                                                                                                                                                                                                                                                                                                                                                                                                                                                                    \n385                                                  0                                                                                                                                                                                                                                                                                                                                                                                                                                                                                                                                    \n\n[386 rows x 191 columns]",
      "text/html": "<div>\n<style scoped>\n    .dataframe tbody tr th:only-of-type {\n        vertical-align: middle;\n    }\n\n    .dataframe tbody tr th {\n        vertical-align: top;\n    }\n\n    .dataframe thead th {\n        text-align: right;\n    }\n</style>\n<table border=\"1\" class=\"dataframe\">\n  <thead>\n    <tr style=\"text-align: right;\">\n      <th></th>\n      <th>[{\"name\":\"bucket\",\"type\":\"int\",\"info\":\"capacity of the bucket clicked\"},{\"name\":\"buckets_placed\",\"type\":\"array-&gt;int\",\"info\":\"list of buckets placed under cauldrons from left to right\"},{\"name\":\"target_bucket\",\"type\":\"int\",\"info\":\"capacity of the correct bucket\"},{\"name\":\"coordinates\",\"type\":\"object\",\"info\":\"the game screen coordinates of the click\\r\\ndictionary:\\r\\n{“x”: integer, “y”: integer, “stage_width”: integer, “stage_height”: integer}\\r\\n\"},{\"name\":\"correct\",\"type\":\"boolean\",\"info\":\"is this the correct bucket?\"},{\"name\":\"prompt\",\"type\":\"string\",\"info\":\"“bucket that holds the most”, “holds least”, etc. – the prompt given to the player\"},{\"name\":\"game_time\",\"type\":\"int\",\"info\":\"millisecond count since start of game\"},{\"name\":\"event_count\",\"type\":\"int\",\"info\":\"session event counter\"},{\"name\":\"event_code\",\"type\":\"int\",\"info\":\"event class identifier\"}]</th>\n      <th>[{\"name\":\"event_count\",\"type\":\"int\",\"info\":\"session event counter\"},{\"name\":\"event_code\",\"type\":\"int\",\"info\":\"event class identifier\"}]</th>\n      <th>[{\"name\":\"game_time\",\"type\":\"int\",\"info\":\"millisecond count since start of game\"},{\"name\":\"bucket\",\"type\":\"int\",\"info\":\"capacity of the bucket being dragged\"},{\"name\":\"buckets\",\"type\":\"array-&gt;int\",\"info\":\"list of buckets available in the resource area with 0 for missing buckets\"},{\"name\":\"coordinates\",\"type\":\"object\",\"info\":\"the game screen coordinates of the placement\\ndictionary:\\n{“x”: integer, “y”: integer, “stage_width”: integer, “stage_height”: integer}\"},{\"name\":\"buckets_placed\",\"type\":\"array-&gt;int\",\"info\":\"list of buckets placed under cauldrons from left to right with 0 for missing buckets\"},{\"name\":\"source\",\"type\":\"string\",\"info\":\"“left”, “middle”, “right”, or “resources” – location the bucket was dragged from\"},{\"name\":\"event_count\",\"type\":\"int\",\"info\":\"session event counter\"},{\"name\":\"event_code\",\"type\":\"int\",\"info\":\"event class identifier\"}]</th>\n      <th>[{\"name\":\"game_time\",\"type\":\"int\",\"info\":\"millisecond count since start of game\"},{\"name\":\"bucket\",\"type\":\"int\",\"info\":\"capacity of the bucket being dragged\"},{\"name\":\"coordinates\",\"type\":\"object\",\"info\":\"the game screen coordinates of the placement\\ndictionary:\\n{“x”: integer, “y”: integer, “stage_width”: integer, “stage_height”: integer}\"},{\"name\":\"buckets\",\"type\":\"array-&gt;int\",\"info\":\"list of buckets available in the resource area with 0 for missing buckets\"},{\"name\":\"buckets_placed\",\"type\":\"array-&gt;int\",\"info\":\"list of buckets placed under cauldrons from left to right with 0 for missing buckets\"},{\"name\":\"source\",\"type\":\"string\",\"info\":\"“left”, “middle”, or “right” – location the bucket was dragged from\"},{\"name\":\"duration\",\"type\":\"int\",\"info\":\"the duration of the drag in milliseconds\"},{\"name\":\"event_count\",\"type\":\"int\",\"info\":\"session event counter\"},{\"name\":\"event_code\",\"type\":\"int\",\"info\":\"event class identifier\"}]</th>\n      <th>[{\"name\":\"game_time\",\"type\":\"int\",\"info\":\"millisecond count since start of game\"},{\"name\":\"bucket\",\"type\":\"int\",\"info\":\"capacity of the bucket placed\"},{\"name\":\"destination\",\"type\":\"string\",\"info\":\"“left”, “middle”, or “right” – position where the cauldron was placed\"},{\"name\":\"coordinates\",\"type\":\"object\",\"info\":\"the game screen coordinates of the placement\\ndictionary:\\n{“x”: integer, “y”: integer, “stage_width”: integer, “stage_height”: integer}\"},{\"name\":\"cauldron\",\"type\":\"int\",\"info\":\"capacity of the cauldron where the bucket was placed\"},{\"name\":\"buckets\",\"type\":\"array-&gt;int\",\"info\":\"list of buckets available in the resource area with 0 for missing buckets\"},{\"name\":\"buckets_placed\",\"type\":\"array-&gt;int\",\"info\":\"list of buckets placed under cauldrons from left to right with 0 for missing buckets\"},{\"name\":\"correct\",\"type\":\"boolean\",\"info\":\"is this the correct location for this bucket?\"},{\"name\":\"source\",\"type\":\"string\",\"info\":\"“left”, “middle”, “right”, or “resources” – location the bucket was dragged from\"},{\"name\":\"duration\",\"type\":\"int\",\"info\":\"the duration of the drag in milliseconds\"},{\"name\":\"event_count\",\"type\":\"int\",\"info\":\"session event counter\"},{\"name\":\"event_code\",\"type\":\"int\",\"info\":\"event class identifier\"}]</th>\n      <th>[{\"name\":\"game_time\",\"type\":\"int\",\"info\":\"millisecond count since start of game\"},{\"name\":\"bucket\",\"type\":\"int\",\"info\":\"capacity of the bucket that was dragged\"},{\"name\":\"source\",\"type\":\"string\",\"info\":\"“left”, “middle”, “right”, or “resources” – location the bucket was dragged from\"},{\"name\":\"coordinates\",\"type\":\"object\",\"info\":\"the game screen coordinates of the placement\\ndictionary:\\n{“x”: integer, “y”: integer, “stage_width”: integer, “stage_height”: integer}\"},{\"name\":\"duration\",\"type\":\"int\",\"info\":\"the duration of the drag in milliseconds\"},{\"name\":\"event_count\",\"type\":\"int\",\"info\":\"session event counter\"},{\"name\":\"event_code\",\"type\":\"int\",\"info\":\"event class identifier\"}]</th>\n      <th>[{\"name\":\"game_time\",\"type\":\"int\",\"info\":\"millisecond count since start of game\"},{\"name\":\"buckets\",\"type\":\"array-&gt;int\",\"info\":\"list of buckets available in the resource area with 0 for missing buckets\"},{\"name\":\"buckets_placed\",\"type\":\"array-&gt;int\",\"info\":\"list of buckets placed under cauldrons from left to right with 0 for missing buckets\"},{\"name\":\"event_count\",\"type\":\"int\",\"info\":\"session event counter\"},{\"name\":\"event_code\",\"type\":\"int\",\"info\":\"event class identifier\"}]</th>\n      <th>[{\"name\":\"game_time\",\"type\":\"int\",\"info\":\"millisecond count since start of game\"},{\"name\":\"buckets\",\"type\":\"array-&gt;int\",\"info\":\"list of buckets available in the resource area with 0 for missing buckets\"},{\"name\":\"correct\",\"type\":\"boolean\",\"info\":\"are the buckets correctly placed under the cauldrons?\"},{\"name\":\"buckets_placed\",\"type\":\"array-&gt;int\",\"info\":\"list of buckets placed under cauldrons from left to right with 0 for missing buckets\"},{\"name\":\"duration\",\"type\":\"int\",\"info\":\"time since start of game\"},{\"name\":\"event_count\",\"type\":\"int\",\"info\":\"session event counter\"},{\"name\":\"event_code\",\"type\":\"int\",\"info\":\"event class identifier\"}]</th>\n      <th>[{\"name\":\"game_time\",\"type\":\"int\",\"info\":\"millisecond count since start of game\"},{\"name\":\"buckets\",\"type\":\"array-&gt;int\",\"info\":\"list of buckets available in the resource area\"},{\"name\":\"target_bucket\",\"type\":\"int\",\"info\":\"capacity of the correct bucket (when selecting specified bucket or 0 in placing mode)\"},{\"name\":\"mode\",\"type\":\"string\",\"info\":\"\\\"placing\\\" or \\\"selecting\\\" indicates if this round is for placing buckets or for selecting a specified bucket\"},{\"name\":\"prompt\",\"type\":\"string\",\"info\":\"“bucket that holds the most”, “holds least”, etc. – the prompt given to the player\"},{\"name\":\"round_number\",\"type\":\"int\",\"info\":\"the number of the round that is about to start\"},{\"name\":\"event_count\",\"type\":\"int\",\"info\":\"session event counter\"},{\"name\":\"event_code\",\"type\":\"int\",\"info\":\"event class identifier\"}]</th>\n      <th>[{\"name\":\"game_time\",\"type\":\"int\",\"info\":\"millisecond count since start of game\"},{\"name\":\"bug\",\"type\":\"string\",\"info\":\"name of the bug being dragged or “none” if the tape measure is being dragged\"},{\"name\":\"source\",\"type\":\"string\",\"info\":\"“tape” or “resources”\"},{\"name\":\"coordinates\",\"type\":\"object\",\"info\":\"the game screen coordinates of the placement\\ndictionary:\\n{“x”: integer, “y”: integer, “stage_width”: integer, “stage_height”: integer}\"},{\"name\":\"event_count\",\"type\":\"int\",\"info\":\"session event counter\"},{\"name\":\"event_code\",\"type\":\"int\",\"info\":\"event class identifier\"}]</th>\n      <th>...</th>\n      <th>[{\"name\":\"game_time\",\"type\":\"int\",\"info\":\"millisecond count since start of game\"},{\"name\":\"stumps\",\"type\":\"array-&gt;int\",\"info\":\"list of mushroom heights placed on the stumps from left to right\"},{\"name\":\"mode\",\"type\":\"string\",\"info\":\"“arranging” or “picking” – current mode when the help button is clicked\"},{\"name\":\"event_count\",\"type\":\"int\",\"info\":\"session event counter\"},{\"name\":\"event_code\",\"type\":\"int\",\"info\":\"event class identifier\"}]</th>\n      <th>[{\"name\":\"game_time\",\"type\":\"int\",\"info\":\"millisecond count since start of game\"},{\"name\":\"tape_length\",\"type\":\"int\",\"info\":\"length the tape measure is currently dragged to\"},{\"name\":\"bug\",\"type\":\"string\",\"info\":\"name of the bug at the tape measure or “none”\"},{\"name\":\"bug_length\",\"type\":\"int\",\"info\":\"length of the bug being measured or 0 if no bug\"},{\"name\":\"event_count\",\"type\":\"int\",\"info\":\"session event counter\"},{\"name\":\"event_code\",\"type\":\"int\",\"info\":\"event class identifier\"}]</th>\n      <th>[{\"name\":\"game_time\",\"type\":\"int\",\"info\":\"millisecond count since start of game\"},{\"name\":\"version\",\"type\":\"string\",\"info\":\"identifier of the current version of the game being played\"},{\"name\":\"event_count\",\"type\":\"int\",\"info\":\"session event counter\"},{\"name\":\"event_code\",\"type\":\"int\",\"info\":\"event class identifier\"}]</th>\n      <th>[{\"name\":\"game_time\",\"type\":\"int\",\"info\":\"millisecond count since start of game\"},{\"name\":\"water_level\",\"type\":\"int\",\"info\":\"the amount of water in the pool after the event occurs\"},{\"name\":\"event_count\",\"type\":\"int\",\"info\":\"session event counter\"},{\"name\":\"event_code\",\"type\":\"int\",\"info\":\"event class identifier\"}]</th>\n      <th>[{\"name\":\"game_time\",\"type\":\"int\",\"info\":\"millisecond count since start of game\"},{\"name\":\"weight\",\"type\":\"int\",\"info\":\"weight of the chest that was picked up\"},{\"name\":\"pillars\",\"type\":\"array-&gt;int\",\"info\":\"list of chest weights placed on the pillars from left to right after the event occurs\"},{\"name\":\"coordinates\",\"type\":\"object\",\"info\":\"the game screen coordinates of the mouse click\\ndictionary:\\n{“x”: integer, “y”: integer, “stage_width”: integer, “stage_height”: integer}\"},{\"name\":\"left\",\"type\":\"int\",\"info\":\"weight of chest on the left side of the scale after the event occurs\"},{\"name\":\"right\",\"type\":\"int\",\"info\":\"weight of chest on the right side of the scale after the event occurs\"},{\"name\":\"source\",\"type\":\"string\",\"info\":\"“left”, “right”, “heavy”, “heavier”, “heaviest”, or “resources” – location the chest was picked up from\"},{\"name\":\"event_count\",\"type\":\"int\",\"info\":\"session event counter\"},{\"name\":\"event_code\",\"type\":\"int\",\"info\":\"event class identifier\"}]</th>\n      <th>[{\"name\":\"game_time\",\"type\":\"int\",\"info\":\"millisecond count since start of game\"},{\"name\":\"weight\",\"type\":\"int\",\"info\":\"weight of the chest that was placed\"},{\"name\":\"coordinates\",\"type\":\"object\",\"info\":\"the game screen coordinates of the mouse click\\ndictionary:\\n{“x”: integer, “y”: integer, “stage_width”: integer, “stage_height”: integer}\"},{\"name\":\"left\",\"type\":\"int\",\"info\":\"weight of chest on the left side of the scale after the event occurs\"},{\"name\":\"right\",\"type\":\"int\",\"info\":\"weight of chest on the right side of the scale after the event occurs\"},{\"name\":\"pillars\",\"type\":\"array-&gt;int\",\"info\":\"list of chest weights placed on the pillars from left to right after the placement occurs\"},{\"name\":\"source\",\"type\":\"string\",\"info\":\"“left”, “right”, “heavy”, “heavier”, or “heaviest” – location the chest was picked up from\"},{\"name\":\"duration\",\"type\":\"int\",\"info\":\"the duration of the drag in milliseconds\"},{\"name\":\"event_count\",\"type\":\"int\",\"info\":\"session event counter\"},{\"name\":\"event_code\",\"type\":\"int\",\"info\":\"event class identifier\"}]</th>\n      <th>[{\"name\":\"game_time\",\"type\":\"int\",\"info\":\"millisecond count since start of game\"},{\"name\":\"weight\",\"type\":\"int\",\"info\":\"weight of the chest that was placed\"},{\"name\":\"destination\",\"type\":\"string\",\"info\":\"“heavy”, “heavier”, “heaviest” – pillar where the chest was placed\"},{\"name\":\"coordinates\",\"type\":\"object\",\"info\":\"the game screen coordinates of the placement\\ndictionary:\\n{“x”: integer, “y”: integer, “stage_width”: integer, “stage_height”: integer}\"},{\"name\":\"correct\",\"type\":\"boolean\",\"info\":\"is this the correct pillar for this chest?\"},{\"name\":\"pillars\",\"type\":\"array-&gt;int\",\"info\":\"list of chest weights placed on the pillars from left to right after the placement occurs\"},{\"name\":\"duration\",\"type\":\"int\",\"info\":\"the duration of the drag in milliseconds\"},{\"name\":\"left\",\"type\":\"int\",\"info\":\"weight of chest on the left side of the scale after the event occurs\"},{\"name\":\"right\",\"type\":\"int\",\"info\":\"weight of chest on the right side of the scale after the event occurs\"},{\"name\":\"source\",\"type\":\"string\",\"info\":\"“left”, “right”, “heavy”, “heavier”, “heaviest”, “resources” – where the chest was picked up from\"},{\"name\":\"event_count\",\"type\":\"int\",\"info\":\"session event counter\"},{\"name\":\"event_code\",\"type\":\"int\",\"info\":\"event class identifier\"}]</th>\n      <th>[{\"name\":\"game_time\",\"type\":\"int\",\"info\":\"millisecond count since start of game\"},{\"name\":\"weight\",\"type\":\"int\",\"info\":\"weight of the chest that was placed\"},{\"name\":\"destination\",\"type\":\"string\",\"info\":\"“left” or “right” – side of the scale where the chest was placed\"},{\"name\":\"pillars\",\"type\":\"array-&gt;int\",\"info\":\"list of chest weights placed on the pillars from left to right after the placement occurs\"},{\"name\":\"left\",\"type\":\"int\",\"info\":\"weight of chest on the left side of the scale after the event occurs\"},{\"name\":\"right\",\"type\":\"int\",\"info\":\"weight of chest on the right side of the scale after the event occurs\"},{\"name\":\"coordinates\",\"type\":\"object\",\"info\":\"the game screen coordinates of the placement\\ndictionary:\\n{“x”: integer, “y”: integer, “stage_width”: integer, “stage_height”: integer}\"},{\"name\":\"source\",\"type\":\"string\",\"info\":\"“left”, “right”, “heavy”, “heavier”, “heaviest”, “resources” – where the chest was picked up from\"},{\"name\":\"duration\",\"type\":\"int\",\"info\":\"the duration of the drag in milliseconds\"},{\"name\":\"event_count\",\"type\":\"int\",\"info\":\"session event counter\"},{\"name\":\"event_code\",\"type\":\"int\",\"info\":\"event class identifier\"}]</th>\n      <th>[{\"name\":\"game_time\",\"type\":\"int\",\"info\":\"millisecond count since start of game\"},{\"name\":\"weight\",\"type\":\"int\",\"info\":\"weight of the chest that was placed\"},{\"name\":\"source\",\"type\":\"string\",\"info\":\"“left”, “right”, “heavy”, “heavier”, “heaviest”, or “resources” – location the chest was picked up from\"},{\"name\":\"coordinates\",\"type\":\"object\",\"info\":\"the game screen coordinates of the mouse click\\ndictionary:\\n{“x”: integer, “y”: integer, “stage_width”: integer, “stage_height”: integer}\"},{\"name\":\"duration\",\"type\":\"int\",\"info\":\"the duration of the drag in milliseconds\"},{\"name\":\"event_count\",\"type\":\"int\",\"info\":\"session event counter\"},{\"name\":\"event_code\",\"type\":\"int\",\"info\":\"event class identifier\"}]</th>\n      <th>[{\"name\":\"game_time\",\"type\":\"int\",\"info\":\"millisecond count since start of gamemillisecond count since start of game\"},{\"name\":\"round\",\"type\":\"int\",\"info\":\"number of the current round when the event takes place or 0 if no round\"},{\"name\":\"session_duration\",\"type\":\"int\",\"info\":\"millisecond count since start of game\"},{\"name\":\"exit_type\",\"type\":\"string\",\"info\":\"\\\"closed container\\\", \\\"game ended\\\", or browser exit/navigation\"},{\"name\":\"event_count\",\"type\":\"int\",\"info\":\"session event counter\"},{\"name\":\"event_code\",\"type\":\"int\",\"info\":\"event class identifier\"}]</th>\n    </tr>\n  </thead>\n  <tbody>\n    <tr>\n      <th>0</th>\n      <td>0</td>\n      <td>0</td>\n      <td>0</td>\n      <td>0</td>\n      <td>0</td>\n      <td>0</td>\n      <td>0</td>\n      <td>0</td>\n      <td>0</td>\n      <td>0</td>\n      <td>...</td>\n      <td>0</td>\n      <td>0</td>\n      <td>0</td>\n      <td>0</td>\n      <td>0</td>\n      <td>0</td>\n      <td>0</td>\n      <td>0</td>\n      <td>0</td>\n      <td>0</td>\n    </tr>\n    <tr>\n      <th>1</th>\n      <td>0</td>\n      <td>0</td>\n      <td>0</td>\n      <td>0</td>\n      <td>0</td>\n      <td>0</td>\n      <td>0</td>\n      <td>0</td>\n      <td>0</td>\n      <td>0</td>\n      <td>...</td>\n      <td>0</td>\n      <td>0</td>\n      <td>0</td>\n      <td>0</td>\n      <td>0</td>\n      <td>0</td>\n      <td>0</td>\n      <td>0</td>\n      <td>0</td>\n      <td>0</td>\n    </tr>\n    <tr>\n      <th>2</th>\n      <td>0</td>\n      <td>0</td>\n      <td>0</td>\n      <td>0</td>\n      <td>0</td>\n      <td>0</td>\n      <td>0</td>\n      <td>0</td>\n      <td>0</td>\n      <td>0</td>\n      <td>...</td>\n      <td>0</td>\n      <td>0</td>\n      <td>0</td>\n      <td>0</td>\n      <td>0</td>\n      <td>0</td>\n      <td>0</td>\n      <td>0</td>\n      <td>0</td>\n      <td>0</td>\n    </tr>\n    <tr>\n      <th>3</th>\n      <td>0</td>\n      <td>0</td>\n      <td>0</td>\n      <td>0</td>\n      <td>0</td>\n      <td>0</td>\n      <td>0</td>\n      <td>0</td>\n      <td>0</td>\n      <td>0</td>\n      <td>...</td>\n      <td>0</td>\n      <td>0</td>\n      <td>0</td>\n      <td>0</td>\n      <td>0</td>\n      <td>0</td>\n      <td>0</td>\n      <td>0</td>\n      <td>0</td>\n      <td>0</td>\n    </tr>\n    <tr>\n      <th>4</th>\n      <td>0</td>\n      <td>0</td>\n      <td>0</td>\n      <td>0</td>\n      <td>0</td>\n      <td>0</td>\n      <td>0</td>\n      <td>0</td>\n      <td>0</td>\n      <td>0</td>\n      <td>...</td>\n      <td>0</td>\n      <td>0</td>\n      <td>0</td>\n      <td>0</td>\n      <td>0</td>\n      <td>0</td>\n      <td>0</td>\n      <td>0</td>\n      <td>0</td>\n      <td>0</td>\n    </tr>\n    <tr>\n      <th>...</th>\n      <td>...</td>\n      <td>...</td>\n      <td>...</td>\n      <td>...</td>\n      <td>...</td>\n      <td>...</td>\n      <td>...</td>\n      <td>...</td>\n      <td>...</td>\n      <td>...</td>\n      <td>...</td>\n      <td>...</td>\n      <td>...</td>\n      <td>...</td>\n      <td>...</td>\n      <td>...</td>\n      <td>...</td>\n      <td>...</td>\n      <td>...</td>\n      <td>...</td>\n      <td>...</td>\n    </tr>\n    <tr>\n      <th>381</th>\n      <td>0</td>\n      <td>0</td>\n      <td>0</td>\n      <td>0</td>\n      <td>0</td>\n      <td>0</td>\n      <td>0</td>\n      <td>0</td>\n      <td>0</td>\n      <td>0</td>\n      <td>...</td>\n      <td>0</td>\n      <td>0</td>\n      <td>0</td>\n      <td>0</td>\n      <td>0</td>\n      <td>0</td>\n      <td>0</td>\n      <td>0</td>\n      <td>0</td>\n      <td>0</td>\n    </tr>\n    <tr>\n      <th>382</th>\n      <td>0</td>\n      <td>0</td>\n      <td>0</td>\n      <td>0</td>\n      <td>0</td>\n      <td>0</td>\n      <td>0</td>\n      <td>0</td>\n      <td>0</td>\n      <td>0</td>\n      <td>...</td>\n      <td>0</td>\n      <td>0</td>\n      <td>0</td>\n      <td>0</td>\n      <td>0</td>\n      <td>0</td>\n      <td>0</td>\n      <td>0</td>\n      <td>0</td>\n      <td>0</td>\n    </tr>\n    <tr>\n      <th>383</th>\n      <td>0</td>\n      <td>0</td>\n      <td>0</td>\n      <td>0</td>\n      <td>0</td>\n      <td>0</td>\n      <td>0</td>\n      <td>0</td>\n      <td>0</td>\n      <td>0</td>\n      <td>...</td>\n      <td>0</td>\n      <td>0</td>\n      <td>0</td>\n      <td>0</td>\n      <td>0</td>\n      <td>0</td>\n      <td>0</td>\n      <td>0</td>\n      <td>0</td>\n      <td>0</td>\n    </tr>\n    <tr>\n      <th>384</th>\n      <td>0</td>\n      <td>0</td>\n      <td>0</td>\n      <td>0</td>\n      <td>0</td>\n      <td>0</td>\n      <td>0</td>\n      <td>0</td>\n      <td>0</td>\n      <td>0</td>\n      <td>...</td>\n      <td>0</td>\n      <td>0</td>\n      <td>0</td>\n      <td>0</td>\n      <td>0</td>\n      <td>0</td>\n      <td>0</td>\n      <td>0</td>\n      <td>0</td>\n      <td>0</td>\n    </tr>\n    <tr>\n      <th>385</th>\n      <td>0</td>\n      <td>0</td>\n      <td>0</td>\n      <td>0</td>\n      <td>0</td>\n      <td>0</td>\n      <td>0</td>\n      <td>0</td>\n      <td>0</td>\n      <td>0</td>\n      <td>...</td>\n      <td>0</td>\n      <td>0</td>\n      <td>0</td>\n      <td>0</td>\n      <td>0</td>\n      <td>0</td>\n      <td>0</td>\n      <td>0</td>\n      <td>0</td>\n      <td>0</td>\n    </tr>\n  </tbody>\n</table>\n<p>386 rows × 191 columns</p>\n</div>"
     },
     "metadata": {},
     "execution_count": 4
    }
   ],
   "metadata": {},
   "execution_count": 4
  },
  {
   "source": [
    "len(specs)"
   ],
   "cell_type": "code",
   "outputs": [
    {
     "output_type": "execute_result",
     "data": {
      "text/plain": "386"
     },
     "metadata": {},
     "execution_count": 5
    }
   ],
   "metadata": {},
   "execution_count": 5
  },
  {
   "source": [
    "vectorizer = TfidfVectorizer()"
   ],
   "cell_type": "code",
   "outputs": [],
   "metadata": {},
   "execution_count": 6
  },
  {
   "source": [
    "X = vectorizer.fit_transform(specs['info'].values)"
   ],
   "cell_type": "code",
   "outputs": [],
   "metadata": {},
   "execution_count": 7
  },
  {
   "source": [
    "X.shape"
   ],
   "cell_type": "code",
   "outputs": [
    {
     "output_type": "execute_result",
     "data": {
      "text/plain": "(386, 443)"
     },
     "metadata": {},
     "execution_count": 8
    }
   ],
   "metadata": {},
   "execution_count": 8
  },
  {
   "source": [
    "vectorizer.get_feature_names()[0:10]"
   ],
   "cell_type": "code",
   "outputs": [
    {
     "output_type": "execute_result",
     "data": {
      "text/plain": "['3010',\n '3020',\n '3021',\n 'about',\n 'acceptable',\n 'accuracy',\n 'action',\n 'activity',\n 'actually',\n 'after']"
     },
     "metadata": {},
     "execution_count": 9
    }
   ],
   "metadata": {},
   "execution_count": 9
  },
  {
   "source": [
    "X.toarray()"
   ],
   "cell_type": "code",
   "outputs": [
    {
     "output_type": "execute_result",
     "data": {
      "text/plain": "array([[0.        , 0.        , 0.        , ..., 0.13042985, 0.20638076,\n        0.        ],\n       [0.        , 0.        , 0.        , ..., 0.        , 0.11247416,\n        0.        ],\n       [0.        , 0.        , 0.        , ..., 0.        , 0.        ,\n        0.        ],\n       ...,\n       [0.        , 0.        , 0.        , ..., 0.        , 0.        ,\n        0.        ],\n       [0.        , 0.        , 0.        , ..., 0.        , 0.        ,\n        0.        ],\n       [0.19987916, 0.        , 0.        , ..., 0.        , 0.        ,\n        0.        ]])"
     },
     "metadata": {},
     "execution_count": 10
    }
   ],
   "metadata": {},
   "execution_count": 10
  },
  {
   "source": [
    "clusters = KMeans(n_clusters=20, random_state=0).fit_predict(X.toarray())"
   ],
   "cell_type": "code",
   "outputs": [],
   "metadata": {},
   "execution_count": 11
  },
  {
   "source": [
    "clusters = ['event_' + str(i) for i in clusters]"
   ],
   "cell_type": "code",
   "outputs": [],
   "metadata": {},
   "execution_count": 12
  },
  {
   "source": [
    "specs['cluster'] = clusters"
   ],
   "cell_type": "code",
   "outputs": [],
   "metadata": {},
   "execution_count": 13
  },
  {
   "source": [
    "cluster_df = specs.set_index('event_id')['cluster']"
   ],
   "cell_type": "code",
   "outputs": [],
   "metadata": {},
   "execution_count": 14
  },
  {
   "source": [
    "cluster_df"
   ],
   "cell_type": "code",
   "outputs": [
    {
     "output_type": "execute_result",
     "data": {
      "text/plain": "event_id\n2b9272f4    event_15\ndf4fe8b6     event_5\n3babcb9b     event_0\n7f0836bf     event_0\nab3136ba     event_0\n              ...   \n29f54413    event_16\n06372577    event_16\n2a444e03    event_12\n9e6b7fb5    event_14\nd3640339     event_3\nName: cluster, Length: 386, dtype: object"
     },
     "metadata": {},
     "execution_count": 15
    }
   ],
   "metadata": {},
   "execution_count": 15
  },
  {
   "source": [
    "test = pd.read_csv('/code/data/raw/test.csv')"
   ],
   "cell_type": "code",
   "outputs": [],
   "metadata": {},
   "execution_count": 16
  },
  {
   "source": [
    "test.head()"
   ],
   "cell_type": "code",
   "outputs": [
    {
     "output_type": "execute_result",
     "data": {
      "text/plain": "   event_id      game_session                 timestamp  \\\n0  27253bdc  0ea9ecc81a565215  2019-09-10T16:50:24.910Z   \n1  27253bdc  c1ea43d8b8261d27  2019-09-10T16:50:55.503Z   \n2  27253bdc  7ed86c6b72e725e2  2019-09-10T16:51:51.805Z   \n3  27253bdc  7e516ace50e7fe67  2019-09-10T16:53:12.825Z   \n4  7d093bf9  a022c3f60ba547e7  2019-09-10T16:54:12.115Z   \n\n                                          event_data installation_id  \\\n0             {\"event_code\": 2000, \"event_count\": 1}        00abaee7   \n1             {\"event_code\": 2000, \"event_count\": 1}        00abaee7   \n2             {\"event_code\": 2000, \"event_count\": 1}        00abaee7   \n3             {\"event_code\": 2000, \"event_count\": 1}        00abaee7   \n4  {\"version\":\"1.0\",\"round\":0,\"event_count\":1,\"ga...        00abaee7   \n\n   event_count  event_code  game_time                    title  type  \\\n0            1        2000          0  Welcome to Lost Lagoon!  Clip   \n1            1        2000          0     Magma Peak - Level 1  Clip   \n2            1        2000          0     Magma Peak - Level 2  Clip   \n3            1        2000          0  Crystal Caves - Level 1  Clip   \n4            1        2000          0                Chow Time  Game   \n\n          world  \n0          NONE  \n1     MAGMAPEAK  \n2     MAGMAPEAK  \n3  CRYSTALCAVES  \n4  CRYSTALCAVES  ",
      "text/html": "<div>\n<style scoped>\n    .dataframe tbody tr th:only-of-type {\n        vertical-align: middle;\n    }\n\n    .dataframe tbody tr th {\n        vertical-align: top;\n    }\n\n    .dataframe thead th {\n        text-align: right;\n    }\n</style>\n<table border=\"1\" class=\"dataframe\">\n  <thead>\n    <tr style=\"text-align: right;\">\n      <th></th>\n      <th>event_id</th>\n      <th>game_session</th>\n      <th>timestamp</th>\n      <th>event_data</th>\n      <th>installation_id</th>\n      <th>event_count</th>\n      <th>event_code</th>\n      <th>game_time</th>\n      <th>title</th>\n      <th>type</th>\n      <th>world</th>\n    </tr>\n  </thead>\n  <tbody>\n    <tr>\n      <th>0</th>\n      <td>27253bdc</td>\n      <td>0ea9ecc81a565215</td>\n      <td>2019-09-10T16:50:24.910Z</td>\n      <td>{\"event_code\": 2000, \"event_count\": 1}</td>\n      <td>00abaee7</td>\n      <td>1</td>\n      <td>2000</td>\n      <td>0</td>\n      <td>Welcome to Lost Lagoon!</td>\n      <td>Clip</td>\n      <td>NONE</td>\n    </tr>\n    <tr>\n      <th>1</th>\n      <td>27253bdc</td>\n      <td>c1ea43d8b8261d27</td>\n      <td>2019-09-10T16:50:55.503Z</td>\n      <td>{\"event_code\": 2000, \"event_count\": 1}</td>\n      <td>00abaee7</td>\n      <td>1</td>\n      <td>2000</td>\n      <td>0</td>\n      <td>Magma Peak - Level 1</td>\n      <td>Clip</td>\n      <td>MAGMAPEAK</td>\n    </tr>\n    <tr>\n      <th>2</th>\n      <td>27253bdc</td>\n      <td>7ed86c6b72e725e2</td>\n      <td>2019-09-10T16:51:51.805Z</td>\n      <td>{\"event_code\": 2000, \"event_count\": 1}</td>\n      <td>00abaee7</td>\n      <td>1</td>\n      <td>2000</td>\n      <td>0</td>\n      <td>Magma Peak - Level 2</td>\n      <td>Clip</td>\n      <td>MAGMAPEAK</td>\n    </tr>\n    <tr>\n      <th>3</th>\n      <td>27253bdc</td>\n      <td>7e516ace50e7fe67</td>\n      <td>2019-09-10T16:53:12.825Z</td>\n      <td>{\"event_code\": 2000, \"event_count\": 1}</td>\n      <td>00abaee7</td>\n      <td>1</td>\n      <td>2000</td>\n      <td>0</td>\n      <td>Crystal Caves - Level 1</td>\n      <td>Clip</td>\n      <td>CRYSTALCAVES</td>\n    </tr>\n    <tr>\n      <th>4</th>\n      <td>7d093bf9</td>\n      <td>a022c3f60ba547e7</td>\n      <td>2019-09-10T16:54:12.115Z</td>\n      <td>{\"version\":\"1.0\",\"round\":0,\"event_count\":1,\"ga...</td>\n      <td>00abaee7</td>\n      <td>1</td>\n      <td>2000</td>\n      <td>0</td>\n      <td>Chow Time</td>\n      <td>Game</td>\n      <td>CRYSTALCAVES</td>\n    </tr>\n  </tbody>\n</table>\n</div>"
     },
     "metadata": {},
     "execution_count": 17
    }
   ],
   "metadata": {},
   "execution_count": 17
  },
  {
   "source": [
    "new_test = pd.merge(test, cluster_df,  left_on='event_id', right_index=True, indicator=True)"
   ],
   "cell_type": "code",
   "outputs": [],
   "metadata": {},
   "execution_count": 28
  },
  {
   "source": [
    "new_test.drop('event_id', axis=1, inplace=True)"
   ],
   "cell_type": "code",
   "outputs": [],
   "metadata": {},
   "execution_count": 29
  },
  {
   "source": [
    "new_test.head()"
   ],
   "cell_type": "code",
   "outputs": [
    {
     "output_type": "execute_result",
     "data": {
      "text/plain": "         game_session                 timestamp  \\\n0    0ea9ecc81a565215  2019-09-10T16:50:24.910Z   \n1    c1ea43d8b8261d27  2019-09-10T16:50:55.503Z   \n2    7ed86c6b72e725e2  2019-09-10T16:51:51.805Z   \n3    7e516ace50e7fe67  2019-09-10T16:53:12.825Z   \n163  1c203986674d7d9b  2019-09-10T16:56:39.003Z   \n\n                                 event_data installation_id  event_count  \\\n0    {\"event_code\": 2000, \"event_count\": 1}        00abaee7            1   \n1    {\"event_code\": 2000, \"event_count\": 1}        00abaee7            1   \n2    {\"event_code\": 2000, \"event_count\": 1}        00abaee7            1   \n3    {\"event_code\": 2000, \"event_count\": 1}        00abaee7            1   \n163  {\"event_code\": 2000, \"event_count\": 1}        00abaee7            1   \n\n     event_code  game_time                    title  type         world  \\\n0          2000          0  Welcome to Lost Lagoon!  Clip          NONE   \n1          2000          0     Magma Peak - Level 1  Clip     MAGMAPEAK   \n2          2000          0     Magma Peak - Level 2  Clip     MAGMAPEAK   \n3          2000          0  Crystal Caves - Level 1  Clip  CRYSTALCAVES   \n163        2000          0            Balancing Act  Clip  CRYSTALCAVES   \n\n      cluster _merge  \n0    event_12   both  \n1    event_12   both  \n2    event_12   both  \n3    event_12   both  \n163  event_12   both  ",
      "text/html": "<div>\n<style scoped>\n    .dataframe tbody tr th:only-of-type {\n        vertical-align: middle;\n    }\n\n    .dataframe tbody tr th {\n        vertical-align: top;\n    }\n\n    .dataframe thead th {\n        text-align: right;\n    }\n</style>\n<table border=\"1\" class=\"dataframe\">\n  <thead>\n    <tr style=\"text-align: right;\">\n      <th></th>\n      <th>game_session</th>\n      <th>timestamp</th>\n      <th>event_data</th>\n      <th>installation_id</th>\n      <th>event_count</th>\n      <th>event_code</th>\n      <th>game_time</th>\n      <th>title</th>\n      <th>type</th>\n      <th>world</th>\n      <th>cluster</th>\n      <th>_merge</th>\n    </tr>\n  </thead>\n  <tbody>\n    <tr>\n      <th>0</th>\n      <td>0ea9ecc81a565215</td>\n      <td>2019-09-10T16:50:24.910Z</td>\n      <td>{\"event_code\": 2000, \"event_count\": 1}</td>\n      <td>00abaee7</td>\n      <td>1</td>\n      <td>2000</td>\n      <td>0</td>\n      <td>Welcome to Lost Lagoon!</td>\n      <td>Clip</td>\n      <td>NONE</td>\n      <td>event_12</td>\n      <td>both</td>\n    </tr>\n    <tr>\n      <th>1</th>\n      <td>c1ea43d8b8261d27</td>\n      <td>2019-09-10T16:50:55.503Z</td>\n      <td>{\"event_code\": 2000, \"event_count\": 1}</td>\n      <td>00abaee7</td>\n      <td>1</td>\n      <td>2000</td>\n      <td>0</td>\n      <td>Magma Peak - Level 1</td>\n      <td>Clip</td>\n      <td>MAGMAPEAK</td>\n      <td>event_12</td>\n      <td>both</td>\n    </tr>\n    <tr>\n      <th>2</th>\n      <td>7ed86c6b72e725e2</td>\n      <td>2019-09-10T16:51:51.805Z</td>\n      <td>{\"event_code\": 2000, \"event_count\": 1}</td>\n      <td>00abaee7</td>\n      <td>1</td>\n      <td>2000</td>\n      <td>0</td>\n      <td>Magma Peak - Level 2</td>\n      <td>Clip</td>\n      <td>MAGMAPEAK</td>\n      <td>event_12</td>\n      <td>both</td>\n    </tr>\n    <tr>\n      <th>3</th>\n      <td>7e516ace50e7fe67</td>\n      <td>2019-09-10T16:53:12.825Z</td>\n      <td>{\"event_code\": 2000, \"event_count\": 1}</td>\n      <td>00abaee7</td>\n      <td>1</td>\n      <td>2000</td>\n      <td>0</td>\n      <td>Crystal Caves - Level 1</td>\n      <td>Clip</td>\n      <td>CRYSTALCAVES</td>\n      <td>event_12</td>\n      <td>both</td>\n    </tr>\n    <tr>\n      <th>163</th>\n      <td>1c203986674d7d9b</td>\n      <td>2019-09-10T16:56:39.003Z</td>\n      <td>{\"event_code\": 2000, \"event_count\": 1}</td>\n      <td>00abaee7</td>\n      <td>1</td>\n      <td>2000</td>\n      <td>0</td>\n      <td>Balancing Act</td>\n      <td>Clip</td>\n      <td>CRYSTALCAVES</td>\n      <td>event_12</td>\n      <td>both</td>\n    </tr>\n  </tbody>\n</table>\n</div>"
     },
     "metadata": {},
     "execution_count": 30
    }
   ],
   "metadata": {},
   "execution_count": 30
  },
  {
   "source": [
    "new_test = new_test.rename(columns={'cluster': 'event_id'})"
   ],
   "cell_type": "code",
   "outputs": [],
   "metadata": {},
   "execution_count": 21
  },
  {
   "source": [
    "new_test"
   ],
   "cell_type": "code",
   "outputs": [
    {
     "output_type": "execute_result",
     "data": {
      "text/plain": "            game_session                 timestamp  \\\n0       0ea9ecc81a565215  2019-09-10T16:50:24.910Z   \n1       c1ea43d8b8261d27  2019-09-10T16:50:55.503Z   \n2       7ed86c6b72e725e2  2019-09-10T16:51:51.805Z   \n3       7e516ace50e7fe67  2019-09-10T16:53:12.825Z   \n163     1c203986674d7d9b  2019-09-10T16:56:39.003Z   \n...                  ...                       ...   \n856665  0cea1e022bf35e98  2019-10-04T15:20:45.160Z   \n856670  0cea1e022bf35e98  2019-10-04T15:20:57.657Z   \n725120  53d15c3e3edafca9  2019-08-11T18:10:23.085Z   \n809381  b53eb30280d4c181  2019-09-25T16:08:04.065Z   \n734418  ca0040c1cb3ada19  2019-08-28T17:49:26.601Z   \n\n                                               event_data installation_id  \\\n0                  {\"event_code\": 2000, \"event_count\": 1}        00abaee7   \n1                  {\"event_code\": 2000, \"event_count\": 1}        00abaee7   \n2                  {\"event_code\": 2000, \"event_count\": 1}        00abaee7   \n3                  {\"event_code\": 2000, \"event_count\": 1}        00abaee7   \n163                {\"event_code\": 2000, \"event_count\": 1}        00abaee7   \n...                                                   ...             ...   \n856665  {\"dwell_time\":1937,\"object\":\"bottle_5\",\"round\"...        bbd98f65   \n856670  {\"dwell_time\":2725,\"object\":\"bottle_11\",\"round...        bbd98f65   \n725120  {\"dwell_time\":5800,\"object\":\"House5\",\"round\":1...        9aa5dcea   \n809381  {\"dwell_time\":54553,\"object\":\"House5\",\"round\":...        ad0f90e1   \n734418  {\"dwell_time\":9322,\"object\":\"WateringCan\",\"eve...        9c20c73b   \n\n        event_count  event_code  game_time                      title  \\\n0                 1        2000          0    Welcome to Lost Lagoon!   \n1                 1        2000          0       Magma Peak - Level 1   \n2                 1        2000          0       Magma Peak - Level 2   \n3                 1        2000          0    Crystal Caves - Level 1   \n163               1        2000          0              Balancing Act   \n...             ...         ...        ...                        ...   \n856665           30        4080      48746   Bottle Filler (Activity)   \n856670           35        4080      61236   Bottle Filler (Activity)   \n725120           22        4080      24185           All Star Sorting   \n809381          115        4080     137110           All Star Sorting   \n734418           51        4080     112475  Flower Waterer (Activity)   \n\n            type         world  event_id  \n0           Clip          NONE  event_12  \n1           Clip     MAGMAPEAK  event_12  \n2           Clip     MAGMAPEAK  event_12  \n3           Clip  CRYSTALCAVES  event_12  \n163         Clip  CRYSTALCAVES  event_12  \n...          ...           ...       ...  \n856665  Activity     MAGMAPEAK   event_2  \n856670  Activity     MAGMAPEAK   event_2  \n725120      Game   TREETOPCITY   event_2  \n809381      Game   TREETOPCITY   event_2  \n734418  Activity   TREETOPCITY   event_2  \n\n[1156414 rows x 11 columns]",
      "text/html": "<div>\n<style scoped>\n    .dataframe tbody tr th:only-of-type {\n        vertical-align: middle;\n    }\n\n    .dataframe tbody tr th {\n        vertical-align: top;\n    }\n\n    .dataframe thead th {\n        text-align: right;\n    }\n</style>\n<table border=\"1\" class=\"dataframe\">\n  <thead>\n    <tr style=\"text-align: right;\">\n      <th></th>\n      <th>game_session</th>\n      <th>timestamp</th>\n      <th>event_data</th>\n      <th>installation_id</th>\n      <th>event_count</th>\n      <th>event_code</th>\n      <th>game_time</th>\n      <th>title</th>\n      <th>type</th>\n      <th>world</th>\n      <th>event_id</th>\n    </tr>\n  </thead>\n  <tbody>\n    <tr>\n      <th>0</th>\n      <td>0ea9ecc81a565215</td>\n      <td>2019-09-10T16:50:24.910Z</td>\n      <td>{\"event_code\": 2000, \"event_count\": 1}</td>\n      <td>00abaee7</td>\n      <td>1</td>\n      <td>2000</td>\n      <td>0</td>\n      <td>Welcome to Lost Lagoon!</td>\n      <td>Clip</td>\n      <td>NONE</td>\n      <td>event_12</td>\n    </tr>\n    <tr>\n      <th>1</th>\n      <td>c1ea43d8b8261d27</td>\n      <td>2019-09-10T16:50:55.503Z</td>\n      <td>{\"event_code\": 2000, \"event_count\": 1}</td>\n      <td>00abaee7</td>\n      <td>1</td>\n      <td>2000</td>\n      <td>0</td>\n      <td>Magma Peak - Level 1</td>\n      <td>Clip</td>\n      <td>MAGMAPEAK</td>\n      <td>event_12</td>\n    </tr>\n    <tr>\n      <th>2</th>\n      <td>7ed86c6b72e725e2</td>\n      <td>2019-09-10T16:51:51.805Z</td>\n      <td>{\"event_code\": 2000, \"event_count\": 1}</td>\n      <td>00abaee7</td>\n      <td>1</td>\n      <td>2000</td>\n      <td>0</td>\n      <td>Magma Peak - Level 2</td>\n      <td>Clip</td>\n      <td>MAGMAPEAK</td>\n      <td>event_12</td>\n    </tr>\n    <tr>\n      <th>3</th>\n      <td>7e516ace50e7fe67</td>\n      <td>2019-09-10T16:53:12.825Z</td>\n      <td>{\"event_code\": 2000, \"event_count\": 1}</td>\n      <td>00abaee7</td>\n      <td>1</td>\n      <td>2000</td>\n      <td>0</td>\n      <td>Crystal Caves - Level 1</td>\n      <td>Clip</td>\n      <td>CRYSTALCAVES</td>\n      <td>event_12</td>\n    </tr>\n    <tr>\n      <th>163</th>\n      <td>1c203986674d7d9b</td>\n      <td>2019-09-10T16:56:39.003Z</td>\n      <td>{\"event_code\": 2000, \"event_count\": 1}</td>\n      <td>00abaee7</td>\n      <td>1</td>\n      <td>2000</td>\n      <td>0</td>\n      <td>Balancing Act</td>\n      <td>Clip</td>\n      <td>CRYSTALCAVES</td>\n      <td>event_12</td>\n    </tr>\n    <tr>\n      <th>...</th>\n      <td>...</td>\n      <td>...</td>\n      <td>...</td>\n      <td>...</td>\n      <td>...</td>\n      <td>...</td>\n      <td>...</td>\n      <td>...</td>\n      <td>...</td>\n      <td>...</td>\n      <td>...</td>\n    </tr>\n    <tr>\n      <th>856665</th>\n      <td>0cea1e022bf35e98</td>\n      <td>2019-10-04T15:20:45.160Z</td>\n      <td>{\"dwell_time\":1937,\"object\":\"bottle_5\",\"round\"...</td>\n      <td>bbd98f65</td>\n      <td>30</td>\n      <td>4080</td>\n      <td>48746</td>\n      <td>Bottle Filler (Activity)</td>\n      <td>Activity</td>\n      <td>MAGMAPEAK</td>\n      <td>event_2</td>\n    </tr>\n    <tr>\n      <th>856670</th>\n      <td>0cea1e022bf35e98</td>\n      <td>2019-10-04T15:20:57.657Z</td>\n      <td>{\"dwell_time\":2725,\"object\":\"bottle_11\",\"round...</td>\n      <td>bbd98f65</td>\n      <td>35</td>\n      <td>4080</td>\n      <td>61236</td>\n      <td>Bottle Filler (Activity)</td>\n      <td>Activity</td>\n      <td>MAGMAPEAK</td>\n      <td>event_2</td>\n    </tr>\n    <tr>\n      <th>725120</th>\n      <td>53d15c3e3edafca9</td>\n      <td>2019-08-11T18:10:23.085Z</td>\n      <td>{\"dwell_time\":5800,\"object\":\"House5\",\"round\":1...</td>\n      <td>9aa5dcea</td>\n      <td>22</td>\n      <td>4080</td>\n      <td>24185</td>\n      <td>All Star Sorting</td>\n      <td>Game</td>\n      <td>TREETOPCITY</td>\n      <td>event_2</td>\n    </tr>\n    <tr>\n      <th>809381</th>\n      <td>b53eb30280d4c181</td>\n      <td>2019-09-25T16:08:04.065Z</td>\n      <td>{\"dwell_time\":54553,\"object\":\"House5\",\"round\":...</td>\n      <td>ad0f90e1</td>\n      <td>115</td>\n      <td>4080</td>\n      <td>137110</td>\n      <td>All Star Sorting</td>\n      <td>Game</td>\n      <td>TREETOPCITY</td>\n      <td>event_2</td>\n    </tr>\n    <tr>\n      <th>734418</th>\n      <td>ca0040c1cb3ada19</td>\n      <td>2019-08-28T17:49:26.601Z</td>\n      <td>{\"dwell_time\":9322,\"object\":\"WateringCan\",\"eve...</td>\n      <td>9c20c73b</td>\n      <td>51</td>\n      <td>4080</td>\n      <td>112475</td>\n      <td>Flower Waterer (Activity)</td>\n      <td>Activity</td>\n      <td>TREETOPCITY</td>\n      <td>event_2</td>\n    </tr>\n  </tbody>\n</table>\n<p>1156414 rows × 11 columns</p>\n</div>"
     },
     "metadata": {},
     "execution_count": 24
    }
   ],
   "metadata": {},
   "execution_count": 24
  },
  {
   "source": [
    "new_test.reset_index()"
   ],
   "cell_type": "code",
   "outputs": [
    {
     "output_type": "execute_result",
     "data": {
      "text/plain": "          index      game_session                 timestamp  \\\n0             0  0ea9ecc81a565215  2019-09-10T16:50:24.910Z   \n1             1  c1ea43d8b8261d27  2019-09-10T16:50:55.503Z   \n2             2  7ed86c6b72e725e2  2019-09-10T16:51:51.805Z   \n3             3  7e516ace50e7fe67  2019-09-10T16:53:12.825Z   \n4           163  1c203986674d7d9b  2019-09-10T16:56:39.003Z   \n...         ...               ...                       ...   \n1156409  856665  0cea1e022bf35e98  2019-10-04T15:20:45.160Z   \n1156410  856670  0cea1e022bf35e98  2019-10-04T15:20:57.657Z   \n1156411  725120  53d15c3e3edafca9  2019-08-11T18:10:23.085Z   \n1156412  809381  b53eb30280d4c181  2019-09-25T16:08:04.065Z   \n1156413  734418  ca0040c1cb3ada19  2019-08-28T17:49:26.601Z   \n\n                                                event_data installation_id  \\\n0                   {\"event_code\": 2000, \"event_count\": 1}        00abaee7   \n1                   {\"event_code\": 2000, \"event_count\": 1}        00abaee7   \n2                   {\"event_code\": 2000, \"event_count\": 1}        00abaee7   \n3                   {\"event_code\": 2000, \"event_count\": 1}        00abaee7   \n4                   {\"event_code\": 2000, \"event_count\": 1}        00abaee7   \n...                                                    ...             ...   \n1156409  {\"dwell_time\":1937,\"object\":\"bottle_5\",\"round\"...        bbd98f65   \n1156410  {\"dwell_time\":2725,\"object\":\"bottle_11\",\"round...        bbd98f65   \n1156411  {\"dwell_time\":5800,\"object\":\"House5\",\"round\":1...        9aa5dcea   \n1156412  {\"dwell_time\":54553,\"object\":\"House5\",\"round\":...        ad0f90e1   \n1156413  {\"dwell_time\":9322,\"object\":\"WateringCan\",\"eve...        9c20c73b   \n\n         event_count  event_code  game_time                      title  \\\n0                  1        2000          0    Welcome to Lost Lagoon!   \n1                  1        2000          0       Magma Peak - Level 1   \n2                  1        2000          0       Magma Peak - Level 2   \n3                  1        2000          0    Crystal Caves - Level 1   \n4                  1        2000          0              Balancing Act   \n...              ...         ...        ...                        ...   \n1156409           30        4080      48746   Bottle Filler (Activity)   \n1156410           35        4080      61236   Bottle Filler (Activity)   \n1156411           22        4080      24185           All Star Sorting   \n1156412          115        4080     137110           All Star Sorting   \n1156413           51        4080     112475  Flower Waterer (Activity)   \n\n             type         world  event_id  \n0            Clip          NONE  event_12  \n1            Clip     MAGMAPEAK  event_12  \n2            Clip     MAGMAPEAK  event_12  \n3            Clip  CRYSTALCAVES  event_12  \n4            Clip  CRYSTALCAVES  event_12  \n...           ...           ...       ...  \n1156409  Activity     MAGMAPEAK   event_2  \n1156410  Activity     MAGMAPEAK   event_2  \n1156411      Game   TREETOPCITY   event_2  \n1156412      Game   TREETOPCITY   event_2  \n1156413  Activity   TREETOPCITY   event_2  \n\n[1156414 rows x 12 columns]",
      "text/html": "<div>\n<style scoped>\n    .dataframe tbody tr th:only-of-type {\n        vertical-align: middle;\n    }\n\n    .dataframe tbody tr th {\n        vertical-align: top;\n    }\n\n    .dataframe thead th {\n        text-align: right;\n    }\n</style>\n<table border=\"1\" class=\"dataframe\">\n  <thead>\n    <tr style=\"text-align: right;\">\n      <th></th>\n      <th>index</th>\n      <th>game_session</th>\n      <th>timestamp</th>\n      <th>event_data</th>\n      <th>installation_id</th>\n      <th>event_count</th>\n      <th>event_code</th>\n      <th>game_time</th>\n      <th>title</th>\n      <th>type</th>\n      <th>world</th>\n      <th>event_id</th>\n    </tr>\n  </thead>\n  <tbody>\n    <tr>\n      <th>0</th>\n      <td>0</td>\n      <td>0ea9ecc81a565215</td>\n      <td>2019-09-10T16:50:24.910Z</td>\n      <td>{\"event_code\": 2000, \"event_count\": 1}</td>\n      <td>00abaee7</td>\n      <td>1</td>\n      <td>2000</td>\n      <td>0</td>\n      <td>Welcome to Lost Lagoon!</td>\n      <td>Clip</td>\n      <td>NONE</td>\n      <td>event_12</td>\n    </tr>\n    <tr>\n      <th>1</th>\n      <td>1</td>\n      <td>c1ea43d8b8261d27</td>\n      <td>2019-09-10T16:50:55.503Z</td>\n      <td>{\"event_code\": 2000, \"event_count\": 1}</td>\n      <td>00abaee7</td>\n      <td>1</td>\n      <td>2000</td>\n      <td>0</td>\n      <td>Magma Peak - Level 1</td>\n      <td>Clip</td>\n      <td>MAGMAPEAK</td>\n      <td>event_12</td>\n    </tr>\n    <tr>\n      <th>2</th>\n      <td>2</td>\n      <td>7ed86c6b72e725e2</td>\n      <td>2019-09-10T16:51:51.805Z</td>\n      <td>{\"event_code\": 2000, \"event_count\": 1}</td>\n      <td>00abaee7</td>\n      <td>1</td>\n      <td>2000</td>\n      <td>0</td>\n      <td>Magma Peak - Level 2</td>\n      <td>Clip</td>\n      <td>MAGMAPEAK</td>\n      <td>event_12</td>\n    </tr>\n    <tr>\n      <th>3</th>\n      <td>3</td>\n      <td>7e516ace50e7fe67</td>\n      <td>2019-09-10T16:53:12.825Z</td>\n      <td>{\"event_code\": 2000, \"event_count\": 1}</td>\n      <td>00abaee7</td>\n      <td>1</td>\n      <td>2000</td>\n      <td>0</td>\n      <td>Crystal Caves - Level 1</td>\n      <td>Clip</td>\n      <td>CRYSTALCAVES</td>\n      <td>event_12</td>\n    </tr>\n    <tr>\n      <th>4</th>\n      <td>163</td>\n      <td>1c203986674d7d9b</td>\n      <td>2019-09-10T16:56:39.003Z</td>\n      <td>{\"event_code\": 2000, \"event_count\": 1}</td>\n      <td>00abaee7</td>\n      <td>1</td>\n      <td>2000</td>\n      <td>0</td>\n      <td>Balancing Act</td>\n      <td>Clip</td>\n      <td>CRYSTALCAVES</td>\n      <td>event_12</td>\n    </tr>\n    <tr>\n      <th>...</th>\n      <td>...</td>\n      <td>...</td>\n      <td>...</td>\n      <td>...</td>\n      <td>...</td>\n      <td>...</td>\n      <td>...</td>\n      <td>...</td>\n      <td>...</td>\n      <td>...</td>\n      <td>...</td>\n      <td>...</td>\n    </tr>\n    <tr>\n      <th>1156409</th>\n      <td>856665</td>\n      <td>0cea1e022bf35e98</td>\n      <td>2019-10-04T15:20:45.160Z</td>\n      <td>{\"dwell_time\":1937,\"object\":\"bottle_5\",\"round\"...</td>\n      <td>bbd98f65</td>\n      <td>30</td>\n      <td>4080</td>\n      <td>48746</td>\n      <td>Bottle Filler (Activity)</td>\n      <td>Activity</td>\n      <td>MAGMAPEAK</td>\n      <td>event_2</td>\n    </tr>\n    <tr>\n      <th>1156410</th>\n      <td>856670</td>\n      <td>0cea1e022bf35e98</td>\n      <td>2019-10-04T15:20:57.657Z</td>\n      <td>{\"dwell_time\":2725,\"object\":\"bottle_11\",\"round...</td>\n      <td>bbd98f65</td>\n      <td>35</td>\n      <td>4080</td>\n      <td>61236</td>\n      <td>Bottle Filler (Activity)</td>\n      <td>Activity</td>\n      <td>MAGMAPEAK</td>\n      <td>event_2</td>\n    </tr>\n    <tr>\n      <th>1156411</th>\n      <td>725120</td>\n      <td>53d15c3e3edafca9</td>\n      <td>2019-08-11T18:10:23.085Z</td>\n      <td>{\"dwell_time\":5800,\"object\":\"House5\",\"round\":1...</td>\n      <td>9aa5dcea</td>\n      <td>22</td>\n      <td>4080</td>\n      <td>24185</td>\n      <td>All Star Sorting</td>\n      <td>Game</td>\n      <td>TREETOPCITY</td>\n      <td>event_2</td>\n    </tr>\n    <tr>\n      <th>1156412</th>\n      <td>809381</td>\n      <td>b53eb30280d4c181</td>\n      <td>2019-09-25T16:08:04.065Z</td>\n      <td>{\"dwell_time\":54553,\"object\":\"House5\",\"round\":...</td>\n      <td>ad0f90e1</td>\n      <td>115</td>\n      <td>4080</td>\n      <td>137110</td>\n      <td>All Star Sorting</td>\n      <td>Game</td>\n      <td>TREETOPCITY</td>\n      <td>event_2</td>\n    </tr>\n    <tr>\n      <th>1156413</th>\n      <td>734418</td>\n      <td>ca0040c1cb3ada19</td>\n      <td>2019-08-28T17:49:26.601Z</td>\n      <td>{\"dwell_time\":9322,\"object\":\"WateringCan\",\"eve...</td>\n      <td>9c20c73b</td>\n      <td>51</td>\n      <td>4080</td>\n      <td>112475</td>\n      <td>Flower Waterer (Activity)</td>\n      <td>Activity</td>\n      <td>TREETOPCITY</td>\n      <td>event_2</td>\n    </tr>\n  </tbody>\n</table>\n<p>1156414 rows × 12 columns</p>\n</div>"
     },
     "metadata": {},
     "execution_count": 23
    }
   ],
   "metadata": {},
   "execution_count": 23
  },
  {
   "cell_type": "code",
   "execution_count": null,
   "metadata": {},
   "outputs": [],
   "source": []
  },
  {
   "source": [
    "vectorizer = TfidfVectorizer()"
   ],
   "cell_type": "code",
   "outputs": [],
   "metadata": {},
   "execution_count": 25
  },
  {
   "source": [
    "X = vectorizer.fit_transform(specs['args'].values)"
   ],
   "cell_type": "code",
   "outputs": [],
   "metadata": {},
   "execution_count": 26
  },
  {
   "source": [
    "vectorizer.get_feature_names()[0:10]\n",
    ""
   ],
   "cell_type": "code",
   "outputs": [
    {
     "output_type": "execute_result",
     "data": {
      "text/plain": "['1sec',\n 'about',\n 'activity',\n 'add',\n 'added',\n 'advance',\n 'after',\n 'already',\n 'amount',\n 'an']"
     },
     "metadata": {},
     "execution_count": 27
    }
   ],
   "metadata": {},
   "execution_count": 27
  },
  {
   "source": [
    "X.toarray()"
   ],
   "cell_type": "code",
   "outputs": [
    {
     "output_type": "execute_result",
     "data": {
      "text/plain": "array([[0., 0., 0., ..., 0., 0., 0.],\n       [0., 0., 0., ..., 0., 0., 0.],\n       [0., 0., 0., ..., 0., 0., 0.],\n       ...,\n       [0., 0., 0., ..., 0., 0., 0.],\n       [0., 0., 0., ..., 0., 0., 0.],\n       [0., 0., 0., ..., 0., 0., 0.]])"
     },
     "metadata": {},
     "execution_count": 30
    }
   ],
   "metadata": {},
   "execution_count": 30
  },
  {
   "cell_type": "code",
   "execution_count": null,
   "metadata": {},
   "outputs": [],
   "source": []
  }
 ]
}