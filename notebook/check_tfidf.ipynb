{
 "nbformat": 4,
 "nbformat_minor": 2,
 "metadata": {
  "language_info": {
   "name": "python",
   "codemirror_mode": {
    "name": "ipython",
    "version": 3
   },
   "version": "3.7.6-final"
  },
  "orig_nbformat": 2,
  "file_extension": ".py",
  "mimetype": "text/x-python",
  "name": "python",
  "npconvert_exporter": "python",
  "pygments_lexer": "ipython3",
  "version": 3,
  "kernelspec": {
   "name": "python37664bit9025878f636247c5ae672c7e619bf82e",
   "display_name": "Python 3.7.6 64-bit"
  }
 },
 "cells": [
  {
   "cell_type": "code",
   "execution_count": 29,
   "metadata": {},
   "outputs": [],
   "source": [
    "import numpy as np\n",
    "import pandas as pd\n",
    "from sklearn.feature_extraction.text import TfidfVectorizer\n",
    "from sklearn.cluster import KMeans"
   ]
  },
  {
   "cell_type": "code",
   "execution_count": 6,
   "metadata": {},
   "outputs": [],
   "source": [
    "specs = pd.read_csv('/code/data/raw/specs.csv')"
   ]
  },
  {
   "cell_type": "code",
   "execution_count": 9,
   "metadata": {},
   "outputs": [
    {
     "data": {
      "text/html": "<div>\n<style scoped>\n    .dataframe tbody tr th:only-of-type {\n        vertical-align: middle;\n    }\n\n    .dataframe tbody tr th {\n        vertical-align: top;\n    }\n\n    .dataframe thead th {\n        text-align: right;\n    }\n</style>\n<table border=\"1\" class=\"dataframe\">\n  <thead>\n    <tr style=\"text-align: right;\">\n      <th></th>\n      <th>event_id</th>\n      <th>info</th>\n      <th>args</th>\n    </tr>\n  </thead>\n  <tbody>\n    <tr>\n      <th>0</th>\n      <td>2b9272f4</td>\n      <td>The end of system-initiated feedback (Correct)...</td>\n      <td>[{\"name\":\"game_time\",\"type\":\"int\",\"info\":\"mill...</td>\n    </tr>\n    <tr>\n      <th>1</th>\n      <td>df4fe8b6</td>\n      <td>The end of system-initiated feedback (Incorrec...</td>\n      <td>[{\"name\":\"game_time\",\"type\":\"int\",\"info\":\"mill...</td>\n    </tr>\n    <tr>\n      <th>2</th>\n      <td>3babcb9b</td>\n      <td>The end of system-initiated instruction event ...</td>\n      <td>[{\"name\":\"game_time\",\"type\":\"int\",\"info\":\"mill...</td>\n    </tr>\n    <tr>\n      <th>3</th>\n      <td>7f0836bf</td>\n      <td>The end of system-initiated instruction event ...</td>\n      <td>[{\"name\":\"game_time\",\"type\":\"int\",\"info\":\"mill...</td>\n    </tr>\n    <tr>\n      <th>4</th>\n      <td>ab3136ba</td>\n      <td>The end of system-initiated instruction event ...</td>\n      <td>[{\"name\":\"game_time\",\"type\":\"int\",\"info\":\"mill...</td>\n    </tr>\n  </tbody>\n</table>\n</div>",
      "text/plain": "   event_id                                               info  \\\n0  2b9272f4  The end of system-initiated feedback (Correct)...   \n1  df4fe8b6  The end of system-initiated feedback (Incorrec...   \n2  3babcb9b  The end of system-initiated instruction event ...   \n3  7f0836bf  The end of system-initiated instruction event ...   \n4  ab3136ba  The end of system-initiated instruction event ...   \n\n                                                args  \n0  [{\"name\":\"game_time\",\"type\":\"int\",\"info\":\"mill...  \n1  [{\"name\":\"game_time\",\"type\":\"int\",\"info\":\"mill...  \n2  [{\"name\":\"game_time\",\"type\":\"int\",\"info\":\"mill...  \n3  [{\"name\":\"game_time\",\"type\":\"int\",\"info\":\"mill...  \n4  [{\"name\":\"game_time\",\"type\":\"int\",\"info\":\"mill...  "
     },
     "execution_count": 9,
     "metadata": {},
     "output_type": "execute_result"
    }
   ],
   "source": [
    "specs.head()"
   ]
  },
  {
   "cell_type": "code",
   "execution_count": 15,
   "metadata": {},
   "outputs": [
    {
     "data": {
      "text/plain": "386"
     },
     "execution_count": 15,
     "metadata": {},
     "output_type": "execute_result"
    }
   ],
   "source": [
    "len(specs)"
   ]
  },
  {
   "cell_type": "code",
   "execution_count": 10,
   "metadata": {},
   "outputs": [],
   "source": [
    "vectorizer = TfidfVectorizer()"
   ]
  },
  {
   "cell_type": "code",
   "execution_count": 12,
   "metadata": {},
   "outputs": [],
   "source": [
    "X = vectorizer.fit_transform(specs['info'].values)"
   ]
  },
  {
   "cell_type": "code",
   "execution_count": 14,
   "metadata": {},
   "outputs": [
    {
     "data": {
      "text/plain": "(386, 443)"
     },
     "execution_count": 14,
     "metadata": {},
     "output_type": "execute_result"
    }
   ],
   "source": [
    "X.shape"
   ]
  },
  {
   "cell_type": "code",
   "execution_count": 22,
   "metadata": {},
   "outputs": [
    {
     "data": {
      "text/plain": "['3010',\n '3020',\n '3021',\n 'about',\n 'acceptable',\n 'accuracy',\n 'action',\n 'activity',\n 'actually',\n 'after']"
     },
     "execution_count": 22,
     "metadata": {},
     "output_type": "execute_result"
    }
   ],
   "source": [
    "vectorizer.get_feature_names()[0:10]"
   ]
  },
  {
   "cell_type": "code",
   "execution_count": 28,
   "metadata": {},
   "outputs": [
    {
     "data": {
      "text/plain": "array([[0.        , 0.        , 0.        , ..., 0.13042985, 0.20638076,\n        0.        ],\n       [0.        , 0.        , 0.        , ..., 0.        , 0.11247416,\n        0.        ],\n       [0.        , 0.        , 0.        , ..., 0.        , 0.        ,\n        0.        ],\n       ...,\n       [0.        , 0.        , 0.        , ..., 0.        , 0.        ,\n        0.        ],\n       [0.        , 0.        , 0.        , ..., 0.        , 0.        ,\n        0.        ],\n       [0.19987916, 0.        , 0.        , ..., 0.        , 0.        ,\n        0.        ]])"
     },
     "execution_count": 28,
     "metadata": {},
     "output_type": "execute_result"
    }
   ],
   "source": [
    "X.toarray()"
   ]
  },
  {
   "cell_type": "code",
   "execution_count": 40,
   "metadata": {},
   "outputs": [],
   "source": [
    "clusters = KMeans(n_clusters=20, random_state=0).fit_predict(X.toarray())"
   ]
  },
  {
   "cell_type": "code",
   "execution_count": 62,
   "metadata": {},
   "outputs": [],
   "source": [
    "clusters = ['event_' + str(i) for i in clusters]"
   ]
  },
  {
   "cell_type": "code",
   "execution_count": null,
   "metadata": {},
   "outputs": [],
   "source": []
  },
  {
   "cell_type": "code",
   "execution_count": 63,
   "metadata": {},
   "outputs": [],
   "source": [
    "specs['cluster'] = clusters"
   ]
  },
  {
   "cell_type": "code",
   "execution_count": 67,
   "metadata": {},
   "outputs": [],
   "source": [
    "cluster_df = specs.set_index('event_id')['cluster']"
   ]
  },
  {
   "cell_type": "code",
   "execution_count": null,
   "metadata": {},
   "outputs": [],
   "source": [
    "cluster_df"
   ]
  },
  {
   "cell_type": "code",
   "execution_count": 65,
   "metadata": {},
   "outputs": [],
   "source": [
    "test = pd.read_csv('/code/data/raw/test.csv')"
   ]
  },
  {
   "cell_type": "code",
   "execution_count": 66,
   "metadata": {},
   "outputs": [
    {
     "data": {
      "text/html": "<div>\n<style scoped>\n    .dataframe tbody tr th:only-of-type {\n        vertical-align: middle;\n    }\n\n    .dataframe tbody tr th {\n        vertical-align: top;\n    }\n\n    .dataframe thead th {\n        text-align: right;\n    }\n</style>\n<table border=\"1\" class=\"dataframe\">\n  <thead>\n    <tr style=\"text-align: right;\">\n      <th></th>\n      <th>event_id</th>\n      <th>game_session</th>\n      <th>timestamp</th>\n      <th>event_data</th>\n      <th>installation_id</th>\n      <th>event_count</th>\n      <th>event_code</th>\n      <th>game_time</th>\n      <th>title</th>\n      <th>type</th>\n      <th>world</th>\n    </tr>\n  </thead>\n  <tbody>\n    <tr>\n      <th>0</th>\n      <td>27253bdc</td>\n      <td>0ea9ecc81a565215</td>\n      <td>2019-09-10T16:50:24.910Z</td>\n      <td>{\"event_code\": 2000, \"event_count\": 1}</td>\n      <td>00abaee7</td>\n      <td>1</td>\n      <td>2000</td>\n      <td>0</td>\n      <td>Welcome to Lost Lagoon!</td>\n      <td>Clip</td>\n      <td>NONE</td>\n    </tr>\n    <tr>\n      <th>1</th>\n      <td>27253bdc</td>\n      <td>c1ea43d8b8261d27</td>\n      <td>2019-09-10T16:50:55.503Z</td>\n      <td>{\"event_code\": 2000, \"event_count\": 1}</td>\n      <td>00abaee7</td>\n      <td>1</td>\n      <td>2000</td>\n      <td>0</td>\n      <td>Magma Peak - Level 1</td>\n      <td>Clip</td>\n      <td>MAGMAPEAK</td>\n    </tr>\n    <tr>\n      <th>2</th>\n      <td>27253bdc</td>\n      <td>7ed86c6b72e725e2</td>\n      <td>2019-09-10T16:51:51.805Z</td>\n      <td>{\"event_code\": 2000, \"event_count\": 1}</td>\n      <td>00abaee7</td>\n      <td>1</td>\n      <td>2000</td>\n      <td>0</td>\n      <td>Magma Peak - Level 2</td>\n      <td>Clip</td>\n      <td>MAGMAPEAK</td>\n    </tr>\n    <tr>\n      <th>3</th>\n      <td>27253bdc</td>\n      <td>7e516ace50e7fe67</td>\n      <td>2019-09-10T16:53:12.825Z</td>\n      <td>{\"event_code\": 2000, \"event_count\": 1}</td>\n      <td>00abaee7</td>\n      <td>1</td>\n      <td>2000</td>\n      <td>0</td>\n      <td>Crystal Caves - Level 1</td>\n      <td>Clip</td>\n      <td>CRYSTALCAVES</td>\n    </tr>\n    <tr>\n      <th>4</th>\n      <td>7d093bf9</td>\n      <td>a022c3f60ba547e7</td>\n      <td>2019-09-10T16:54:12.115Z</td>\n      <td>{\"version\":\"1.0\",\"round\":0,\"event_count\":1,\"ga...</td>\n      <td>00abaee7</td>\n      <td>1</td>\n      <td>2000</td>\n      <td>0</td>\n      <td>Chow Time</td>\n      <td>Game</td>\n      <td>CRYSTALCAVES</td>\n    </tr>\n  </tbody>\n</table>\n</div>",
      "text/plain": "   event_id      game_session                 timestamp  \\\n0  27253bdc  0ea9ecc81a565215  2019-09-10T16:50:24.910Z   \n1  27253bdc  c1ea43d8b8261d27  2019-09-10T16:50:55.503Z   \n2  27253bdc  7ed86c6b72e725e2  2019-09-10T16:51:51.805Z   \n3  27253bdc  7e516ace50e7fe67  2019-09-10T16:53:12.825Z   \n4  7d093bf9  a022c3f60ba547e7  2019-09-10T16:54:12.115Z   \n\n                                          event_data installation_id  \\\n0             {\"event_code\": 2000, \"event_count\": 1}        00abaee7   \n1             {\"event_code\": 2000, \"event_count\": 1}        00abaee7   \n2             {\"event_code\": 2000, \"event_count\": 1}        00abaee7   \n3             {\"event_code\": 2000, \"event_count\": 1}        00abaee7   \n4  {\"version\":\"1.0\",\"round\":0,\"event_count\":1,\"ga...        00abaee7   \n\n   event_count  event_code  game_time                    title  type  \\\n0            1        2000          0  Welcome to Lost Lagoon!  Clip   \n1            1        2000          0     Magma Peak - Level 1  Clip   \n2            1        2000          0     Magma Peak - Level 2  Clip   \n3            1        2000          0  Crystal Caves - Level 1  Clip   \n4            1        2000          0                Chow Time  Game   \n\n          world  \n0          NONE  \n1     MAGMAPEAK  \n2     MAGMAPEAK  \n3  CRYSTALCAVES  \n4  CRYSTALCAVES  "
     },
     "execution_count": 66,
     "metadata": {},
     "output_type": "execute_result"
    }
   ],
   "source": [
    "test.head()"
   ]
  },
  {
   "cell_type": "code",
   "execution_count": 80,
   "metadata": {},
   "outputs": [],
   "source": [
    "new_test = pd.merge(test, cluster_df,  left_on='event_id', right_index=True, sort=False, )"
   ]
  },
  {
   "source": [
    "new_test.drop('event_id', axis=1, inplace=True)"
   ],
   "cell_type": "code",
   "outputs": [],
   "metadata": {},
   "execution_count": 87
  },
  {
   "source": [
    "new_test.head()"
   ],
   "cell_type": "code",
   "outputs": [
    {
     "output_type": "execute_result",
     "data": {
      "text/plain": "         game_session                 timestamp  \\\n0    0ea9ecc81a565215  2019-09-10T16:50:24.910Z   \n1    c1ea43d8b8261d27  2019-09-10T16:50:55.503Z   \n2    7ed86c6b72e725e2  2019-09-10T16:51:51.805Z   \n3    7e516ace50e7fe67  2019-09-10T16:53:12.825Z   \n163  1c203986674d7d9b  2019-09-10T16:56:39.003Z   \n\n                                 event_data installation_id  event_count  \\\n0    {\"event_code\": 2000, \"event_count\": 1}        00abaee7            1   \n1    {\"event_code\": 2000, \"event_count\": 1}        00abaee7            1   \n2    {\"event_code\": 2000, \"event_count\": 1}        00abaee7            1   \n3    {\"event_code\": 2000, \"event_count\": 1}        00abaee7            1   \n163  {\"event_code\": 2000, \"event_count\": 1}        00abaee7            1   \n\n     event_code  game_time                    title  type         world  \\\n0          2000          0  Welcome to Lost Lagoon!  Clip          NONE   \n1          2000          0     Magma Peak - Level 1  Clip     MAGMAPEAK   \n2          2000          0     Magma Peak - Level 2  Clip     MAGMAPEAK   \n3          2000          0  Crystal Caves - Level 1  Clip  CRYSTALCAVES   \n163        2000          0            Balancing Act  Clip  CRYSTALCAVES   \n\n      cluster  \n0    event_12  \n1    event_12  \n2    event_12  \n3    event_12  \n163  event_12  ",
      "text/html": "<div>\n<style scoped>\n    .dataframe tbody tr th:only-of-type {\n        vertical-align: middle;\n    }\n\n    .dataframe tbody tr th {\n        vertical-align: top;\n    }\n\n    .dataframe thead th {\n        text-align: right;\n    }\n</style>\n<table border=\"1\" class=\"dataframe\">\n  <thead>\n    <tr style=\"text-align: right;\">\n      <th></th>\n      <th>game_session</th>\n      <th>timestamp</th>\n      <th>event_data</th>\n      <th>installation_id</th>\n      <th>event_count</th>\n      <th>event_code</th>\n      <th>game_time</th>\n      <th>title</th>\n      <th>type</th>\n      <th>world</th>\n      <th>cluster</th>\n    </tr>\n  </thead>\n  <tbody>\n    <tr>\n      <th>0</th>\n      <td>0ea9ecc81a565215</td>\n      <td>2019-09-10T16:50:24.910Z</td>\n      <td>{\"event_code\": 2000, \"event_count\": 1}</td>\n      <td>00abaee7</td>\n      <td>1</td>\n      <td>2000</td>\n      <td>0</td>\n      <td>Welcome to Lost Lagoon!</td>\n      <td>Clip</td>\n      <td>NONE</td>\n      <td>event_12</td>\n    </tr>\n    <tr>\n      <th>1</th>\n      <td>c1ea43d8b8261d27</td>\n      <td>2019-09-10T16:50:55.503Z</td>\n      <td>{\"event_code\": 2000, \"event_count\": 1}</td>\n      <td>00abaee7</td>\n      <td>1</td>\n      <td>2000</td>\n      <td>0</td>\n      <td>Magma Peak - Level 1</td>\n      <td>Clip</td>\n      <td>MAGMAPEAK</td>\n      <td>event_12</td>\n    </tr>\n    <tr>\n      <th>2</th>\n      <td>7ed86c6b72e725e2</td>\n      <td>2019-09-10T16:51:51.805Z</td>\n      <td>{\"event_code\": 2000, \"event_count\": 1}</td>\n      <td>00abaee7</td>\n      <td>1</td>\n      <td>2000</td>\n      <td>0</td>\n      <td>Magma Peak - Level 2</td>\n      <td>Clip</td>\n      <td>MAGMAPEAK</td>\n      <td>event_12</td>\n    </tr>\n    <tr>\n      <th>3</th>\n      <td>7e516ace50e7fe67</td>\n      <td>2019-09-10T16:53:12.825Z</td>\n      <td>{\"event_code\": 2000, \"event_count\": 1}</td>\n      <td>00abaee7</td>\n      <td>1</td>\n      <td>2000</td>\n      <td>0</td>\n      <td>Crystal Caves - Level 1</td>\n      <td>Clip</td>\n      <td>CRYSTALCAVES</td>\n      <td>event_12</td>\n    </tr>\n    <tr>\n      <th>163</th>\n      <td>1c203986674d7d9b</td>\n      <td>2019-09-10T16:56:39.003Z</td>\n      <td>{\"event_code\": 2000, \"event_count\": 1}</td>\n      <td>00abaee7</td>\n      <td>1</td>\n      <td>2000</td>\n      <td>0</td>\n      <td>Balancing Act</td>\n      <td>Clip</td>\n      <td>CRYSTALCAVES</td>\n      <td>event_12</td>\n    </tr>\n  </tbody>\n</table>\n</div>"
     },
     "metadata": {},
     "execution_count": 88
    }
   ],
   "metadata": {},
   "execution_count": 88
  },
  {
   "source": [
    "new_test = new_test.rename(columns={'cluster': 'event_id'})"
   ],
   "cell_type": "code",
   "outputs": [],
   "metadata": {},
   "execution_count": 91
  },
  {
   "source": [
    "new_test.head()"
   ],
   "cell_type": "code",
   "outputs": [
    {
     "output_type": "execute_result",
     "data": {
      "text/plain": "         game_session                 timestamp  \\\n0    0ea9ecc81a565215  2019-09-10T16:50:24.910Z   \n1    c1ea43d8b8261d27  2019-09-10T16:50:55.503Z   \n2    7ed86c6b72e725e2  2019-09-10T16:51:51.805Z   \n3    7e516ace50e7fe67  2019-09-10T16:53:12.825Z   \n163  1c203986674d7d9b  2019-09-10T16:56:39.003Z   \n\n                                 event_data installation_id  event_count  \\\n0    {\"event_code\": 2000, \"event_count\": 1}        00abaee7            1   \n1    {\"event_code\": 2000, \"event_count\": 1}        00abaee7            1   \n2    {\"event_code\": 2000, \"event_count\": 1}        00abaee7            1   \n3    {\"event_code\": 2000, \"event_count\": 1}        00abaee7            1   \n163  {\"event_code\": 2000, \"event_count\": 1}        00abaee7            1   \n\n     event_code  game_time                    title  type         world  \\\n0          2000          0  Welcome to Lost Lagoon!  Clip          NONE   \n1          2000          0     Magma Peak - Level 1  Clip     MAGMAPEAK   \n2          2000          0     Magma Peak - Level 2  Clip     MAGMAPEAK   \n3          2000          0  Crystal Caves - Level 1  Clip  CRYSTALCAVES   \n163        2000          0            Balancing Act  Clip  CRYSTALCAVES   \n\n     event_id  \n0    event_12  \n1    event_12  \n2    event_12  \n3    event_12  \n163  event_12  ",
      "text/html": "<div>\n<style scoped>\n    .dataframe tbody tr th:only-of-type {\n        vertical-align: middle;\n    }\n\n    .dataframe tbody tr th {\n        vertical-align: top;\n    }\n\n    .dataframe thead th {\n        text-align: right;\n    }\n</style>\n<table border=\"1\" class=\"dataframe\">\n  <thead>\n    <tr style=\"text-align: right;\">\n      <th></th>\n      <th>game_session</th>\n      <th>timestamp</th>\n      <th>event_data</th>\n      <th>installation_id</th>\n      <th>event_count</th>\n      <th>event_code</th>\n      <th>game_time</th>\n      <th>title</th>\n      <th>type</th>\n      <th>world</th>\n      <th>event_id</th>\n    </tr>\n  </thead>\n  <tbody>\n    <tr>\n      <th>0</th>\n      <td>0ea9ecc81a565215</td>\n      <td>2019-09-10T16:50:24.910Z</td>\n      <td>{\"event_code\": 2000, \"event_count\": 1}</td>\n      <td>00abaee7</td>\n      <td>1</td>\n      <td>2000</td>\n      <td>0</td>\n      <td>Welcome to Lost Lagoon!</td>\n      <td>Clip</td>\n      <td>NONE</td>\n      <td>event_12</td>\n    </tr>\n    <tr>\n      <th>1</th>\n      <td>c1ea43d8b8261d27</td>\n      <td>2019-09-10T16:50:55.503Z</td>\n      <td>{\"event_code\": 2000, \"event_count\": 1}</td>\n      <td>00abaee7</td>\n      <td>1</td>\n      <td>2000</td>\n      <td>0</td>\n      <td>Magma Peak - Level 1</td>\n      <td>Clip</td>\n      <td>MAGMAPEAK</td>\n      <td>event_12</td>\n    </tr>\n    <tr>\n      <th>2</th>\n      <td>7ed86c6b72e725e2</td>\n      <td>2019-09-10T16:51:51.805Z</td>\n      <td>{\"event_code\": 2000, \"event_count\": 1}</td>\n      <td>00abaee7</td>\n      <td>1</td>\n      <td>2000</td>\n      <td>0</td>\n      <td>Magma Peak - Level 2</td>\n      <td>Clip</td>\n      <td>MAGMAPEAK</td>\n      <td>event_12</td>\n    </tr>\n    <tr>\n      <th>3</th>\n      <td>7e516ace50e7fe67</td>\n      <td>2019-09-10T16:53:12.825Z</td>\n      <td>{\"event_code\": 2000, \"event_count\": 1}</td>\n      <td>00abaee7</td>\n      <td>1</td>\n      <td>2000</td>\n      <td>0</td>\n      <td>Crystal Caves - Level 1</td>\n      <td>Clip</td>\n      <td>CRYSTALCAVES</td>\n      <td>event_12</td>\n    </tr>\n    <tr>\n      <th>163</th>\n      <td>1c203986674d7d9b</td>\n      <td>2019-09-10T16:56:39.003Z</td>\n      <td>{\"event_code\": 2000, \"event_count\": 1}</td>\n      <td>00abaee7</td>\n      <td>1</td>\n      <td>2000</td>\n      <td>0</td>\n      <td>Balancing Act</td>\n      <td>Clip</td>\n      <td>CRYSTALCAVES</td>\n      <td>event_12</td>\n    </tr>\n  </tbody>\n</table>\n</div>"
     },
     "metadata": {},
     "execution_count": 92
    }
   ],
   "metadata": {},
   "execution_count": 92
  },
  {
   "cell_type": "code",
   "execution_count": 72,
   "metadata": {},
   "outputs": [
    {
     "data": {
      "text/plain": "event_id\n2b9272f4    event_15\ndf4fe8b6     event_5\n3babcb9b     event_0\n7f0836bf     event_0\nab3136ba     event_0\n              ...   \n29f54413    event_16\n06372577    event_16\n2a444e03    event_12\n9e6b7fb5    event_14\nd3640339     event_3\nName: cluster, Length: 386, dtype: object"
     },
     "execution_count": 72,
     "metadata": {},
     "output_type": "execute_result"
    }
   ],
   "source": []
  },
  {
   "cell_type": "code",
   "execution_count": null,
   "metadata": {},
   "outputs": [],
   "source": []
  }
 ]
}