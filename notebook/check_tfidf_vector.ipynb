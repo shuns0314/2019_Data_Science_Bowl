{
 "nbformat": 4,
 "nbformat_minor": 2,
 "metadata": {
  "language_info": {
   "name": "python",
   "codemirror_mode": {
    "name": "ipython",
    "version": 3
   },
   "version": "3.7.6-final"
  },
  "orig_nbformat": 2,
  "file_extension": ".py",
  "mimetype": "text/x-python",
  "name": "python",
  "npconvert_exporter": "python",
  "pygments_lexer": "ipython3",
  "version": 3,
  "kernelspec": {
   "name": "python37664bit9025878f636247c5ae672c7e619bf82e",
   "display_name": "Python 3.7.6 64-bit"
  }
 },
 "cells": [
  {
   "cell_type": "code",
   "execution_count": null,
   "metadata": {},
   "outputs": [],
   "source": []
  },
  {
   "cell_type": "code",
   "execution_count": null,
   "metadata": {},
   "outputs": [],
   "source": []
  },
  {
   "source": [
    "import numpy as np\n",
    "import pandas as pd\n",
    "from sklearn.feature_extraction.text import TfidfVectorizer\n",
    "from sklearn.cluster import KMeans"
   ],
   "cell_type": "code",
   "outputs": [],
   "metadata": {},
   "execution_count": 6
  },
  {
   "source": [
    "class EventClusterizer:\n",
    "    def __init__(self, info_cluster_num=10, args_cluster_num=8):\n",
    "        self.info_cluster_num = info_cluster_num\n",
    "        self.args_cluster_num = args_cluster_num\n",
    "        self.specs_df = pd.read_csv('/code/data/raw/specs.csv')\n",
    "\n",
    "    def process(self):\n",
    "        self.specs_df['info_clusters'] = self.vectorize(\n",
    "            columns='info', cluster_num=self.info_cluster_num)\n",
    "        self.specs_df['args_clusters'] = self.vectorize(\n",
    "            columns='args',  cluster_num=self.args_cluster_num)\n",
    "        self.specs_df = self.specs_df.set_index('event_id')\n",
    "        return self.specs_df[['info_clusters', 'args_clusters']]\n",
    "\n",
    "    def vectorize(self, columns, cluster_num):\n",
    "        vectorizer = TfidfVectorizer()\n",
    "        X = vectorizer.fit_transform(self.specs_df[columns].values)\n",
    "        clusters = KMeans(\n",
    "            n_clusters=cluster_num,\n",
    "            random_state=77,\n",
    "            ).fit_predict(X.toarray())\n",
    "        clusters = [f'{columns}_' + str(i) for i in clusters]\n",
    "        return clusters\n",
    ""
   ],
   "cell_type": "code",
   "outputs": [],
   "metadata": {},
   "execution_count": 7
  },
  {
   "source": [
    "clister = EventClusterizer()"
   ],
   "cell_type": "code",
   "outputs": [],
   "metadata": {},
   "execution_count": 8
  },
  {
   "source": [
    "clister.process()"
   ],
   "cell_type": "code",
   "outputs": [
    {
     "output_type": "execute_result",
     "data": {
      "text/plain": "         info_clusters args_clusters\nevent_id                            \n2b9272f4        info_2        args_2\ndf4fe8b6        info_2        args_2\n3babcb9b        info_3        args_2\n7f0836bf        info_3        args_2\nab3136ba        info_3        args_2\n...                ...           ...\n29f54413        info_6        args_7\n06372577        info_6        args_7\n2a444e03        info_7        args_7\n9e6b7fb5        info_8        args_7\nd3640339        info_4        args_7\n\n[386 rows x 2 columns]",
      "text/html": "<div>\n<style scoped>\n    .dataframe tbody tr th:only-of-type {\n        vertical-align: middle;\n    }\n\n    .dataframe tbody tr th {\n        vertical-align: top;\n    }\n\n    .dataframe thead th {\n        text-align: right;\n    }\n</style>\n<table border=\"1\" class=\"dataframe\">\n  <thead>\n    <tr style=\"text-align: right;\">\n      <th></th>\n      <th>info_clusters</th>\n      <th>args_clusters</th>\n    </tr>\n    <tr>\n      <th>event_id</th>\n      <th></th>\n      <th></th>\n    </tr>\n  </thead>\n  <tbody>\n    <tr>\n      <th>2b9272f4</th>\n      <td>info_2</td>\n      <td>args_2</td>\n    </tr>\n    <tr>\n      <th>df4fe8b6</th>\n      <td>info_2</td>\n      <td>args_2</td>\n    </tr>\n    <tr>\n      <th>3babcb9b</th>\n      <td>info_3</td>\n      <td>args_2</td>\n    </tr>\n    <tr>\n      <th>7f0836bf</th>\n      <td>info_3</td>\n      <td>args_2</td>\n    </tr>\n    <tr>\n      <th>ab3136ba</th>\n      <td>info_3</td>\n      <td>args_2</td>\n    </tr>\n    <tr>\n      <th>...</th>\n      <td>...</td>\n      <td>...</td>\n    </tr>\n    <tr>\n      <th>29f54413</th>\n      <td>info_6</td>\n      <td>args_7</td>\n    </tr>\n    <tr>\n      <th>06372577</th>\n      <td>info_6</td>\n      <td>args_7</td>\n    </tr>\n    <tr>\n      <th>2a444e03</th>\n      <td>info_7</td>\n      <td>args_7</td>\n    </tr>\n    <tr>\n      <th>9e6b7fb5</th>\n      <td>info_8</td>\n      <td>args_7</td>\n    </tr>\n    <tr>\n      <th>d3640339</th>\n      <td>info_4</td>\n      <td>args_7</td>\n    </tr>\n  </tbody>\n</table>\n<p>386 rows × 2 columns</p>\n</div>"
     },
     "metadata": {},
     "execution_count": 9
    }
   ],
   "metadata": {},
   "execution_count": 9
  },
  {
   "source": [
    "train_df = pd.read_csv('/code/data/raw/train.csv')\n",
    "test_df = pd.read_csv('/code/data/raw/test.csv')"
   ],
   "cell_type": "code",
   "outputs": [],
   "metadata": {},
   "execution_count": 10
  },
  {
   "source": [
    "event_clusterizer = EventClusterizer(\n",
    "        info_cluster_num=10, args_cluster_num=20\n",
    "        )\n",
    "event_cluster = event_clusterizer.process()\n",
    "train = pd.merge(train_df, event_cluster,  left_on='event_id', right_index=True).reset_index()\n",
    "# train.drop('event_id', axis=1, inplace=True)\n",
    "# train = train.rename(columns={'clusters': 'event_id'})\n",
    "\n",
    "test = pd.merge(test_df, event_cluster,  left_on='event_id', right_index=True).reset_index()"
   ],
   "cell_type": "code",
   "outputs": [],
   "metadata": {},
   "execution_count": 13
  },
  {
   "source": [
    "train.shape"
   ],
   "cell_type": "code",
   "outputs": [],
   "metadata": {},
   "execution_count": 0
  },
  {
   "source": [
    "train_df.shape"
   ],
   "cell_type": "code",
   "outputs": [],
   "metadata": {},
   "execution_count": 0
  },
  {
   "source": [
    "test.shape"
   ],
   "cell_type": "code",
   "outputs": [],
   "metadata": {},
   "execution_count": 0
  },
  {
   "source": [
    "test_df.shape"
   ],
   "cell_type": "code",
   "outputs": [],
   "metadata": {},
   "execution_count": 0
  },
  {
   "cell_type": "code",
   "execution_count": null,
   "metadata": {},
   "outputs": [],
   "source": []
  },
  {
   "cell_type": "code",
   "execution_count": null,
   "metadata": {},
   "outputs": [],
   "source": []
  }
 ]
}