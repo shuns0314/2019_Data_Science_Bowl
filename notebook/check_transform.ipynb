{
 "nbformat": 4,
 "nbformat_minor": 2,
 "metadata": {
  "language_info": {
   "name": "python",
   "codemirror_mode": {
    "name": "ipython",
    "version": 3
   },
   "version": "3.7.6-final"
  },
  "orig_nbformat": 2,
  "file_extension": ".py",
  "mimetype": "text/x-python",
  "name": "python",
  "npconvert_exporter": "python",
  "pygments_lexer": "ipython3",
  "version": 3,
  "kernelspec": {
   "name": "python37664bit9025878f636247c5ae672c7e619bf82e",
   "display_name": "Python 3.7.6 64-bit"
  }
 },
 "cells": [
  {
   "source": [
    "import pandas as pd\n",
    "import numpy as np"
   ],
   "cell_type": "code",
   "outputs": [],
   "metadata": {},
   "execution_count": 1
  },
  {
   "source": [
    "a = pd.read_csv('/code/test.csv', index_col=0)"
   ],
   "cell_type": "code",
   "outputs": [],
   "metadata": {},
   "execution_count": 31
  },
  {
   "source": [
    "a['2050']"
   ],
   "cell_type": "code",
   "outputs": [
    {
     "output_type": "execute_result",
     "data": {
      "text/plain": "0        6\n1        6\n2        6\n3        9\n4        9\n        ..\n17685    3\n17686    0\n17687    0\n17688    0\n17689    0\nName: 2050, Length: 17690, dtype: int64"
     },
     "metadata": {},
     "execution_count": 32
    }
   ],
   "metadata": {},
   "execution_count": 32
  },
  {
   "source": [
    "pd.DataFrame(columns=a).columns"
   ],
   "cell_type": "code",
   "outputs": [
    {
     "output_type": "execute_result",
     "data": {
      "text/plain": "Index([1, 2, '\\n3'], dtype='object')"
     },
     "metadata": {},
     "execution_count": 27
    }
   ],
   "metadata": {},
   "execution_count": 27
  },
  {
   "source": [
    "train = pd.read_csv('/code/data/processed/proceeded_train_20200119_001957.csv', index_col=0)\n",
    "test = pd.read_csv('/code/data/processed/proceeded_test_20200119_001957.csv', index_col=0)"
   ],
   "cell_type": "code",
   "outputs": [],
   "metadata": {},
   "execution_count": 2
  },
  {
   "source": [
    "EVENT_ID_LIST = [\"c51d8688\", \"d51b1749\", \"cf82af56\", \"30614231\", \"f93fc684\", \"1b54d27f\",\n",
    "                 \"a8a78786\", \"37ee8496\", \"51102b85\", \"2a444e03\", \"01ca3a3c\", \"acf5c23f\",\n",
    "                 \"86ba578b\", \"a8cc6fec\", \"160654fd\", \"65a38bf7\", \"c952eb01\", \"06372577\",\n",
    "                 \"d88e8f25\", \"0413e89d\", \"8d7e386c\", \"58a0de5c\", \"4bb2f698\", \"5be391b5\",\n",
    "                 \"ab4ec3a4\", \"b2dba42b\", \"2b9272f4\", \"7f0836bf\", \"5154fc30\", \"3afb49e6\",\n",
    "                 \"9ce586dd\", \"16dffff1\", \"2b058fe3\", \"a7640a16\", \"3bfd1a65\", \"bfc77bd6\",\n",
    "                 \"003cd2ee\", \"fbaf3456\", \"19967db1\", \"df4fe8b6\", \"5290eab1\", \"3bb91dda\",\n",
    "                 \"6f8106d9\", \"5f0eb72c\", \"5c2f29ca\", \"7d5c30a2\", \"90d848e0\", \"3babcb9b\",\n",
    "                 \"53c6e11a\", \"d9c005dd\", \"15eb4a7d\", \"15a43e5b\", \"f71c4741\", \"895865f3\",\n",
    "                 \"b5053438\", \"7da34a02\", \"a5e9da97\", \"a44b10dc\", \"17ca3959\", \"ab3136ba\",\n",
    "                 \"76babcde\", \"1375ccb7\", \"67439901\", \"363d3849\", \"bcceccc6\", \"90efca10\",\n",
    "                 \"a6d66e51\", \"90ea0bac\", \"7ab78247\", \"25fa8af4\", \"dcaede90\", \"65abac75\",\n",
    "                 \"15f99afc\", \"47f43a44\", \"8fee50e2\", \"51311d7a\", \"c6971acf\", \"56bcd38d\",\n",
    "                 \"c74f40cd\", \"d3268efa\", \"c189aaf2\", \"7ec0c298\", \"9e6b7fb5\", \"5c3d2b2f\",\n",
    "                 \"e4d32835\", \"0d1da71f\", \"abc5811c\", \"e37a2b78\", \"6d90d394\", \"3d63345e\",\n",
    "                 \"b012cd7f\", \"792530f8\", \"26a5a3dd\", \"d2e9262e\", \"598f4598\", \"00c73085\",\n",
    "                 \"7cf1bc53\", \"46b50ba8\", \"ecc36b7f\", \"363c86c9\", \"5859dfb6\", \"8ac7cce4\",\n",
    "                 \"ecc6157f\", \"daac11b0\", \"4a09ace1\", \"47026d5f\", \"9b4001e4\", \"67aa2ada\",\n",
    "                 \"f7e47413\", \"cf7638f3\", \"a2df0760\", \"e64e2cfd\", \"119b5b02\", \"1bb5fbdb\",\n",
    "                 \"1beb320a\", \"7423acbc\", \"14de4c5d\", \"587b5989\", \"828e68f9\", \"3d0b9317\",\n",
    "                 \"4b5efe37\", \"fcfdffb6\", \"a76029ee\", \"1575e76c\", \"bdf49a58\", \"b2e5b0f1\",\n",
    "                 \"bd701df8\", \"250513af\", \"6bf9e3e1\", \"7dfe6d8a\", \"9e34ea74\", \"6cf7d25c\",\n",
    "                 \"1cc7cfca\", \"e79f3763\", \"5b49460a\", \"37c53127\", \"ea296733\", \"b74258a0\",\n",
    "                 \"02a42007\", \"9b23e8ee\", \"bb3e370b\", \"6f4bd64e\", \"05ad839b\", \"611485c5\",\n",
    "                 \"a592d54e\", \"c7f7f0e1\", \"857f21c0\", \"6077cc36\", \"3dcdda7f\", \"5e3ea25a\",\n",
    "                 \"e7561dd2\", \"f6947f54\", \"9e4c8c7b\", \"8d748b58\", \"9de5e594\", \"c54cf6c5\",\n",
    "                 \"28520915\", \"9b01374f\", \"55115cbd\", \"1f19558b\", \"56cd3b43\", \"795e4a37\",\n",
    "                 \"83c6c409\", \"3ee399c3\", \"a8876db3\", \"30df3273\", \"77261ab5\", \"4901243f\",\n",
    "                 \"7040c096\", \"1af8be29\", \"f5b8c21a\", \"499edb7c\", \"6c930e6e\", \"1cf54632\",\n",
    "                 \"f56e0afc\", \"6c517a88\", \"d38c2fd7\", \"2ec694de\", \"562cec5f\", \"832735e1\",\n",
    "                 \"736f9581\", \"b1d5101d\", \"36fa3ebe\", \"3dfd4aa4\", \"1c178d24\", \"2dc29e21\",\n",
    "                 \"4c2ec19f\", \"38074c54\", \"ca11f653\", \"f32856e4\", \"89aace00\", \"29bdd9ba\",\n",
    "                 \"4ef8cdd3\", \"d2278a3b\", \"0330ab6a\", \"46cd75b4\", \"6f445b57\", \"5e812b27\",\n",
    "                 \"4e5fc6f5\", \"df4940d3\", \"33505eae\", \"f806dc10\", \"4a4c3d21\", \"cb6010f8\",\n",
    "                 \"022b4259\", \"99ea62f3\", \"461eace6\", \"ac92046e\", \"0a08139c\", \"fd20ea40\",\n",
    "                 \"ea321fb1\", \"e3ff61fb\", \"c7128948\", \"31973d56\", \"2c4e6db0\", \"b120f2ac\",\n",
    "                 \"731c0cbe\", \"d3f1e122\", \"9d4e7b25\", \"cb1178ad\", \"5de79a6a\", \"0d18d96c\",\n",
    "                 \"a8efe47b\", \"cdd22e43\", \"392e14df\", \"93edfe2e\", \"3ccd3f02\", \"b80e5e84\",\n",
    "                 \"262136f4\", \"a5be6304\", \"e57dd7af\", \"d3640339\", \"565a3990\", \"beb0a7b9\",\n",
    "                 \"884228c8\", \"bc8f2793\", \"73757a5e\", \"709b1251\", \"c7fe2a55\", \"3bf1cf26\",\n",
    "                 \"c58186bf\", \"ad148f58\", \"cfbd47c8\", \"6f4adc4b\", \"e694a35b\", \"222660ff\",\n",
    "                 \"0086365d\", \"3d8c61b0\", \"37db1c2f\", \"f50fc6c1\", \"8f094001\", \"2a512369\",\n",
    "                 \"7ad3efc6\", \"e4f1efe6\", \"8af75982\", \"08fd73f3\", \"a1e4395d\", \"3323d7e9\",\n",
    "                 \"47efca07\", \"5f5b2617\", \"6043a2b4\", \"7d093bf9\", \"907a054b\", \"5e109ec3\",\n",
    "                 \"cc5087a3\", \"8d84fa81\", \"4074bac2\", \"4d911100\", \"84b0e0c8\", \"45d01abe\",\n",
    "                 \"0db6d71d\", \"29f54413\", \"1325467d\", \"99abe2bb\", \"f3cd5473\", \"91561152\",\n",
    "                 \"dcb1663e\", \"f28c589a\", \"0ce40006\", \"7525289a\", \"17113b36\", \"29a42aea\",\n",
    "                 \"db02c830\", \"ad2fc29c\", \"d185d3ea\", \"37937459\", \"804ee27f\", \"28a4eb9a\",\n",
    "                 \"49ed92e9\", \"56817e2b\", \"86c924c4\", \"e5c9df6f\", \"b7dc8128\", \"3edf6747\",\n",
    "                 \"8b757ab8\", \"93b353f2\", \"a52b92d5\", \"9c5ef70c\", \"dcb55a27\", \"d06f75b5\",\n",
    "                 \"44cb4907\", \"c2baf0bd\", \"27253bdc\", \"a1bbe385\", \"2fb91ec1\", \"155f62a4\",\n",
    "                 \"ec138c1c\", \"c1cac9a2\", \"eb2c19cd\", \"3ddc79c3\", \"a0faea5d\", \"070a5291\",\n",
    "                 \"7fd1ac25\", \"69fdac0a\", \"28ed704e\", \"c277e121\", \"13f56524\", \"e720d930\",\n",
    "                 \"3393b68b\", \"f54238ee\", \"63f13dd7\", \"e9c52111\", \"763fc34e\", \"26fd2d99\",\n",
    "                 \"7961e599\", \"9d29771f\", \"84538528\", \"77ead60d\", \"3b2048ee\", \"923afab1\",\n",
    "                 \"3a4be871\", \"9ed8f6da\", \"74e5f8a7\", \"a1192f43\", \"e5734469\", \"d122731b\",\n",
    "                 \"04df9b66\", \"5348fd84\", \"92687c59\", \"532a2afb\", \"2dcad279\", \"77c76bc5\",\n",
    "                 \"71e712d8\", \"a16a373e\", \"3afde5dd\", \"d2659ab4\", \"88d4a5be\", \"6088b756\",\n",
    "                 \"85d1b0de\", \"08ff79ad\", \"15ba1109\", \"7372e1a5\", \"9ee1c98c\", \"71fe8f75\",\n",
    "                 \"6aeafed4\", \"756e5507\", \"d45ed6a1\", \"1996c610\", \"de26c3a6\", \"1340b8d7\",\n",
    "                 \"5d042115\", \"e7e44842\", \"2230fab4\", \"9554a50b\", \"4d6737eb\", \"bd612267\",\n",
    "                 \"3bb91ced\", \"28f975ea\", \"b7530680\", \"b88f38da\", \"5a848010\", \"85de926c\",\n",
    "                 \"c0415e5c\", \"a29c5338\", \"d88ca108\", \"16667cc5\", \"87d743c1\", \"d02b7a8e\",\n",
    "                 \"e04fb33d\", \"bbfe0445\", \"ecaab346\", \"48349b14\", \"5dc079d8\", \"e080a381\"]\n",
    "EVENT_CODE_LIST  = ['2050', '4100', '4230', '5000', '4235', '2060', '4110', '5010', '2070', '2075', '2080', '2081', '2083', '3110', '4010', '3120', '3121', '4020', '4021', '4022', '4025', '4030', '4031', '3010', '4035', '4040', '3020', '3021', '4045', '2000', '2010', '2020', '4070', '2025', '2030', '4080', '2035', \n",
    " '2040', '4090', '4220', '4095']\n",
    "TITLE_LIST = [\"All Star Sorting\",\"Welcome to Lost Lagoon!\",\"Scrub-A-Dub\",\"Costume Box\",\"Magma Peak - Level 1\",\"Bubble Bath\",\"Crystal Caves - Level 2\",\"Tree Top City - Level 3\",\"Slop Problem\",\"Happy Camel\",\"Dino Drink\",\"Watering Hole (Activity)\",\"Heavy Heavier Heaviest\",\"Honey Cake\",\"Crystal Caves - Level 1\",\"Air Show\",\"Chicken Balancer (Activity)\",\"Flower Waterer (Activity)\",\"Cart Balancer (Assessment)\",\"Mushroom Sorter (Assessment)\",\"Leaf Leader\",\"Dino Dive\",\"Pan Balance\",\"Cauldron Filler (Assessment)\",\"Treasure Map\",\"Crystals Rule\",\"Lifting Heavy Things\",\"Rulers\",\"Fireworks (Activity)\",\"Pirate's Tale\",\"12 Monkeys\",\"Balancing Act\",\"Bottle Filler (Activity)\",\"Chest Sorter (Assessment)\",\"Sandcastle Builder (Activity)\",\"Crystal Caves - Level 3\",\"Egg Dropper (Activity)\",\"Magma Peak - Level 2\",\"Tree Top City - Level 2\",\"Ordering Spheres\",\"Chow Time\",\"Bug Measurer (Activity)\",\"Bird Measurer (Assessment)\",\"Tree Top City - Level 1\"]\n",
    ""
   ],
   "cell_type": "code",
   "outputs": [],
   "metadata": {},
   "execution_count": 3
  },
  {
   "source": [
    "class PreprocessFeatures:\n",
    "\n",
    "    def process(self, df):\n",
    "        df['frequency_label'] = df.frequency.apply(lambda x: self.frequency_label_encoder(np.log1p(x)))\n",
    "        df['count_action_label'] = df.count_actions.apply(lambda x: self.bins_count_action_label_encoder(np.log1p(x)))\n",
    "        df['count_accuracy_label'] = df.count_accuracy.apply(lambda x: self.count_accuracy_label_encoder(x))\n",
    "        df['mean_accuracy_group_label'] = df.mean_accuracy_group.apply(lambda x: self.mean_accuracy_group_label_encoder(x))\n",
    "        \n",
    "        sum_type = df[['Game', 'Clip', 'Activity', 'Assessment']].sum(axis=1)\n",
    "        df['ratio_Game'] = df['Game']/sum_type\n",
    "        df['ratio_Clip'] = df['Clip']/sum_type\n",
    "        df['ratio_Activity'] = df['Activity']/sum_type\n",
    "        df['ratio_Assessment'] = df['Assessment']/sum_type\n",
    "\n",
    "        \"\"\"game_sessionごとではなく、instration_idごとのcountとか\"\"\"\n",
    "        # df['installation_session_count'] = df.groupby(['installation_id'])['Clip'].transform('count')\n",
    "        # df['installation_duration_mean'] = df.groupby(['installation_id'])['duration_mean'].transform('mean')\n",
    "        # df['installation_duration_std'] = df.groupby(['installation_id'])['duration_mean'].transform('std')\n",
    "        # df['installation_title_nunique'] = df.groupby(['installation_id'])['session_title'].transform('nunique')\n",
    "        # df['sum_event_code_count'] = df[[2050, 4100, 4230, 5000, 4235, 2060, 4110, 5010, 2070, 2075, 2080, 2081, 2083, 3110, 4010, 3120, 3121, 4020, 4021, \n",
    "        #                                 4022, 4025, 4030, 4031, 3010, 4035, 4040, 3020, 3021, 4045, 2000, 2010, 2020, 4070, 2025, 2030, 4080, 2035, \n",
    "        #                                 2040, 4090, 4220, 4095]].sum(axis=1)\n",
    "        df['sum_event_code_2000'] = df[['2050', '2060', '2070', '2075', '2080', '2081', '2083',\n",
    "                                        '2000', '2010', '2020', '2025', '2030', '2035', '2040']].sum(axis=1)\n",
    "        df['sum_event_code_3000'] = df[['3110', '3120', '3121',\n",
    "                                        '3010', '3020', '3021']].sum(axis=1)\n",
    "        df['sum_event_code_4000'] = df[['4100', '4230', '4235', '4110', '4010', '4020', '4021',\n",
    "                                        '4022', '4025', '4030', '4031', '4035', '4040', '4045',\n",
    "                                        '4070', '4080', '4090', '4220', '4095']].sum(axis=1)\n",
    "\n",
    "        df['event_id_non_zero_count'] = df.loc[:, EVENT_ID_LIST].apply(lambda x: len(x.to_numpy().nonzero()[0]), axis=1)\n",
    "        df['event_code_non_zero_count'] = df.loc[:, EVENT_CODE_LIST].apply(lambda x: len(x.to_numpy().nonzero()[0]), axis=1)\n",
    "        df['title_non_zero_count'] = df.loc[:, TITLE_LIST].apply(lambda x: len(x.to_numpy().nonzero()[0]), axis=1)\n",
    "        # df['good_comment_ratio'] = df['good_comment'] / df['description']\n",
    "\n",
    "        sum_event_code = df[['sum_event_code_2000', 'sum_event_code_3000', 'sum_event_code_4000']].sum(axis=1)\n",
    "        df['ratio_event_code_2000'] = df['sum_event_code_2000']/sum_event_code\n",
    "        df['ratio_event_code_3000'] = df['sum_event_code_3000']/sum_event_code\n",
    "        df['ratio_event_code_4000'] = df['sum_event_code_4000']/sum_event_code\n",
    "        \n",
    "        # df['installation_event_code_count_mean'] = df.groupby(['installation_id'])['sum_event_code_count'].transform('mean')\n",
    "        # df['installation_event_code_count_std'] = df.groupby(['installation_id'])['sum_event_code_count'].transform('std')\n",
    "        # df.drop('sum_event_code_count', axis=1, inplace=True)\n",
    "        \n",
    "        return df\n",
    "\n",
    "    def count_accuracy_label_encoder(self, x):\n",
    "        if x == 0:\n",
    "            y = 0\n",
    "        elif x > 0 and x <= 0.34:\n",
    "            y = 1\n",
    "        elif x > 0.34 and x <= 0.67:\n",
    "            y = 2\n",
    "        elif x > 0.67 and x < 1:\n",
    "            y = 3\n",
    "        elif x == 1:\n",
    "            y = 4\n",
    "        return y\n",
    "\n",
    "    def mean_accuracy_group_label_encoder(self, x):\n",
    "        if x == 0:\n",
    "            y = 0\n",
    "        elif x > 0 and x < 1.0:\n",
    "            y = 1\n",
    "        elif x >= 1.0 and x < 2.0:\n",
    "            y = 2\n",
    "        elif x >= 2.0 and x < 3.0:\n",
    "            y = 3\n",
    "        elif x == 3.0:\n",
    "            y = 4\n",
    "        return y\n",
    "\n",
    "    def bins_count_action_label_encoder(self, x):\n",
    "        if x < 1.0:\n",
    "            y = 0\n",
    "        elif x >= 1.0 and x < 2.0:\n",
    "            y = 1\n",
    "        elif x >= 2.0 and x < 3.0:\n",
    "            y = 2\n",
    "        elif x >= 3.0 and x < 4.0:\n",
    "            y = 3\n",
    "        elif x >= 4.0 and x < 5.0:\n",
    "            y = 4\n",
    "        elif x >= 5.0 and x < 6.0:\n",
    "            y = 5\n",
    "        elif x >= 6.0 and x < 7.0:\n",
    "            y = 6\n",
    "        elif x >= 7.0 and x < 8.0:\n",
    "            y = 7\n",
    "        elif x >= 8.0 and x < 9.0:\n",
    "            y = 8\n",
    "        else:\n",
    "            y = 9\n",
    "        return y\n",
    "\n",
    "    def frequency_label_encoder(self, x):\n",
    "        if x <= 0.1:\n",
    "            y = 0\n",
    "        elif x > 0.1 and x <= 0.2:\n",
    "            y = 1\n",
    "        elif x > 0.2 and x <= 0.3:\n",
    "            y = 2\n",
    "        elif x > 0.3 and x <= 0.4:\n",
    "            y = 3\n",
    "        elif x > 0.4 and x <= 0.5:\n",
    "            y = 4\n",
    "        elif x > 0.5 and x <= 1.0:\n",
    "            y=5\n",
    "        else:\n",
    "            y=6\n",
    "        return y"
   ],
   "cell_type": "code",
   "outputs": [],
   "metadata": {},
   "execution_count": 4
  },
  {
   "source": [
    "preprocess = PreprocessFeatures()"
   ],
   "cell_type": "code",
   "outputs": [],
   "metadata": {},
   "execution_count": 5
  },
  {
   "source": [
    "%time\n",
    "pro_train = preprocess.process(train)"
   ],
   "cell_type": "code",
   "outputs": [
    {
     "output_type": "stream",
     "name": "stdout",
     "text": "CPU times: user 1 µs, sys: 1 µs, total: 2 µs\nWall time: 4.29 µs\n/usr/local/lib/python3.7/site-packages/pandas/core/indexing.py:1418: FutureWarning: \nPassing list-likes to .loc or [] with any missing label will raise\nKeyError in the future, you can use .reindex() as an alternative.\n\nSee the documentation here:\nhttps://pandas.pydata.org/pandas-docs/stable/user_guide/indexing.html#deprecate-loc-reindex-listlike\n  return self._getitem_tuple(key)\n"
    }
   ],
   "metadata": {},
   "execution_count": 6
  },
  {
   "cell_type": "code",
   "execution_count": 7,
   "metadata": {},
   "outputs": [
    {
     "data": {
      "text/html": "<div>\n<style scoped>\n    .dataframe tbody tr th:only-of-type {\n        vertical-align: middle;\n    }\n\n    .dataframe tbody tr th {\n        vertical-align: top;\n    }\n\n    .dataframe thead th {\n        text-align: right;\n    }\n</style>\n<table border=\"1\" class=\"dataframe\">\n  <thead>\n    <tr style=\"text-align: right;\">\n      <th></th>\n      <th>Clip</th>\n      <th>Activity</th>\n      <th>Assessment</th>\n      <th>Game</th>\n      <th>session_title</th>\n      <th>count_correct_attempts</th>\n      <th>count_uncorrect_attempts</th>\n      <th>count_accuracy</th>\n      <th>acc_Cart Balancer (Assessment)</th>\n      <th>acc_Cauldron Filler (Assessment)</th>\n      <th>...</th>\n      <th>ratio_Assessment</th>\n      <th>sum_event_code_2000</th>\n      <th>sum_event_code_3000</th>\n      <th>sum_event_code_4000</th>\n      <th>event_id_non_zero_count</th>\n      <th>event_code_non_zero_count</th>\n      <th>title_non_zero_count</th>\n      <th>ratio_event_code_2000</th>\n      <th>ratio_event_code_3000</th>\n      <th>ratio_event_code_4000</th>\n    </tr>\n  </thead>\n  <tbody>\n    <tr>\n      <th>0</th>\n      <td>11</td>\n      <td>3</td>\n      <td>0</td>\n      <td>4</td>\n      <td>30</td>\n      <td>0</td>\n      <td>0</td>\n      <td>0.000000</td>\n      <td>-1.0</td>\n      <td>-1.000000</td>\n      <td>...</td>\n      <td>0.000000</td>\n      <td>79</td>\n      <td>188</td>\n      <td>380</td>\n      <td>56</td>\n      <td>24</td>\n      <td>15</td>\n      <td>0.122102</td>\n      <td>0.290572</td>\n      <td>0.587326</td>\n    </tr>\n    <tr>\n      <th>1</th>\n      <td>14</td>\n      <td>4</td>\n      <td>1</td>\n      <td>6</td>\n      <td>27</td>\n      <td>1</td>\n      <td>0</td>\n      <td>1.000000</td>\n      <td>-1.0</td>\n      <td>-1.000000</td>\n      <td>...</td>\n      <td>0.040000</td>\n      <td>101</td>\n      <td>503</td>\n      <td>539</td>\n      <td>107</td>\n      <td>31</td>\n      <td>22</td>\n      <td>0.088364</td>\n      <td>0.440070</td>\n      <td>0.471566</td>\n    </tr>\n    <tr>\n      <th>2</th>\n      <td>14</td>\n      <td>4</td>\n      <td>2</td>\n      <td>6</td>\n      <td>30</td>\n      <td>1</td>\n      <td>11</td>\n      <td>0.500000</td>\n      <td>-1.0</td>\n      <td>-1.000000</td>\n      <td>...</td>\n      <td>0.076923</td>\n      <td>103</td>\n      <td>529</td>\n      <td>598</td>\n      <td>117</td>\n      <td>31</td>\n      <td>23</td>\n      <td>0.083740</td>\n      <td>0.430081</td>\n      <td>0.486179</td>\n    </tr>\n    <tr>\n      <th>3</th>\n      <td>24</td>\n      <td>9</td>\n      <td>4</td>\n      <td>10</td>\n      <td>30</td>\n      <td>2</td>\n      <td>11</td>\n      <td>0.500000</td>\n      <td>-1.0</td>\n      <td>-1.000000</td>\n      <td>...</td>\n      <td>0.085106</td>\n      <td>196</td>\n      <td>807</td>\n      <td>1146</td>\n      <td>172</td>\n      <td>37</td>\n      <td>28</td>\n      <td>0.091205</td>\n      <td>0.375523</td>\n      <td>0.533271</td>\n    </tr>\n    <tr>\n      <th>4</th>\n      <td>28</td>\n      <td>10</td>\n      <td>5</td>\n      <td>13</td>\n      <td>27</td>\n      <td>3</td>\n      <td>12</td>\n      <td>0.500000</td>\n      <td>-1.0</td>\n      <td>-1.000000</td>\n      <td>...</td>\n      <td>0.089286</td>\n      <td>232</td>\n      <td>1086</td>\n      <td>1258</td>\n      <td>175</td>\n      <td>38</td>\n      <td>28</td>\n      <td>0.090062</td>\n      <td>0.421584</td>\n      <td>0.488354</td>\n    </tr>\n    <tr>\n      <th>...</th>\n      <td>...</td>\n      <td>...</td>\n      <td>...</td>\n      <td>...</td>\n      <td>...</td>\n      <td>...</td>\n      <td>...</td>\n      <td>...</td>\n      <td>...</td>\n      <td>...</td>\n      <td>...</td>\n      <td>...</td>\n      <td>...</td>\n      <td>...</td>\n      <td>...</td>\n      <td>...</td>\n      <td>...</td>\n      <td>...</td>\n      <td>...</td>\n      <td>...</td>\n      <td>...</td>\n    </tr>\n    <tr>\n      <th>17685</th>\n      <td>26</td>\n      <td>7</td>\n      <td>5</td>\n      <td>11</td>\n      <td>41</td>\n      <td>5</td>\n      <td>2</td>\n      <td>0.866667</td>\n      <td>1.0</td>\n      <td>1.000000</td>\n      <td>...</td>\n      <td>0.102041</td>\n      <td>205</td>\n      <td>689</td>\n      <td>1064</td>\n      <td>272</td>\n      <td>39</td>\n      <td>42</td>\n      <td>0.104699</td>\n      <td>0.351890</td>\n      <td>0.543412</td>\n    </tr>\n    <tr>\n      <th>17686</th>\n      <td>3</td>\n      <td>2</td>\n      <td>0</td>\n      <td>3</td>\n      <td>40</td>\n      <td>0</td>\n      <td>0</td>\n      <td>0.000000</td>\n      <td>-1.0</td>\n      <td>-1.000000</td>\n      <td>...</td>\n      <td>0.000000</td>\n      <td>82</td>\n      <td>265</td>\n      <td>541</td>\n      <td>68</td>\n      <td>28</td>\n      <td>9</td>\n      <td>0.092342</td>\n      <td>0.298423</td>\n      <td>0.609234</td>\n    </tr>\n    <tr>\n      <th>17687</th>\n      <td>11</td>\n      <td>3</td>\n      <td>0</td>\n      <td>4</td>\n      <td>40</td>\n      <td>0</td>\n      <td>0</td>\n      <td>0.000000</td>\n      <td>-1.0</td>\n      <td>-1.000000</td>\n      <td>...</td>\n      <td>0.000000</td>\n      <td>49</td>\n      <td>437</td>\n      <td>446</td>\n      <td>24</td>\n      <td>16</td>\n      <td>8</td>\n      <td>0.052575</td>\n      <td>0.468884</td>\n      <td>0.478541</td>\n    </tr>\n    <tr>\n      <th>17688</th>\n      <td>23</td>\n      <td>3</td>\n      <td>1</td>\n      <td>6</td>\n      <td>30</td>\n      <td>1</td>\n      <td>2</td>\n      <td>0.333333</td>\n      <td>-1.0</td>\n      <td>0.333333</td>\n      <td>...</td>\n      <td>0.030303</td>\n      <td>87</td>\n      <td>621</td>\n      <td>650</td>\n      <td>41</td>\n      <td>20</td>\n      <td>9</td>\n      <td>0.064065</td>\n      <td>0.457290</td>\n      <td>0.478645</td>\n    </tr>\n    <tr>\n      <th>17689</th>\n      <td>24</td>\n      <td>4</td>\n      <td>2</td>\n      <td>6</td>\n      <td>40</td>\n      <td>1</td>\n      <td>3</td>\n      <td>0.166667</td>\n      <td>-1.0</td>\n      <td>0.333333</td>\n      <td>...</td>\n      <td>0.055556</td>\n      <td>93</td>\n      <td>681</td>\n      <td>758</td>\n      <td>57</td>\n      <td>22</td>\n      <td>10</td>\n      <td>0.060705</td>\n      <td>0.444517</td>\n      <td>0.494778</td>\n    </tr>\n  </tbody>\n</table>\n<p>17690 rows × 583 columns</p>\n</div>",
      "text/plain": "       Clip  Activity  Assessment  Game  session_title  \\\n0        11         3           0     4             30   \n1        14         4           1     6             27   \n2        14         4           2     6             30   \n3        24         9           4    10             30   \n4        28        10           5    13             27   \n...     ...       ...         ...   ...            ...   \n17685    26         7           5    11             41   \n17686     3         2           0     3             40   \n17687    11         3           0     4             40   \n17688    23         3           1     6             30   \n17689    24         4           2     6             40   \n\n       count_correct_attempts  count_uncorrect_attempts  count_accuracy  \\\n0                           0                         0        0.000000   \n1                           1                         0        1.000000   \n2                           1                        11        0.500000   \n3                           2                        11        0.500000   \n4                           3                        12        0.500000   \n...                       ...                       ...             ...   \n17685                       5                         2        0.866667   \n17686                       0                         0        0.000000   \n17687                       0                         0        0.000000   \n17688                       1                         2        0.333333   \n17689                       1                         3        0.166667   \n\n       acc_Cart Balancer (Assessment)  acc_Cauldron Filler (Assessment)  ...  \\\n0                                -1.0                         -1.000000  ...   \n1                                -1.0                         -1.000000  ...   \n2                                -1.0                         -1.000000  ...   \n3                                -1.0                         -1.000000  ...   \n4                                -1.0                         -1.000000  ...   \n...                               ...                               ...  ...   \n17685                             1.0                          1.000000  ...   \n17686                            -1.0                         -1.000000  ...   \n17687                            -1.0                         -1.000000  ...   \n17688                            -1.0                          0.333333  ...   \n17689                            -1.0                          0.333333  ...   \n\n       ratio_Assessment  sum_event_code_2000  sum_event_code_3000  \\\n0              0.000000                   79                  188   \n1              0.040000                  101                  503   \n2              0.076923                  103                  529   \n3              0.085106                  196                  807   \n4              0.089286                  232                 1086   \n...                 ...                  ...                  ...   \n17685          0.102041                  205                  689   \n17686          0.000000                   82                  265   \n17687          0.000000                   49                  437   \n17688          0.030303                   87                  621   \n17689          0.055556                   93                  681   \n\n       sum_event_code_4000  event_id_non_zero_count  \\\n0                      380                       56   \n1                      539                      107   \n2                      598                      117   \n3                     1146                      172   \n4                     1258                      175   \n...                    ...                      ...   \n17685                 1064                      272   \n17686                  541                       68   \n17687                  446                       24   \n17688                  650                       41   \n17689                  758                       57   \n\n       event_code_non_zero_count  title_non_zero_count  ratio_event_code_2000  \\\n0                             24                    15               0.122102   \n1                             31                    22               0.088364   \n2                             31                    23               0.083740   \n3                             37                    28               0.091205   \n4                             38                    28               0.090062   \n...                          ...                   ...                    ...   \n17685                         39                    42               0.104699   \n17686                         28                     9               0.092342   \n17687                         16                     8               0.052575   \n17688                         20                     9               0.064065   \n17689                         22                    10               0.060705   \n\n       ratio_event_code_3000 ratio_event_code_4000  \n0                   0.290572              0.587326  \n1                   0.440070              0.471566  \n2                   0.430081              0.486179  \n3                   0.375523              0.533271  \n4                   0.421584              0.488354  \n...                      ...                   ...  \n17685               0.351890              0.543412  \n17686               0.298423              0.609234  \n17687               0.468884              0.478541  \n17688               0.457290              0.478645  \n17689               0.444517              0.494778  \n\n[17690 rows x 583 columns]"
     },
     "execution_count": 7,
     "metadata": {},
     "output_type": "execute_result"
    }
   ],
   "source": [
    "pro_train"
   ]
  },
  {
   "cell_type": "code",
   "execution_count": 8,
   "metadata": {},
   "outputs": [
    {
     "name": "stdout",
     "output_type": "stream",
     "text": "CPU times: user 2 µs, sys: 1 µs, total: 3 µs\nWall time: 4.53 µs\n"
    }
   ],
   "source": [
    "%time\n",
    "pro_test = preprocess.process(test)"
   ]
  },
  {
   "cell_type": "code",
   "execution_count": 9,
   "metadata": {},
   "outputs": [],
   "source": [
    "class PreprocessTime:\n",
    "\n",
    "    def process(self, df):\n",
    "        lank = 5\n",
    "        new_columns = [f'event_id_lank{i}' for i in range(lank)]\n",
    "        df[new_columns] = self.best_columns(df=df, lank=lank, columns=EVENT_ID_LIST)\n",
    "        df = df.drop(EVENT_ID_LIST, axis=1)\n",
    "\n",
    "        new_columns = [f'EVENT_CODE_LIST_lank{i}' for i in range(lank)]\n",
    "        df[new_columns] = self.best_columns(df=df, lank=lank, columns=EVENT_CODE_LIST)\n",
    "        df = df.drop(EVENT_CODE_LIST, axis=1)\n",
    "\n",
    "        new_columns = [f'TITLE_LIST_lank{i}' for i in range(lank)]\n",
    "        df[new_columns] = self.best_columns(df=df, lank=lank, columns=TITLE_LIST)\n",
    "        # df.drop(TITLE_LIST, axis=1, inplace=True)\n",
    "        # df.to_csv('initial_.csv')\n",
    "        # df = self.common_process(df, 'date', lank=3)\n",
    "        df = self.common_process(df, word_in_colums='hour', lank=3)\n",
    "        # df = self.common_process(df, 'month', lank=1)\n",
    "        df = self.common_process(df, word_in_colums='dayofweek', lank=1)\n",
    "\n",
    "        return df\n",
    "\n",
    "    def common_process(self, df, word_in_colums: str, lank: int):\n",
    "        columns = df.columns[df.columns.str.contains(word_in_colums, na=False)]\n",
    "        # df[f'mean_{word_in_colums}_count'] = df[columns].mean(axis=1)\n",
    "        df[f'std_{word_in_colums}_count'] = df[columns].std(axis=1)\n",
    "        df[f'non_zero_{word_in_colums}'] = (df[columns] == 0).sum(axis=1)\n",
    "        new_columns = [f'{word_in_colums}_lank{i}' for i in range(lank)]\n",
    "        print(new_columns)\n",
    "        df[new_columns] = self.best_columns(df=df, lank=lank, columns=columns)\n",
    "        df = df.drop(columns, axis=1)\n",
    "        return df\n",
    "\n",
    "    def best_columns(self, df, lank, columns):\n",
    "        df = df.loc[:, columns]\n",
    "        rename_columns = {date: i for i, date in enumerate(columns)}\n",
    "        df = df.rename(columns=rename_columns)\n",
    "        best_df = df.rank(axis=1, ascending=False).apply(\n",
    "            lambda x: pd.Series(list(x.sort_values()[0:lank].index)), axis=1\n",
    "            )\n",
    "        return best_df"
   ]
  },
  {
   "cell_type": "code",
   "execution_count": 10,
   "metadata": {},
   "outputs": [],
   "source": [
    "preprocess = PreprocessTime()"
   ]
  },
  {
   "cell_type": "code",
   "execution_count": 11,
   "metadata": {},
   "outputs": [
    {
     "name": "stdout",
     "output_type": "stream",
     "text": "['hour_lank0', 'hour_lank1', 'hour_lank2']\n['dayofweek_lank0']\nCPU times: user 52.4 s, sys: 215 ms, total: 52.7 s\nWall time: 52.7 s\n"
    }
   ],
   "source": [
    "%%time\n",
    "pro_train = preprocess.process(pro_train)"
   ]
  },
  {
   "cell_type": "code",
   "execution_count": 12,
   "metadata": {},
   "outputs": [
    {
     "name": "stdout",
     "output_type": "stream",
     "text": "CPU times: user 2 µs, sys: 0 ns, total: 2 µs\nWall time: 4.05 µs\n['hour_lank0', 'hour_lank1', 'hour_lank2']\n['dayofweek_lank0']\n"
    }
   ],
   "source": [
    "%%time\n",
    "pro_test = preprocess.process(pro_test)"
   ]
  },
  {
   "source": [
    "from sklearn.preprocessing import LabelEncoder\n",
    "class MutualPreprocessFeatures:\n",
    "    \n",
    "    def process(self, train: pd.DataFrame, test: pd.DataFrame):\n",
    "        # train, test, label = self.list_label_encoder(train, test, ['description_val'])\n",
    "        # train, test = self.frequency_encoder(train, test, label)\n",
    "        # train, test, label = self.list_label_encoder(train, test, ['frequency_label', 'description_val'])\n",
    "        # train, test = self.frequency_encoder(train, test, label)\n",
    "        train, test, label = self.list_label_encoder(train, test, ['mean_accuracy_group_label', 'description_val'])\n",
    "        # train, test = self.frequency_encoder(train, test, label)\n",
    "        # train, test, label = self.list_label_encoder(train, test, ['count_action_label', 'description_val'])\n",
    "        # train, test = self.frequency_encoder(train, test, label)\n",
    "        train, test, label = self.list_label_encoder(train, test, ['session_title', 'description_val'])\n",
    "        train, test = self.frequency_encoder(train, test, label)\n",
    "        train, test, label = self.list_label_encoder(train, test, ['session_title', 'count_action_label'])\n",
    "        # train, test = self.frequency_encoder(train, test, label)\n",
    "        train, test, label = self.list_label_encoder(train, test, ['session_title', 'count_accuracy_label'])\n",
    "        train, test = self.frequency_encoder(train, test, label)\n",
    "        train, test, label = self.list_label_encoder(train, test, ['session_title', 'mean_accuracy_group_label'])\n",
    "        train, test = self.frequency_encoder(train, test, label)\n",
    "        return train, test\n",
    "\n",
    "    def list_label_encoder(self, train, test, columns: list):\n",
    "        le = LabelEncoder()\n",
    "        train_description_val_session_title = train[columns].apply(lambda x: str([i for i in x]), axis=1)\n",
    "        test_description_val_session_title = test[columns].apply(lambda x: str([i for i in x]), axis=1)\n",
    "        le.fit(train_description_val_session_title)\n",
    "        le_dict = dict(zip(le.classes_, le.transform(le.classes_)))\n",
    "        label_name = '_'.join(columns)\n",
    "        label_name = f'label_{label_name}'\n",
    "        train[label_name] = train_description_val_session_title.apply(lambda x: le_dict.get(x, -1))\n",
    "        test[label_name] = test_description_val_session_title.apply(lambda x: le_dict.get(x, -1))\n",
    "        return train, test, label_name\n",
    "\n",
    "    def frequency_encoder(self, train, test, label_name):\n",
    "        freq = train[label_name].value_counts()\n",
    "        train[f'count_{label_name}'] = train[label_name].map(freq)\n",
    "        test[f'count_{label_name}'] = test[label_name].map(freq)\n",
    "        return train, test"
   ],
   "cell_type": "code",
   "outputs": [],
   "metadata": {},
   "execution_count": 18
  },
  {
   "source": [
    "mutual_preprocess = MutualPreprocessFeatures()"
   ],
   "cell_type": "code",
   "outputs": [],
   "metadata": {},
   "execution_count": 19
  },
  {
   "source": [
    "%%time\n",
    "last_train, last_test = mutual_preprocess.process(pro_train, pro_test)"
   ],
   "cell_type": "code",
   "outputs": [
    {
     "output_type": "stream",
     "name": "stdout",
     "text": "CPU times: user 1.38 s, sys: 0 ns, total: 1.38 s\nWall time: 1.38 s\n"
    }
   ],
   "metadata": {},
   "execution_count": 21
  },
  {
   "source": [
    "last_train.to_csv('proceed_train.csv')\n",
    "last_test.to_csv('proceed_test.csv')"
   ],
   "cell_type": "code",
   "outputs": [],
   "metadata": {},
   "execution_count": 22
  },
  {
   "cell_type": "code",
   "execution_count": null,
   "metadata": {},
   "outputs": [],
   "source": []
  },
  {
   "cell_type": "code",
   "execution_count": null,
   "metadata": {},
   "outputs": [],
   "source": []
  },
  {
   "cell_type": "code",
   "execution_count": null,
   "metadata": {},
   "outputs": [],
   "source": []
  },
  {
   "cell_type": "code",
   "execution_count": null,
   "metadata": {},
   "outputs": [],
   "source": []
  }
 ]
}