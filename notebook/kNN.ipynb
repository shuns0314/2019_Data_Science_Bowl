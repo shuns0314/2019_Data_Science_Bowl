{
 "nbformat": 4,
 "nbformat_minor": 2,
 "metadata": {
  "language_info": {
   "name": "python",
   "codemirror_mode": {
    "name": "ipython",
    "version": 3
   },
   "version": "3.7.6-final"
  },
  "orig_nbformat": 2,
  "file_extension": ".py",
  "mimetype": "text/x-python",
  "name": "python",
  "npconvert_exporter": "python",
  "pygments_lexer": "ipython3",
  "version": 3,
  "kernelspec": {
   "name": "python37664bit9025878f636247c5ae672c7e619bf82e",
   "display_name": "Python 3.7.6 64-bit"
  }
 },
 "cells": [
  {
   "cell_type": "code",
   "execution_count": 1,
   "metadata": {},
   "outputs": [],
   "source": [
    "import pandas as pd\n",
    "import numpy as np"
   ]
  },
  {
   "cell_type": "code",
   "execution_count": 2,
   "metadata": {},
   "outputs": [],
   "source": [
    "train = pd.read_csv('/code/data/processed/proceeded_train_20200116_102618.csv', index_col=0)\n",
    "test = pd.read_csv('/code/data/processed/proceeded_test_20200116_102618.csv', index_col=0)"
   ]
  },
  {
   "cell_type": "code",
   "execution_count": 3,
   "metadata": {},
   "outputs": [],
   "source": [
    "from sklearn.preprocessing import PowerTransformer\n",
    "\n",
    "\n",
    "EFFECTIVE_FEATURES = [\n",
    "    'session_title', 'label_session_title_count_accuracy_label',\n",
    "    'count_accuracy', 'label_session_title_count_action_label', '2000',\n",
    "    'mean_accuracy_group', '3afb49e6', 'acc_Bird Measurer (Assessment)',\n",
    "    'Clip', 'mean_game_round',\n",
    "    'label_mean_accuracy_group_label_description_val', 'good_comment_ratio',\n",
    "    '4070', 'acc_Chest Sorter (Assessment)', '7372e1a5',\n",
    "    'count_label_session_title_description_val', '04df9b66',\n",
    "    'label_session_title_description_val', '3020', 'args_6'\n",
    "    ]\n",
    "\n",
    "NUMERICAL_FEATURES = [\n",
    "    'args_6', 'count_accuracy', '2000', 'mean_accuracy_group', '3afb49e6',\n",
    "    'acc_Bird Measurer (Assessment)', 'Clip', 'mean_game_round',\n",
    "    'good_comment_ratio', '4070', 'acc_Chest Sorter (Assessment)', '7372e1a5',\n",
    "    'count_label_session_title_description_val', '04df9b66', '3020'\n",
    "    ]\n",
    "\n",
    "CATEGORICAL_FEATURES = [\n",
    "    'session_title', 'label_session_title_count_accuracy_label',\n",
    "    'label_session_title_count_action_label',\n",
    "    'label_mean_accuracy_group_label_description_val',\n",
    "    'label_session_title_description_val'\n",
    "    ]\n",
    "\n",
    "\n",
    "class PreprocessForNN:\n",
    "\n",
    "    def process(self, train: pd.DataFrame, test: pd.DataFrame):\n",
    "\n",
    "        train = train[EFFECTIVE_FEATURES]\n",
    "        test = test[EFFECTIVE_FEATURES]\n",
    "\n",
    "        # 数値データをBox-Cox変換\n",
    "        pt = PowerTransformer()\n",
    "        pt.fit(train[NUMERICAL_FEATURES])\n",
    "        train[NUMERICAL_FEATURES] = pt.transform(train[NUMERICAL_FEATURES])\n",
    "        test[NUMERICAL_FEATURES] = pt.transform(test[NUMERICAL_FEATURES])\n",
    "\n",
    "        # Category data を One hot encoding\n",
    "        all_df = pd.concat([train, test])\n",
    "        all_df = pd.get_dummies(all_df, columns=CATEGORICAL_FEATURES)\n",
    "        train = all_df.iloc[:train.shape[0], :].reset_index(drop=True)\n",
    "        test = all_df.iloc[:test.shape[0], :].reset_index(drop=True)\n",
    "\n",
    "        # 欠損値埋め\n",
    "        train = train.fillna(0)\n",
    "        test = test.fillna(0)\n",
    "\n",
    "        return train, test"
   ]
  },
  {
   "cell_type": "code",
   "execution_count": 4,
   "metadata": {},
   "outputs": [
    {
     "name": "stderr",
     "output_type": "stream",
     "text": "/root/.local/lib/python3.7/site-packages/ipykernel_launcher.py:40: SettingWithCopyWarning: \nA value is trying to be set on a copy of a slice from a DataFrame.\nTry using .loc[row_indexer,col_indexer] = value instead\n\nSee the caveats in the documentation: http://pandas.pydata.org/pandas-docs/stable/user_guide/indexing.html#returning-a-view-versus-a-copy\n/usr/local/lib/python3.7/site-packages/pandas/core/indexing.py:494: SettingWithCopyWarning: \nA value is trying to be set on a copy of a slice from a DataFrame.\nTry using .loc[row_indexer,col_indexer] = value instead\n\nSee the caveats in the documentation: http://pandas.pydata.org/pandas-docs/stable/user_guide/indexing.html#returning-a-view-versus-a-copy\n  self.obj[item] = s\n/root/.local/lib/python3.7/site-packages/ipykernel_launcher.py:41: SettingWithCopyWarning: \nA value is trying to be set on a copy of a slice from a DataFrame.\nTry using .loc[row_indexer,col_indexer] = value instead\n\nSee the caveats in the documentation: http://pandas.pydata.org/pandas-docs/stable/user_guide/indexing.html#returning-a-view-versus-a-copy\n/usr/local/lib/python3.7/site-packages/pandas/core/indexing.py:494: SettingWithCopyWarning: \nA value is trying to be set on a copy of a slice from a DataFrame.\nTry using .loc[row_indexer,col_indexer] = value instead\n\nSee the caveats in the documentation: http://pandas.pydata.org/pandas-docs/stable/user_guide/indexing.html#returning-a-view-versus-a-copy\n  self.obj[item] = s\n"
    }
   ],
   "source": [
    "preprocess = PreprocessForNN()\n",
    "train_x, test_x = preprocess.process(train, test)"
   ]
  },
  {
   "cell_type": "code",
   "execution_count": 5,
   "metadata": {},
   "outputs": [],
   "source": [
    "y = train.accuracy_group.values"
   ]
  },
  {
   "cell_type": "code",
   "execution_count": 6,
   "metadata": {},
   "outputs": [],
   "source": [
    "from sklearn.neighbors import KNeighborsRegressor\n",
    "from sklearn.model_selection import train_test_split"
   ]
  },
  {
   "cell_type": "code",
   "execution_count": 40,
   "metadata": {},
   "outputs": [],
   "source": [
    "knn = KNeighborsRegressor(n_neighbors=80)"
   ]
  },
  {
   "cell_type": "code",
   "execution_count": 41,
   "metadata": {},
   "outputs": [],
   "source": [
    "tra_x, val_x, tra_y, val_y = train_test_split(train_x, y)"
   ]
  },
  {
   "cell_type": "code",
   "execution_count": 42,
   "metadata": {},
   "outputs": [
    {
     "data": {
      "text/plain": "KNeighborsRegressor(algorithm='auto', leaf_size=30, metric='minkowski',\n                    metric_params=None, n_jobs=None, n_neighbors=80, p=2,\n                    weights='uniform')"
     },
     "execution_count": 42,
     "metadata": {},
     "output_type": "execute_result"
    }
   ],
   "source": [
    "knn.fit(tra_x, tra_y)"
   ]
  },
  {
   "cell_type": "code",
   "execution_count": 43,
   "metadata": {},
   "outputs": [],
   "source": [
    "pred = knn.predict(val_x)"
   ]
  },
  {
   "cell_type": "code",
   "execution_count": 44,
   "metadata": {},
   "outputs": [
    {
     "data": {
      "text/plain": "array([1.2125, 2.5875, 2.3125, ..., 1.8625, 2.325 , 1.5375])"
     },
     "execution_count": 44,
     "metadata": {},
     "output_type": "execute_result"
    }
   ],
   "source": [
    "pred"
   ]
  },
  {
   "cell_type": "code",
   "execution_count": 45,
   "metadata": {},
   "outputs": [],
   "source": [
    "PARAMS = {\n",
    "        'threshold_0': 1.12,\n",
    "        'threshold_1': 1.62,\n",
    "        'threshold_2': 2.20\n",
    "        }\n",
    "\n",
    "def threshold(x, params):\n",
    "    if x < params['threshold_0']:\n",
    "        y = 0\n",
    "    elif x < params['threshold_1']:\n",
    "        y = 1\n",
    "    elif x < params['threshold_2']:\n",
    "        y = 2\n",
    "    else:\n",
    "        y = 3\n",
    "    return y\n",
    "\n",
    "def qwk(a1, a2):\n",
    "    \"\"\"\n",
    "    Source:\n",
    "    https://www.kaggle.com/c/data-science-bowl-2019/discussion/114133#latest-660168\n",
    "\n",
    "    :param a1:\n",
    "    :param a2:\n",
    "    :param max_rat:\n",
    "    :return:\n",
    "    \"\"\"\n",
    "    max_rat = 3\n",
    "    a1 = np.asarray(a1, dtype=int)\n",
    "    a2 = np.asarray(a2, dtype=int)\n",
    "\n",
    "    hist1 = np.zeros((max_rat + 1, ))\n",
    "    hist2 = np.zeros((max_rat + 1, ))\n",
    "\n",
    "    o = 0\n",
    "    for k in range(a1.shape[0]):\n",
    "        i, j = a1[k], a2[k]\n",
    "        hist1[i] += 1\n",
    "        hist2[j] += 1\n",
    "        o += (i - j) * (i - j)\n",
    "\n",
    "    e = 0\n",
    "    for i in range(max_rat + 1):\n",
    "        for j in range(max_rat + 1):\n",
    "            e += hist1[i] * hist2[j] * (i - j) * (i - j)\n",
    "\n",
    "    e = e / a1.shape[0]\n",
    "\n",
    "    return 1 - o / e"
   ]
  },
  {
   "cell_type": "code",
   "execution_count": 48,
   "metadata": {},
   "outputs": [
    {
     "name": "stdout",
     "output_type": "stream",
     "text": "CPU times: user 11.9 ms, sys: 10 µs, total: 11.9 ms\nWall time: 11.7 ms\n"
    }
   ],
   "source": [
    "%%time\n",
    "func = np.frompyfunc(threshold, 2, 1)\n",
    "pred_class = pred\n",
    "loss = qwk(func(pred_class, PARAMS), val_y)"
   ]
  },
  {
   "cell_type": "code",
   "execution_count": 51,
   "metadata": {},
   "outputs": [
    {
     "name": "stdout",
     "output_type": "stream",
     "text": "CPU times: user 5.61 s, sys: 8 µs, total: 5.61 s\nWall time: 5.62 s\n"
    }
   ],
   "source": [
    "%%time\n",
    "tet_pred = knn.predict(test_x)"
   ]
  },
  {
   "cell_type": "code",
   "execution_count": 53,
   "metadata": {},
   "outputs": [],
   "source": [
    "concat_test = pd.concat([test_x,test_x,test_x,test_x,test_x])"
   ]
  },
  {
   "cell_type": "code",
   "execution_count": 54,
   "metadata": {},
   "outputs": [
    {
     "name": "stdout",
     "output_type": "stream",
     "text": "CPU times: user 28.3 s, sys: 18 µs, total: 28.3 s\nWall time: 28.4 s\n"
    }
   ],
   "source": [
    "%%time\n",
    "concat_test_pred = knn.predict(concat_test)\n"
   ]
  },
  {
   "cell_type": "code",
   "execution_count": null,
   "metadata": {},
   "outputs": [],
   "source": []
  },
  {
   "cell_type": "code",
   "execution_count": 47,
   "metadata": {},
   "outputs": [
    {
     "data": {
      "text/plain": "0.5322318435353558"
     },
     "execution_count": 47,
     "metadata": {},
     "output_type": "execute_result"
    }
   ],
   "source": [
    "loss"
   ]
  },
  {
   "cell_type": "code",
   "execution_count": null,
   "metadata": {},
   "outputs": [],
   "source": []
  }
 ]
}